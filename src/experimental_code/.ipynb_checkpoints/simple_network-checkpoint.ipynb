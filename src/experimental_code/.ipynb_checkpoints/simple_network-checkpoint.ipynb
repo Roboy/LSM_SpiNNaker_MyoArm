{
 "cells": [
  {
   "cell_type": "code",
   "execution_count": 1,
   "metadata": {
    "collapsed": false
   },
   "outputs": [
    {
     "name": "stdout",
     "output_type": "stream",
     "text": [
      "CSAConnector: libneurosim support not available in NEST.\n",
      "Falling back on PyNN's default CSAConnector.\n",
      "Please re-compile NEST using --with-libneurosim=PATH\n"
     ]
    },
    {
     "data": {
      "text/plain": [
       "0"
      ]
     },
     "execution_count": 1,
     "metadata": {},
     "output_type": "execute_result"
    }
   ],
   "source": [
    "%matplotlib inline\n",
    "import pyNN.nest as p\n",
    "from pyNN.random import NumpyRNG, RandomDistribution\n",
    "from pyNN.utility import Timer\n",
    "import matplotlib.pyplot as plt\n",
    "import pylab\n",
    "import numpy as np\n",
    "\n",
    "timer = Timer()\n",
    "p.setup(timestep=0.1) # 0.1ms "
   ]
  },
  {
   "cell_type": "code",
   "execution_count": 2,
   "metadata": {
    "collapsed": false
   },
   "outputs": [],
   "source": [
    "pop_1 = p.Population(1,p.Izhikevich, {}, label=\"pop_1\")\n",
    "pop_2 = p.Population(1,p.Izhikevich, {}, label=\"pop_2\")\n",
    "input_pop = p.Population(1, p.SpikeSourceArray, {'spike_times': [[3,6,9,12,20,20.5,28,30]]}, label='input')\n",
    "stat_syn = p.StaticSynapse(weight =40, delay=1)\n",
    "stat_syn_2 = p.StaticSynapse(weight =-10, delay=1)\n",
    "input_proj = p.Projection(input_pop, pop_1, p.OneToOneConnector(),synapse_type=stat_syn, receptor_type='excitatory')\n",
    "input_proj_2 = p.Projection(input_pop, pop_2, p.OneToOneConnector(),synapse_type=stat_syn_2, receptor_type='inhibitory')"
   ]
  },
  {
   "cell_type": "code",
   "execution_count": 3,
   "metadata": {
    "collapsed": false
   },
   "outputs": [],
   "source": [
    "input_pop.record(['spikes'])\n",
    "pop_1.record(['v','spikes'])\n",
    "pop_2.record(['v','spikes'])\n",
    "\n",
    "global sim_time\n",
    "sim_time=40\n",
    "p.run(sim_time)\n",
    "pop_1_data=pop_1.get_data()\n",
    "pop_2_data=pop_2.get_data()\n",
    "input_pop_data=input_pop.get_data()"
   ]
  },
  {
   "cell_type": "code",
   "execution_count": 4,
   "metadata": {
    "collapsed": false
   },
   "outputs": [
    {
     "data": {
      "text/plain": [
       "<matplotlib.figure.Figure at 0x7f8a981c8a90>"
      ]
     },
     "metadata": {},
     "output_type": "display_data"
    }
   ],
   "source": [
    "fig_settings = {\n",
    "    'lines.linewidth': 0.5,\n",
    "    'axes.linewidth': 0.5,\n",
    "    'axes.labelsize': 'small',\n",
    "    'legend.fontsize': 'small',\n",
    "    'font.size': 8\n",
    "}\n",
    "plt.rcParams.update(fig_settings)\n",
    "plt.figure(1, figsize=(6,8))\n",
    "def plot_spiketrains(segment,y_label):\n",
    "    i=0\n",
    "    for spiketrain in segment.spiketrains:\n",
    "        neuron_id =spiketrain.annotations['source_id']\n",
    "        if i==0:\n",
    "            first_neuron_id=neuron_id\n",
    "        i+=1\n",
    "        y = np.ones_like(spiketrain) * neuron_id\n",
    "        plt.plot(spiketrain, y, '.')\n",
    "        \n",
    "        print spiketrain\n",
    "        plt.ylabel(y_label)\n",
    "        plt.setp(plt.gca().get_xticklabels(), visible=False)\n",
    "    plt.axis([0, sim_time, first_neuron_id-1, neuron_id+1])\n",
    "        \n",
    "def plot_signal(signal, index, colour='b'):\n",
    "    label = \"Neuron %d\" % signal.annotations['source_ids'][index]\n",
    "    plt.plot(signal.times, signal[:, index], colour, label=label)\n",
    "    plt.ylabel(\"%s (%s)\" % (signal.name, signal.units._dimensionality.string))\n",
    "    plt.setp(plt.gca().get_xticklabels(), visible=False)\n",
    "    plt.legend()"
   ]
  },
  {
   "cell_type": "code",
   "execution_count": 5,
   "metadata": {
    "collapsed": false
   },
   "outputs": [
    {
     "name": "stdout",
     "output_type": "stream",
     "text": [
      "5\n",
      "[  3.9   6.9   9.9  12.9  20.9  21.4  28.9  30.9] ms\n",
      "[  5.6   8.6  11.7  14.8  22.5  31.   32.8] ms\n",
      "[] ms\n"
     ]
    },
    {
     "data": {
      "image/png": "[encoded data removed]",
      "text/plain": [
       "<matplotlib.figure.Figure at 0x7f8a981d6a50>"
      ]
     },
     "metadata": {},
     "output_type": "display_data"
    }
   ],
   "source": [
    "n_panels = sum(a.shape[1] for a in pop_1_data.segments[0].analogsignalarrays) + 3 \\\n",
    "            + sum(a.shape[1] for a in pop_2_data.segments[0].analogsignalarrays)\n",
    "print n_panels\n",
    "plt.subplot(n_panels, 1, 1)\n",
    "plot_spiketrains(input_pop_data.segments[0],'input_pop')\n",
    "plt.subplot(n_panels, 1,2)\n",
    "plot_spiketrains(pop_1_data.segments[0],'pop_1')\n",
    "plt.subplot(n_panels, 1,3)\n",
    "plot_spiketrains(pop_2_data.segments[0],'pop_2')\n",
    "\n",
    "panel = 4\n",
    "for array in pop_1_data.segments[0].analogsignalarrays:\n",
    "    for i in range(array.shape[1]):\n",
    "        plt.subplot(n_panels, 1, panel)\n",
    "        plot_signal(array, i, colour='bg'[panel%2])\n",
    "        panel += 1\n",
    "for array in pop_2_data.segments[0].analogsignalarrays:\n",
    "    for i in range(array.shape[1]):\n",
    "        plt.subplot(n_panels, 1, panel)\n",
    "        plot_signal(array, i, colour='bg'[panel%2])\n",
    "        panel += 1\n",
    "plt.xlabel(\"time (%s)\" % array.times.units._dimensionality.string)\n",
    "plt.setp(plt.gca().get_xticklabels(), visible=True)\n",
    "\n",
    "plt.savefig(\"./plots/simple_network_2.png\")"
   ]
  },
  {
   "cell_type": "code",
   "execution_count": null,
   "metadata": {
    "collapsed": false
   },
   "outputs": [],
   "source": []
  },
  {
   "cell_type": "code",
   "execution_count": null,
   "metadata": {
    "collapsed": true
   },
   "outputs": [],
   "source": []
  },
  {
   "cell_type": "code",
   "execution_count": null,
   "metadata": {
    "collapsed": true
   },
   "outputs": [],
   "source": []
  }
 ],
 "metadata": {
  "kernelspec": {
   "display_name": "Python 2",
   "language": "python",
   "name": "python2"
  },
  "language_info": {
   "codemirror_mode": {
    "name": "ipython",
    "version": 2
   },
   "file_extension": ".py",
   "mimetype": "text/x-python",
   "name": "python",
   "nbconvert_exporter": "python",
   "pygments_lexer": "ipython2",
   "version": "2.7.12"
  }
 },
 "nbformat": 4,
 "nbformat_minor": 1
}
