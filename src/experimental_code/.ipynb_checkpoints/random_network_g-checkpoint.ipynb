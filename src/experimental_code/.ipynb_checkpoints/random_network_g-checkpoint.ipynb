{
 "cells": [
  {
   "cell_type": "code",
   "execution_count": 44,
   "metadata": {
    "collapsed": false
   },
   "outputs": [],
   "source": [
    "%matplotlib inline\n",
    "import pyNN.nest as p\n",
    "from pyNN.random import NumpyRNG, RandomDistribution\n",
    "from pyNN.utility import Timer\n",
    "import matplotlib.pyplot as plt\n",
    "import pylab\n",
    "import numpy as np\n",
    "\n",
    "timer = Timer()\n",
    "p.setup(timestep=0.1) # 0.1ms \n",
    "\n",
    "rngseed = 98766987\n",
    "parallel_safe = True\n",
    "rng = NumpyRNG(seed=rngseed, parallel_safe=parallel_safe)"
   ]
  },
  {
   "cell_type": "code",
   "execution_count": 45,
   "metadata": {
    "collapsed": false
   },
   "outputs": [
    {
     "name": "stdout",
     "output_type": "stream",
     "text": [
      "120 30\n"
     ]
    }
   ],
   "source": [
    "n = 150          # number of cells\n",
    "exc_ratio = 0.8   # ratio of excitatory neurons\n",
    "\n",
    "n_exc = int(round(n*0.8))\n",
    "n_inh = n-n_exc\n",
    "print n_exc, n_inh\n",
    "\n",
    "\n",
    "celltype = p.Izhikevich()\n",
    "# default_parameters = {'a': 0.02, 'c': -65.0, 'd': 2.0, 'b': 0.2, 'i_offset': 0.0}¶\n",
    "#  default_initial_values = {'v': -70.0, 'u': -14.0}¶\n",
    "exc_cells = p.Population(n_exc, celltype, label=\"Excitatory_Cells\")\n",
    "inh_cells = p.Population(n_inh, celltype, label=\"Inhibitory_Cells\")\n",
    "\n",
    "poisson_input = p.SpikeSourcePoisson(rate = 10, start = 2.)\n",
    "input_neurons = p.Population(10, poisson_input, label='input')"
   ]
  },
  {
   "cell_type": "code",
   "execution_count": 46,
   "metadata": {
    "collapsed": false
   },
   "outputs": [
    {
     "data": {
      "text/plain": [
       "['spikes', 'v', 'u']"
      ]
     },
     "execution_count": 46,
     "metadata": {},
     "output_type": "execute_result"
    }
   ],
   "source": [
    "exc_cells.celltype.recordable"
   ]
  },
  {
   "cell_type": "code",
   "execution_count": 47,
   "metadata": {
    "collapsed": false
   },
   "outputs": [],
   "source": [
    "pconn = 0.1      # sparse connection probability\n",
    "w_exc = 7.6   # later add unit\n",
    "w_inh = -28.   # later add unit\n",
    "delay_exc = 1      # defines how long (ms) the synapse takes for transmission\n",
    "delay_inh = 1\n",
    "\n",
    "stat_syn_exc = p.StaticSynapse(weight =w_exc, delay=delay_exc)\n",
    "stat_syn_inh = p.StaticSynapse(weight =w_inh, delay=delay_inh)\n",
    "\n",
    "exc_conn = p.FixedProbabilityConnector(pconn, rng=rng)\n",
    "inh_conn = p.FixedProbabilityConnector(pconn, rng=rng)\n",
    "inp_conn = p.FixedProbabilityConnector(0.2, rng=rng)\n",
    "\n",
    "connections = {}\n",
    "connections['e2e'] = p.Projection(exc_cells, exc_cells, exc_conn,\n",
    "                                synapse_type=stat_syn_exc, receptor_type='excitatory')\n",
    "connections['e2i'] = p.Projection(exc_cells, inh_cells, exc_conn,\n",
    "                                synapse_type=stat_syn_exc,receptor_type='excitatory')\n",
    "connections['i2e'] = p.Projection(inh_cells, exc_cells, inh_conn,\n",
    "                                synapse_type=stat_syn_inh,receptor_type='inhibitory')\n",
    "connections['i2i'] = p.Projection(inh_cells, inh_cells, inh_conn,\n",
    "                                synapse_type=stat_syn_inh,receptor_type='inhibitory')\n",
    "\n",
    "connections['inp2e'] = p.Projection(input_neurons, exc_cells, inp_conn,\n",
    "                                      synapse_type=stat_syn_exc,receptor_type='excitatory')\n",
    "connections['inp2i'] = p.Projection(input_neurons, inh_cells, inp_conn,\n",
    "                                      synapse_type=stat_syn_exc,receptor_type='excitatory')"
   ]
  },
  {
   "cell_type": "code",
   "execution_count": 48,
   "metadata": {
    "collapsed": false
   },
   "outputs": [],
   "source": [
    "exc_cells[2:13].record(['spikes'])\n",
    "exc_cells[2:3].record(['v'])\n",
    "inh_cells.record(['v','spikes'])\n",
    "global sim_time\n",
    "sim_time=100\n",
    "p.run(sim_time)\n",
    "spikes_exc = exc_cells[2:13].get_data()\n",
    "inh_cells_data = inh_cells.get_data()"
   ]
  },
  {
   "cell_type": "code",
   "execution_count": 49,
   "metadata": {
    "collapsed": false
   },
   "outputs": [
    {
     "data": {
      "text/plain": [
       "<matplotlib.figure.Figure at 0x7fdda815fa90>"
      ]
     },
     "metadata": {},
     "output_type": "display_data"
    }
   ],
   "source": [
    "fig_settings = {\n",
    "    'lines.linewidth': 0.5,\n",
    "    'axes.linewidth': 0.5,\n",
    "    'axes.labelsize': 'small',\n",
    "    'legend.fontsize': 'small',\n",
    "    'font.size': 8\n",
    "}\n",
    "plt.rcParams.update(fig_settings)\n",
    "plt.figure(1, figsize=(6,8))\n",
    "def plot_spiketrains(segment,y_label):\n",
    "    i=0\n",
    "    for spiketrain in segment.spiketrains:\n",
    "        neuron_id =spiketrain.annotations['source_id']\n",
    "        if i==0:\n",
    "            first_neuron_id=neuron_id\n",
    "        i+=1\n",
    "        y = np.ones_like(spiketrain) * neuron_id\n",
    "        plt.plot(spiketrain, y, '.')\n",
    "        \n",
    "        #print spiketrain\n",
    "        plt.ylabel(y_label)\n",
    "        plt.setp(plt.gca().get_xticklabels(), visible=False)\n",
    "    plt.axis([0, sim_time, first_neuron_id-1, neuron_id+1])\n",
    "        \n",
    "def plot_signal(signal, index, colour='b'):\n",
    "    label = \"Neuron %d\" % signal.annotations['source_ids'][index]\n",
    "    plt.plot(signal.times, signal[:, index], colour, label=label)\n",
    "    plt.ylabel(\"%s (%s)\" % (signal.name, signal.units._dimensionality.string))\n",
    "    plt.setp(plt.gca().get_xticklabels(), visible=False)\n",
    "    plt.legend()\n"
   ]
  },
  {
   "cell_type": "code",
   "execution_count": 50,
   "metadata": {
    "collapsed": false
   },
   "outputs": [
    {
     "name": "stdout",
     "output_type": "stream",
     "text": [
      "(0,)\n",
      "(0,)\n",
      "1\n"
     ]
    },
    {
     "data": {
      "image/png": "[encoded data removed]",
      "text/plain": [
       "<matplotlib.figure.Figure at 0x7fdda807bc50>"
      ]
     },
     "metadata": {},
     "output_type": "display_data"
    }
   ],
   "source": [
    "print np.shape(spikes_exc.segments[0].analogsignals)\n",
    "print np.shape(inh_cells_data.segments[0].analogsignals)\n",
    "\n",
    "n_panels = sum(a.shape[1] for a in spikes_exc.segments[0].analogsignals) + 1\n",
    "print n_panels\n",
    "plt.subplot(n_panels, 1, 1)\n",
    "plot_spiketrains(spikes_exc.segments[0],'exc_neurons')\n",
    "panel = 2\n",
    "for array in spikes_exc.segments[0].analogsignals:\n",
    "    for i in range(array.shape[1]):\n",
    "        plt.subplot(n_panels, 1, panel)\n",
    "        plot_signal(array, i, colour='bg'[panel % 2])\n",
    "        panel += 1\n",
    "plt.xlabel(\"time (ms)\")\n",
    "plt.setp(plt.gca().get_xticklabels(), visible=True)\n",
    "\n",
    "plt.show()"
   ]
  },
  {
   "cell_type": "code",
   "execution_count": null,
   "metadata": {
    "collapsed": true
   },
   "outputs": [],
   "source": []
  },
  {
   "cell_type": "code",
   "execution_count": null,
   "metadata": {
    "collapsed": true
   },
   "outputs": [],
   "source": []
  },
  {
   "cell_type": "code",
   "execution_count": null,
   "metadata": {
    "collapsed": true
   },
   "outputs": [],
   "source": []
  }
 ],
 "metadata": {
  "kernelspec": {
   "display_name": "Python 2",
   "language": "python",
   "name": "python2"
  },
  "language_info": {
   "codemirror_mode": {
    "name": "ipython",
    "version": 2
   },
   "file_extension": ".py",
   "mimetype": "text/x-python",
   "name": "python",
   "nbconvert_exporter": "python",
   "pygments_lexer": "ipython2",
   "version": "2.7.12"
  }
 },
 "nbformat": 4,
 "nbformat_minor": 1
}
