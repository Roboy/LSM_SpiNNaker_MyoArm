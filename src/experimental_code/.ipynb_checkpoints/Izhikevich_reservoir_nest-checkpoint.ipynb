{
 "cells": [
  {
   "cell_type": "code",
   "execution_count": 1,
   "metadata": {
    "collapsed": false
   },
   "outputs": [
    {
     "name": "stdout",
     "output_type": "stream",
     "text": [
      "CSAConnector: libneurosim support not available in NEST.\n",
      "Falling back on PyNN's default CSAConnector.\n",
      "Please re-compile NEST using --with-libneurosim=PATH\n"
     ]
    }
   ],
   "source": [
    "simulator_name = 'nest'\n",
    "\n",
    "\n",
    "import pyNN.nest as p\n",
    "from pyNN.random import NumpyRNG, RandomDistribution\n",
    "from pyNN.utility import Timer\n",
    "\n",
    "timer = Timer()\n",
    "\n",
    "# === Define parameters ===\n",
    "threads = 1\n",
    "rngseed = 98766987\n",
    "parallel_safe = True\n",
    "stim_dur = 50.    # (ms) duration of random stimulation\n",
    "rate = 100.       # (Hz) frequency of the random stimulation\n",
    "\n",
    "dt = 1.0          # (ms) simulation timestep\n",
    "tstop = 1000      # (ms) simulaton duration\n",
    "delay = 2"
   ]
  },
  {
   "cell_type": "code",
   "execution_count": 2,
   "metadata": {
    "collapsed": false
   },
   "outputs": [
    {
     "name": "stdout",
     "output_type": "stream",
     "text": [
      "1200 300\n"
     ]
    }
   ],
   "source": [
    "n = 1500          # number of cells\n",
    "exc_ratio = 0.8   # ratio of excitatory neurons\n",
    "pconn = 0.02      # connection probability\n",
    "\n",
    "n_exc = int(round(n*0.8))\n",
    "n_inh = n-n_exc\n",
    "print n_exc, n_inh\n",
    "\n",
    "# === cell parameters === TODO: \n",
    "v_reset = -60.    # (mV)\n",
    "v_thresh = -50.   # (mV)\n",
    "\n",
    "Gexc = 4.     # (nS)\n",
    "Ginh = 51.    # (nS)\n",
    "w_exc = Gexc * 1e-3              # We convert conductances to uS\n",
    "w_inh = Ginh * 1e-3\n",
    "    \n"
   ]
  },
  {
   "cell_type": "code",
   "execution_count": 3,
   "metadata": {
    "collapsed": false
   },
   "outputs": [
    {
     "ename": "TypeError",
     "evalue": "record() takes at least 2 arguments (1 given)",
     "output_type": "error",
     "traceback": [
      "\u001b[0;31m---------------------------------------------------------------------------\u001b[0m",
      "\u001b[0;31mTypeError\u001b[0m                                 Traceback (most recent call last)",
      "\u001b[0;32m<ipython-input-3-33fdd4ace05d>\u001b[0m in \u001b[0;36m<module>\u001b[0;34m()\u001b[0m\n\u001b[1;32m     17\u001b[0m \u001b[0mrconn\u001b[0m \u001b[0;34m=\u001b[0m \u001b[0;36m0.01\u001b[0m\u001b[0;34m\u001b[0m\u001b[0m\n\u001b[1;32m     18\u001b[0m \u001b[0mext_conn\u001b[0m \u001b[0;34m=\u001b[0m \u001b[0mp\u001b[0m\u001b[0;34m.\u001b[0m\u001b[0mFixedProbabilityConnector\u001b[0m\u001b[0;34m(\u001b[0m\u001b[0mrconn\u001b[0m\u001b[0;34m)\u001b[0m\u001b[0;34m\u001b[0m\u001b[0m\n\u001b[0;32m---> 19\u001b[0;31m \u001b[0mext_stim\u001b[0m\u001b[0;34m.\u001b[0m\u001b[0mrecord\u001b[0m\u001b[0;34m(\u001b[0m\u001b[0;34m)\u001b[0m\u001b[0;34m\u001b[0m\u001b[0m\n\u001b[0m\u001b[1;32m     20\u001b[0m \u001b[0;34m\u001b[0m\u001b[0m\n",
      "\u001b[0;31mTypeError\u001b[0m: record() takes at least 2 arguments (1 given)"
     ]
    }
   ],
   "source": [
    "# === Build the network ===\n",
    "# params for p.Izhikevich()\n",
    "# cell_params = {'a':0.02, 'b':0.2, 'c':-65, 'd':6, 'i_offset':0.0}  \n",
    "\n",
    "# params for p.IF_cond_exp()\n",
    "# cell_params = {'tau_m': 20.0, 'v_rest': -65.0, 'tau_syn_I': 5.0, 'v_reset': -65.0,\n",
    "#               'tau_refrac': 0.1, 'cm': 1.0, 'i_offset': 0.0, 'tau_syn_E': 5.0, 'e_rev_E': 0.0, \n",
    "#               'v_thresh': -50.0, 'e_rev_I': -70.0}\n",
    "celltype = p.Izhikevich()\n",
    "exc_cells = p.Population(n_exc, celltype, label=\"Excitatory_Cells\")\n",
    "inh_cells = p.Population(n_inh, celltype, label=\"Inhibitory_Cells\")\n",
    "\n",
    "ext_stim = p.Population(\n",
    "            20, p.SpikeSourcePoisson,\n",
    "            {'rate': rate, 'duration': stim_dur},\n",
    "            label=\"expoisson\")\n",
    "rconn = 0.01\n",
    "ext_conn = p.FixedProbabilityConnector(rconn)\n",
    "\n"
   ]
  },
  {
   "cell_type": "code",
   "execution_count": 42,
   "metadata": {
    "collapsed": false
   },
   "outputs": [
    {
     "name": "stdout",
     "output_type": "stream",
     "text": [
      "1 Initialising membrane potential to random values...\n"
     ]
    }
   ],
   "source": [
    "print \"%s Initialising membrane potential to random values...\" % node_id\n",
    "\n",
    "rng = NumpyRNG(seed=rngseed, parallel_safe=parallel_safe)\n",
    "uniformDistr = RandomDistribution('uniform', [v_reset, v_thresh], rng=rng)\n",
    "exc_cells.initialize('v', uniformDistr)\n",
    "inh_cells.initialize('v', uniformDistr)"
   ]
  },
  {
   "cell_type": "code",
   "execution_count": 43,
   "metadata": {
    "collapsed": false
   },
   "outputs": [
    {
     "name": "stdout",
     "output_type": "stream",
     "text": [
      "1 Connecting populations...\n"
     ]
    }
   ],
   "source": [
    "print \"%s Connecting populations...\" % node_id\n",
    "exc_conn = FixedProbabilityConnector(pconn, weights=w_exc, delays=delay)\n",
    "inh_conn = FixedProbabilityConnector(pconn, weights=w_inh, delays=delay)\n",
    "\n",
    "connections = {}\n",
    "connections['e2e'] = Projection(exc_cells, exc_cells, exc_conn,\n",
    "                                target='excitatory', rng=rng)\n",
    "connections['e2i'] = Projection(exc_cells, inh_cells, exc_conn,\n",
    "                                target='excitatory', rng=rng)\n",
    "connections['i2e'] = Projection(inh_cells, exc_cells, inh_conn,\n",
    "                                target='inhibitory', rng=rng)\n",
    "connections['i2i'] = Projection(inh_cells, inh_cells, inh_conn,\n",
    "                                target='inhibitory', rng=rng)\n",
    "\n",
    "\n",
    "connections['ext2e'] = Projection(ext_stim, exc_cells, ext_conn,\n",
    "                                      target='excitatory')\n",
    "connections['ext2i'] = Projection(ext_stim, inh_cells, ext_conn,\n",
    "                                      target='excitatory')\n"
   ]
  },
  {
   "cell_type": "code",
   "execution_count": 9,
   "metadata": {
    "collapsed": false
   },
   "outputs": [
    {
     "ename": "NameError",
     "evalue": "name 'exc_cells' is not defined",
     "output_type": "error",
     "traceback": [
      "\u001b[0;31m---------------------------------------------------------------------------\u001b[0m\n\u001b[0;31mNameError\u001b[0m                                 Traceback (most recent call last)",
      "\u001b[0;32m<ipython-input-9-f8867e28c068>\u001b[0m in \u001b[0;36m<module>\u001b[0;34m()\u001b[0m\n\u001b[1;32m      4\u001b[0m \u001b[0;32mimport\u001b[0m \u001b[0mpylab\u001b[0m\u001b[0;34m\u001b[0m\u001b[0m\n\u001b[1;32m      5\u001b[0m \u001b[0;34m\u001b[0m\u001b[0m\n\u001b[0;32m----> 6\u001b[0;31m \u001b[0mexc_spikes\u001b[0m \u001b[0;34m=\u001b[0m \u001b[0mexc_cells\u001b[0m\u001b[0;34m.\u001b[0m\u001b[0mgetSpikes\u001b[0m\u001b[0;34m(\u001b[0m\u001b[0mcompatible_output\u001b[0m\u001b[0;34m=\u001b[0m\u001b[0mTrue\u001b[0m\u001b[0;34m)\u001b[0m\u001b[0;34m\u001b[0m\u001b[0m\n\u001b[0m\u001b[1;32m      7\u001b[0m \u001b[0mpylab\u001b[0m\u001b[0;34m.\u001b[0m\u001b[0mfigure\u001b[0m\u001b[0;34m(\u001b[0m\u001b[0;34m)\u001b[0m\u001b[0;34m\u001b[0m\u001b[0m\n\u001b[1;32m      8\u001b[0m pylab.plot([i[1] for i in exc_spikes],\n",
      "\u001b[0;31mNameError\u001b[0m: name 'exc_cells' is not defined"
     ]
    }
   ],
   "source": [
    "\n",
    "# === Print results to file ===\n",
    "\n",
    "import pylab\n",
    "\n",
    "exc_spikes = exc_cells.getSpikes(compatible_output=True)\n",
    "pylab.figure()\n",
    "pylab.plot([i[1] for i in exc_spikes],\n",
    "           [i[0] for i in exc_spikes], \".\", markersize=2)\n",
    "pylab.xlabel('Time/ms')\n",
    "pylab.ylabel('spikes')\n",
    "pylab.title('spikes')\n",
    "pylab.show()\n",
    "\n",
    "\n",
    "# === Finished with simulator ===\n",
    "\n",
    "end()"
   ]
  },
  {
   "cell_type": "code",
   "execution_count": null,
   "metadata": {
    "collapsed": false
   },
   "outputs": [],
   "source": []
  }
 ],
 "metadata": {
  "kernelspec": {
   "display_name": "Python 2",
   "language": "python",
   "name": "python2"
  },
  "language_info": {
   "codemirror_mode": {
    "name": "ipython",
    "version": 2
   },
   "file_extension": ".py",
   "mimetype": "text/x-python",
   "name": "python",
   "nbconvert_exporter": "python",
   "pygments_lexer": "ipython2",
   "version": "2.7.12"
  }
 },
 "nbformat": 4,
 "nbformat_minor": 0
}
