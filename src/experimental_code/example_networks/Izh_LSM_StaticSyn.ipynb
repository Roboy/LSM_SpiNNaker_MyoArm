{
 "cells": [
  {
   "cell_type": "markdown",
   "metadata": {},
   "source": [
    "# Reservoir of Izhikevich neuron models"
   ]
  },
  {
   "cell_type": "markdown",
   "metadata": {},
   "source": [
    "In this script a reservoir of neurons models with the differential equations proposed by Izhikevich is defined. "
   ]
  },
  {
   "cell_type": "code",
   "execution_count": 1,
   "metadata": {
    "collapsed": false
   },
   "outputs": [
    {
     "name": "stdout",
     "output_type": "stream",
     "text": [
      "CSAConnector: libneurosim support not available in NEST.\n",
      "Falling back on PyNN's default CSAConnector.\n",
      "Please re-compile NEST using --with-libneurosim=PATH\n"
     ]
    },
    {
     "data": {
      "text/plain": [
       "0"
      ]
     },
     "execution_count": 1,
     "metadata": {},
     "output_type": "execute_result"
    }
   ],
   "source": [
    "%matplotlib inline\n",
    "import pyNN.nest as p\n",
    "from pyNN.random import NumpyRNG, RandomDistribution\n",
    "from pyNN.utility import Timer\n",
    "import matplotlib.pyplot as plt\n",
    "import numpy as np\n",
    "\n",
    "timer = Timer()\n",
    "p.setup(timestep=0.1) # 0.1ms \n",
    "\n"
   ]
  },
  {
   "cell_type": "markdown",
   "metadata": {},
   "source": [
    "## Definition of Inputs"
   ]
  },
  {
   "cell_type": "markdown",
   "metadata": {},
   "source": [
    "The input can be:\n",
    "- the joint position of the robot arm (rate coded or temporal coded)"
   ]
  },
  {
   "cell_type": "code",
   "execution_count": 2,
   "metadata": {
    "collapsed": false
   },
   "outputs": [],
   "source": [
    "poisson_input = p.SpikeSourcePoisson(rate = 10, start = 20.)\n",
    "#input_neuron = p.Population(2, p.SpikeSourcePoisson, {'rate': 0.7}, label='input')\n",
    "input_neuron = p.Population(2, poisson_input, label='input')"
   ]
  },
  {
   "cell_type": "markdown",
   "metadata": {},
   "source": [
    "## Definition of neural populations\n"
   ]
  },
  {
   "cell_type": "markdown",
   "metadata": {},
   "source": [
    "Izhikevich spiking model with a quadratic non-linearity: \n",
    "\n",
    "dv/dt = 0.04*v^2 + 5*v + 140 - u + I \n",
    "\n",
    "du/dt = a*(b*v - u)"
   ]
  },
  {
   "cell_type": "code",
   "execution_count": 3,
   "metadata": {
    "collapsed": false
   },
   "outputs": [
    {
     "name": "stdout",
     "output_type": "stream",
     "text": [
      "1200 300\n"
     ]
    }
   ],
   "source": [
    "n = 1500          # number of cells\n",
    "exc_ratio = 0.8   # ratio of excitatory neurons\n",
    "\n",
    "n_exc = int(round(n*0.8))\n",
    "n_inh = n-n_exc\n",
    "print n_exc, n_inh\n",
    "\n",
    "\n",
    "celltype = p.Izhikevich()\n",
    "# default_parameters = {'a': 0.02, 'c': -65.0, 'd': 2.0, 'b': 0.2, 'i_offset': 0.0}¶\n",
    "#  default_initial_values = {'v': -70.0, 'u': -14.0}¶\n",
    "exc_cells = p.Population(n_exc, celltype, label=\"Excitatory_Cells\")\n",
    "inh_cells = p.Population(n_inh, celltype, label=\"Inhibitory_Cells\")\n",
    "\n",
    "# initialize with a uniform random distributin\n",
    "# use seeding for reproducability\n",
    "rngseed = 98766987\n",
    "parallel_safe = True\n",
    "rng = NumpyRNG(seed=rngseed, parallel_safe=parallel_safe)\n",
    "\n",
    "unifDistr = RandomDistribution('uniform', (-75,-65), rng=rng)\n",
    "exc_cells.initialize(v=unifDistr)\n",
    "inh_cells.initialize(v=unifDistr)"
   ]
  },
  {
   "cell_type": "markdown",
   "metadata": {
    "collapsed": false
   },
   "source": [
    "## Definition of readout neurons"
   ]
  },
  {
   "cell_type": "markdown",
   "metadata": {},
   "source": [
    "Decide:\n",
    "- 2 readout neurons: representing in which direction to move the joint\n",
    "- 1 readout neuron: representing the desired goal position of the joint"
   ]
  },
  {
   "cell_type": "code",
   "execution_count": 4,
   "metadata": {
    "collapsed": true
   },
   "outputs": [],
   "source": [
    "readout_neurons = p.Population(2, celltype, label=\"readout_neuron\")"
   ]
  },
  {
   "cell_type": "markdown",
   "metadata": {},
   "source": [
    "## Define the connections between the neurons"
   ]
  },
  {
   "cell_type": "code",
   "execution_count": 5,
   "metadata": {
    "collapsed": false
   },
   "outputs": [],
   "source": [
    "inp_conn = p.AllToAllConnector()\n",
    "rout_conn = p.AllToAllConnector()\n",
    "\n",
    "\n",
    "w_exc = 20.   # later add unit\n",
    "w_inh = -51.   # later add unit\n",
    "delay_exc = 1      # defines how long (ms) the synapse takes for transmission\n",
    "delay_inh = 1\n",
    "\n",
    "stat_syn_exc = p.StaticSynapse(weight =w_exc, delay=delay_exc)\n",
    "stat_syn_inh = p.StaticSynapse(weight =w_inh, delay=delay_inh)\n",
    "\n",
    "\n",
    "\n",
    "weight_distr_exc = RandomDistribution('normal', [w_exc, 1e-3], rng=rng)\n",
    "weight_distr_inh = RandomDistribution('normal', [w_inh, 1e-3], rng=rng)\n",
    "\n",
    "exc_synapse = p.TsodyksMarkramSynapse(U=0.04, tau_rec=100.0, tau_facil=1000.0,\n",
    "                        weight=weight_distr_exc, delay=lambda d: 0.1+d/100.0)\n",
    "inh_synapse = p.TsodyksMarkramSynapse(U=0.04, tau_rec=100.0, tau_facil=1000.0,\n",
    "                        weight=weight_distr_inh, delay=lambda d: 0.1+d/100.0)\n",
    "# tau_rec: depression time constant (ms)\n",
    "# tau_facil: facilitation time constant (ms)\n",
    "\n",
    "\n",
    "\n",
    "pconn = 0.01      # sparse connection probability\n",
    "\n",
    "exc_conn = p.FixedProbabilityConnector(pconn, rng=rng)\n",
    "inh_conn = p.FixedProbabilityConnector(pconn, rng=rng)\n",
    "\n",
    "connections = {}\n",
    "connections['e2e'] = p.Projection(exc_cells, exc_cells, exc_conn,\n",
    "                                synapse_type=stat_syn_exc, receptor_type='excitatory')\n",
    "connections['e2i'] = p.Projection(exc_cells, inh_cells, exc_conn,\n",
    "                                synapse_type=stat_syn_exc,receptor_type='excitatory')\n",
    "connections['i2e'] = p.Projection(inh_cells, exc_cells, inh_conn,\n",
    "                                synapse_type=stat_syn_inh,receptor_type='inhibitory')\n",
    "connections['i2i'] = p.Projection(inh_cells, inh_cells, inh_conn,\n",
    "                                synapse_type=stat_syn_inh,receptor_type='inhibitory')\n",
    "\n",
    "\n",
    "connections['inp2e'] = p.Projection(input_neuron, exc_cells, inp_conn,\n",
    "                                      synapse_type=stat_syn_exc,receptor_type='excitatory')\n",
    "connections['inp2i'] = p.Projection(input_neuron, inh_cells, inp_conn,\n",
    "                                      synapse_type=stat_syn_exc,receptor_type='excitatory')\n",
    "\n",
    "connections['e2rout'] = p.Projection(exc_cells, readout_neurons, rout_conn,\n",
    "                                      synapse_type=stat_syn_exc,receptor_type='excitatory')\n",
    "connections['i2rout'] = p.Projection(inh_cells, readout_neurons, rout_conn,\n",
    "                                      synapse_type=stat_syn_inh,receptor_type='inhibitory')\n"
   ]
  },
  {
   "cell_type": "markdown",
   "metadata": {},
   "source": [
    "## Setup recording and run the simulation"
   ]
  },
  {
   "cell_type": "code",
   "execution_count": 6,
   "metadata": {
    "collapsed": false
   },
   "outputs": [
    {
     "data": {
      "text/plain": [
       "100.00000000000001"
      ]
     },
     "execution_count": 6,
     "metadata": {},
     "output_type": "execute_result"
    }
   ],
   "source": [
    "exc_cells.record(['v','spikes'])\n",
    "p.run(100)"
   ]
  },
  {
   "cell_type": "markdown",
   "metadata": {},
   "source": [
    "## Plotting the Results"
   ]
  },
  {
   "cell_type": "code",
   "execution_count": 7,
   "metadata": {
    "collapsed": false
   },
   "outputs": [],
   "source": [
    "p.end()\n",
    "data_rout = readout_neurons.get_data()\n",
    "\n",
    "data_exc = exc_cells.get_data()\n",
    "\n"
   ]
  },
  {
   "cell_type": "code",
   "execution_count": 8,
   "metadata": {
    "collapsed": false
   },
   "outputs": [
    {
     "data": {
      "text/plain": [
       "<matplotlib.figure.Figure at 0x7fad85b62b90>"
      ]
     },
     "execution_count": 8,
     "metadata": {},
     "output_type": "execute_result"
    },
    {
     "data": {
      "text/plain": [
       "<matplotlib.figure.Figure at 0x7fad85b62b90>"
      ]
     },
     "metadata": {},
     "output_type": "display_data"
    }
   ],
   "source": [
    "fig_settings = {\n",
    "    'lines.linewidth': 0.5,\n",
    "    'axes.linewidth': 0.5,\n",
    "    'axes.labelsize': 'small',\n",
    "    'legend.fontsize': 'small',\n",
    "    'font.size': 8\n",
    "}\n",
    "plt.rcParams.update(fig_settings)\n",
    "plt.figure(1, figsize=(6,8))"
   ]
  },
  {
   "cell_type": "code",
   "execution_count": 9,
   "metadata": {
    "collapsed": true
   },
   "outputs": [],
   "source": [
    "def plot_spiketrains(segment):\n",
    "    for spiketrain in segment.spiketrains:\n",
    "        y = np.ones_like(spiketrain) * spiketrain.annotations['source_id']\n",
    "        plt.plot(spiketrain, y, '.')\n",
    "        plt.ylabel(segment.name)\n",
    "        plt.setp(plt.gca().get_xticklabels(), visible=False)"
   ]
  },
  {
   "cell_type": "code",
   "execution_count": 10,
   "metadata": {
    "collapsed": true
   },
   "outputs": [],
   "source": [
    "def plot_signal(signal, index, colour='b'):\n",
    "    label = \"Neuron %d\" % signal.annotations['source_ids'][index]\n",
    "    plt.plot(signal.times, signal[:, index], colour, label=label)\n",
    "    plt.ylabel(\"%s (%s)\" % (signal.name, signal.units._dimensionality.string))\n",
    "    plt.setp(plt.gca().get_xticklabels(), visible=False)\n",
    "    plt.legend()"
   ]
  },
  {
   "cell_type": "markdown",
   "metadata": {},
   "source": [
    "Plot readout neurons"
   ]
  },
  {
   "cell_type": "code",
   "execution_count": 11,
   "metadata": {
    "collapsed": false
   },
   "outputs": [
    {
     "name": "stdout",
     "output_type": "stream",
     "text": [
      "2\n"
     ]
    },
    {
     "ename": "NameError",
     "evalue": "name 'array' is not defined",
     "output_type": "error",
     "traceback": [
      "\u001b[0;31m-----------------------------------------------------------------\u001b[0m",
      "\u001b[0;31mNameError\u001b[0m                       Traceback (most recent call last)",
      "\u001b[0;32m<ipython-input-11-dd6775d6a6ff>\u001b[0m in \u001b[0;36m<module>\u001b[0;34m()\u001b[0m\n\u001b[1;32m      9\u001b[0m         \u001b[0mplot_signal\u001b[0m\u001b[0;34m(\u001b[0m\u001b[0marray\u001b[0m\u001b[0;34m,\u001b[0m \u001b[0mi\u001b[0m\u001b[0;34m,\u001b[0m \u001b[0mcolour\u001b[0m\u001b[0;34m=\u001b[0m\u001b[0;34m'bg'\u001b[0m\u001b[0;34m[\u001b[0m\u001b[0mpanel\u001b[0m\u001b[0;34m%\u001b[0m\u001b[0;36m2\u001b[0m\u001b[0;34m]\u001b[0m\u001b[0;34m)\u001b[0m\u001b[0;34m\u001b[0m\u001b[0m\n\u001b[1;32m     10\u001b[0m         \u001b[0mpanel\u001b[0m \u001b[0;34m+=\u001b[0m \u001b[0;36m1\u001b[0m\u001b[0;34m\u001b[0m\u001b[0m\n\u001b[0;32m---> 11\u001b[0;31m \u001b[0mplt\u001b[0m\u001b[0;34m.\u001b[0m\u001b[0mxlabel\u001b[0m\u001b[0;34m(\u001b[0m\u001b[0;34m\"time (%s)\"\u001b[0m \u001b[0;34m%\u001b[0m \u001b[0marray\u001b[0m\u001b[0;34m.\u001b[0m\u001b[0mtimes\u001b[0m\u001b[0;34m.\u001b[0m\u001b[0munits\u001b[0m\u001b[0;34m.\u001b[0m\u001b[0m_dimensionality\u001b[0m\u001b[0;34m.\u001b[0m\u001b[0mstring\u001b[0m\u001b[0;34m)\u001b[0m\u001b[0;34m\u001b[0m\u001b[0m\n\u001b[0m\u001b[1;32m     12\u001b[0m \u001b[0mplt\u001b[0m\u001b[0;34m.\u001b[0m\u001b[0msetp\u001b[0m\u001b[0;34m(\u001b[0m\u001b[0mplt\u001b[0m\u001b[0;34m.\u001b[0m\u001b[0mgca\u001b[0m\u001b[0;34m(\u001b[0m\u001b[0;34m)\u001b[0m\u001b[0;34m.\u001b[0m\u001b[0mget_xticklabels\u001b[0m\u001b[0;34m(\u001b[0m\u001b[0;34m)\u001b[0m\u001b[0;34m,\u001b[0m \u001b[0mvisible\u001b[0m\u001b[0;34m=\u001b[0m\u001b[0mTrue\u001b[0m\u001b[0;34m)\u001b[0m\u001b[0;34m\u001b[0m\u001b[0m\n\u001b[1;32m     13\u001b[0m \u001b[0;34m\u001b[0m\u001b[0m\n",
      "\u001b[0;31mNameError\u001b[0m: name 'array' is not defined"
     ]
    },
    {
     "data": {
      "image/png": "[encoded data removed]",
      "text/plain": [
       "<matplotlib.figure.Figure at 0x7fad80144d10>"
      ]
     },
     "metadata": {},
     "output_type": "display_data"
    }
   ],
   "source": [
    "n_panels = sum(a.shape[1] for a in data_rout.segments[0].analogsignalarrays) + 2\n",
    "print n_panels\n",
    "plt.subplot(n_panels, 1, 1)\n",
    "plot_spiketrains(data_rout.segments[0])\n",
    "panel = 3\n",
    "for array in data_rout.segments[0].analogsignalarrays:\n",
    "    for i in range(array.shape[1]):\n",
    "        plt.subplot(n_panels, 1, panel)\n",
    "        plot_signal(array, i, colour='bg'[panel%2])\n",
    "        panel += 1\n",
    "plt.xlabel(\"time (%s)\" % array.times.units._dimensionality.string)\n",
    "plt.setp(plt.gca().get_xticklabels(), visible=True)\n",
    "\n",
    "plt.savefig(\"neo_example.png\")"
   ]
  },
  {
   "cell_type": "markdown",
   "metadata": {},
   "source": [
    "Plot excitatory cells"
   ]
  },
  {
   "cell_type": "code",
   "execution_count": 12,
   "metadata": {
    "collapsed": false
   },
   "outputs": [
    {
     "data": {
      "image/png": "[encoded data removed]",
      "text/plain": [
       "<matplotlib.figure.Figure at 0x7fad7985b590>"
      ]
     },
     "metadata": {},
     "output_type": "display_data"
    }
   ],
   "source": [
    "n_panels = sum(a.shape[1] for a in data_exc.segments[0].analogsignalarrays) + 2\n",
    "plt.subplot(n_panels, 1, 1)\n",
    "plot_spiketrains(data_exc.segments[0])\n",
    "panel = 3\n",
    "for array in data_exc.segments[0].analogsignalarrays:\n",
    "    for i in range(array.shape[1]):\n",
    "        plt.subplot(n_panels, 1, panel)\n",
    "        plot_signal(array, i, colour='bg'[panel%2])\n",
    "        panel += 1\n",
    "plt.xlabel(\"time (%s)\" % array.times.units._dimensionality.string)\n",
    "plt.setp(plt.gca().get_xticklabels(), visible=True)\n",
    "\n",
    "plt.savefig(\"neo_example.png\")\n"
   ]
  },
  {
   "cell_type": "code",
   "execution_count": null,
   "metadata": {
    "collapsed": false
   },
   "outputs": [],
   "source": []
  }
 ],
 "metadata": {
  "kernelspec": {
   "display_name": "Python 2",
   "language": "python",
   "name": "python2"
  },
  "language_info": {
   "codemirror_mode": {
    "name": "ipython",
    "version": 2
   },
   "file_extension": ".py",
   "mimetype": "text/x-python",
   "name": "python",
   "nbconvert_exporter": "python",
   "pygments_lexer": "ipython2",
   "version": "2.7.12"
  }
 },
 "nbformat": 4,
 "nbformat_minor": 0
}
