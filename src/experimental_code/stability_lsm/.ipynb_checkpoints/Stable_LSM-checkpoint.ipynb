{
 "cells": [
  {
   "cell_type": "code",
   "execution_count": 1,
   "metadata": {
    "collapsed": false
   },
   "outputs": [
    {
     "data": {
      "text/plain": [
       "0"
      ]
     },
     "execution_count": 1,
     "metadata": {},
     "output_type": "execute_result"
    }
   ],
   "source": [
    "import pyNN.nest as p\n",
    "from pyNN.random import NumpyRNG, RandomDistribution\n",
    "from pyNN.utility import Timer\n",
    "import pylab\n",
    "import numpy as np\n",
    "import matplotlib.pyplot as plt\n",
    "%matplotlib inline\n",
    "\n",
    "timer = Timer()\n",
    "ts = 0.1\n",
    "simulation_time = 50\n",
    "\n",
    "#p.setup(timestep=ts, min_delay=ts, max_delay=2.0*ts) # 0.1ms \n",
    "p.setup(timestep=ts) # 0.1ms"
   ]
  },
  {
   "cell_type": "markdown",
   "metadata": {},
   "source": [
    "# Define Neural Populations"
   ]
  },
  {
   "cell_type": "code",
   "execution_count": 2,
   "metadata": {
    "collapsed": false
   },
   "outputs": [
    {
     "name": "stdout",
     "output_type": "stream",
     "text": [
      "400 100\n"
     ]
    }
   ],
   "source": [
    "n_input_neurons     = 10\n",
    "n_readout_neurons   = 2\n",
    "n_reservoir_neurons = 500\n",
    "exc_rate            = 0.8 # % of excitatory neurons in reservoir\n",
    "\n",
    "\n",
    "n_exc = int(round(n_reservoir_neurons*exc_rate))\n",
    "n_inh = n_reservoir_neurons-n_exc\n",
    "print n_exc, n_inh\n",
    "\n",
    "izh_celltype = p.native_cell_type('izhikevich')\n",
    "if_celltype = p.IF_curr_exp\n",
    "\n",
    "celltype = izh_celltype"
   ]
  },
  {
   "cell_type": "markdown",
   "metadata": {},
   "source": [
    "## Input Population"
   ]
  },
  {
   "cell_type": "code",
   "execution_count": 3,
   "metadata": {
    "collapsed": true
   },
   "outputs": [],
   "source": [
    "spike_source = p.native_cell_type('poisson_generator')\n",
    "#inp_pop=p.Population(n_input_neurons,spike_source,{'rate':100.0, 'origin':20, 'start':50, 'stop':100})\n",
    "inp_pop=p.Population(n_input_neurons,spike_source,{'rate':10.0})"
   ]
  },
  {
   "cell_type": "markdown",
   "metadata": {},
   "source": [
    "## Reservoir Populations - Excitatory and Inhibitory"
   ]
  },
  {
   "cell_type": "code",
   "execution_count": 4,
   "metadata": {
    "collapsed": false
   },
   "outputs": [],
   "source": [
    "exc_cells = p.Population(n_exc, celltype, label=\"Excitatory_Cells\")\n",
    "inh_cells = p.Population(n_inh, celltype, label=\"Inhibitory_Cells\")\n",
    "\n",
    "# initialize with a uniform random distributin\n",
    "# use seeding for reproducability\n",
    "rngseed = 98766987\n",
    "parallel_safe = True\n",
    "rng = NumpyRNG(seed=rngseed, parallel_safe=parallel_safe)\n",
    "\n",
    "unifDistr = RandomDistribution('uniform', (-70,-65), rng=rng)\n",
    "#exc_cells.initialize('v':unifDistr)\n",
    "inh_cells.initialize('V_m',unifDistr)\n",
    "exc_cells.initialize('V_m',unifDistr)"
   ]
  },
  {
   "cell_type": "markdown",
   "metadata": {},
   "source": [
    "## Readout Neurons"
   ]
  },
  {
   "cell_type": "code",
   "execution_count": 5,
   "metadata": {
    "collapsed": true
   },
   "outputs": [],
   "source": [
    "readout_neurons = p.Population(2, celltype, label=\"readout_neuron\")"
   ]
  },
  {
   "cell_type": "markdown",
   "metadata": {},
   "source": [
    "# Define Neural Projections "
   ]
  },
  {
   "cell_type": "code",
   "execution_count": 6,
   "metadata": {
    "collapsed": false
   },
   "outputs": [
    {
     "data": {
      "text/plain": [
       "('excitatory', 'inhibitory')"
      ]
     },
     "execution_count": 6,
     "metadata": {},
     "output_type": "execute_result"
    }
   ],
   "source": [
    "celltype.synapse_types"
   ]
  },
  {
   "cell_type": "markdown",
   "metadata": {},
   "source": [
    "## Projection from Input to Reservoir"
   ]
  },
  {
   "cell_type": "code",
   "execution_count": 7,
   "metadata": {
    "collapsed": false
   },
   "outputs": [],
   "source": [
    "inp_weight=3.\n",
    "inp_delay =1\n",
    "\n",
    "inp_weight_distr = RandomDistribution('normal', [inp_weight, 1e-3], rng=rng)\n",
    "\n",
    "# connect each input neuron to 30% of the reservoir neurons\n",
    "inp_conn = p.FixedProbabilityConnector(p_connect=0.3,weights =inp_weight_distr, delays=inp_delay)\n",
    "\n",
    "\n",
    "\n",
    "connections = {}\n",
    "\n",
    "\n",
    "connections['inp2e'] = p.Projection(inp_pop, exc_cells, inp_conn)\n",
    "connections['inp2i'] = p.Projection(inp_pop, inh_cells, inp_conn)\n"
   ]
  },
  {
   "cell_type": "markdown",
   "metadata": {},
   "source": [
    "## Projection within Reservoir"
   ]
  },
  {
   "cell_type": "code",
   "execution_count": 8,
   "metadata": {
    "collapsed": false
   },
   "outputs": [],
   "source": [
    "pconn = 0.01      # sparse connection probability\n",
    "\n",
    "# scale the weights w.r.t. the network to keep it stable\n",
    "w_exc = 0.2/np.sqrt(n_exc)      # nA\n",
    "w_inh = -0.8/np.sqrt(n_inh)   # nA\n",
    "delay_exc = 1      # defines how long (ms) the synapse takes for transmission\n",
    "delay_inh = 1\n",
    "\n",
    "weight_distr_exc = RandomDistribution('normal', [w_exc, 1e-3/n_exc], rng=rng)\n",
    "weight_distr_inh = RandomDistribution('normal', [w_inh, 1e-3/n_inh], rng=rng)\n",
    "\n",
    "\n",
    "#exc_conn = p.FixedProbabilityConnector(pconn, rng=rng)\n",
    "#inh_conn = p.FixedProbabilityConnector(pconn, rng=rng)\n",
    "\n",
    "exc_conn = p.FixedProbabilityConnector(pconn, weights=weight_distr_exc, delays=delay_exc)\n",
    "inh_conn = p.FixedProbabilityConnector(pconn, weights=weight_distr_inh, delays=delay_inh)\n",
    "\n",
    "\n",
    "connections['e2e'] = p.Projection(exc_cells, exc_cells, exc_conn, target='excitatory')\n",
    "connections['e2i'] = p.Projection(exc_cells, inh_cells, exc_conn, target='excitatory')\n",
    "connections['i2e'] = p.Projection(inh_cells, exc_cells, inh_conn, target='inhibitory')\n",
    "connections['i2i'] = p.Projection(inh_cells, inh_cells, inh_conn, target='inhibitory')"
   ]
  },
  {
   "cell_type": "code",
   "execution_count": 9,
   "metadata": {
    "collapsed": false
   },
   "outputs": [
    {
     "name": "stderr",
     "output_type": "stream",
     "text": [
      "No handlers could be found for logger \"PyNN\"\n"
     ]
    },
    {
     "data": {
      "text/plain": [
       "array([[ 0.,  0.,  0., ...,  0.,  0.,  0.],\n",
       "       [ 0.,  0.,  0., ...,  0.,  0.,  0.],\n",
       "       [ 0.,  0.,  0., ...,  0.,  0.,  0.],\n",
       "       ..., \n",
       "       [ 0.,  0.,  0., ...,  0.,  0.,  0.],\n",
       "       [ 0.,  0.,  0., ...,  0.,  0.,  0.],\n",
       "       [ 0.,  0.,  0., ...,  0.,  0.,  0.]])"
      ]
     },
     "execution_count": 9,
     "metadata": {},
     "output_type": "execute_result"
    }
   ],
   "source": [
    "weights_e2e = connections['e2e'].getWeights(format='array')\n",
    "weights_e2i = connections['e2i'].getWeights(format='array')\n",
    "weights_i2e = connections['i2e'].getWeights(format='array')\n",
    "weights_i2i = connections['i2i'].getWeights(format='array')\n",
    "np.shape(weights_e2e)\n",
    "np.shape(weights_i2e)\n",
    "\n",
    "a=np.concatenate((weights_e2e,weights_i2e), axis=0)\n",
    "b=np.concatenate((weights_e2i,weights_i2i), axis=0)\n",
    "weight_matrix=np.concatenate((a,b), axis=1)\n",
    "np.shape(weight_matrix)\n",
    "np.nan_to_num(weight_matrix, copy=False)\n"
   ]
  },
  {
   "cell_type": "code",
   "execution_count": 10,
   "metadata": {
    "collapsed": false
   },
   "outputs": [
    {
     "data": {
      "text/plain": [
       "<matplotlib.collections.PathCollection at 0x7f8a7f2d9a50>"
      ]
     },
     "execution_count": 10,
     "metadata": {},
     "output_type": "execute_result"
    },
    {
     "data": {
      "image/png": "[encoded data removed]",
      "text/plain": [
       "<matplotlib.figure.Figure at 0x7f8a7f409e50>"
      ]
     },
     "metadata": {},
     "output_type": "display_data"
    }
   ],
   "source": [
    "# complete weight matrix --> eigenvalues are more dense in the center if f>0.5\n",
    "\n",
    "eigenvalues, eigenvectors=np.linalg.eig(weight_matrix)\n",
    "plt.scatter(eigenvalues.real, eigenvalues.imag)"
   ]
  },
  {
   "cell_type": "code",
   "execution_count": 11,
   "metadata": {
    "collapsed": false
   },
   "outputs": [
    {
     "data": {
      "text/plain": [
       "array([[ 0.,  0.,  0., ...,  0.,  0.,  0.],\n",
       "       [ 0.,  0.,  0., ...,  0.,  0.,  0.],\n",
       "       [ 0.,  0.,  0., ...,  0.,  0.,  0.],\n",
       "       ..., \n",
       "       [ 0.,  0.,  0., ...,  0.,  0.,  0.],\n",
       "       [ 0.,  0.,  0., ...,  0.,  0.,  0.],\n",
       "       [ 0.,  0.,  0., ...,  0.,  0.,  0.]])"
      ]
     },
     "execution_count": 11,
     "metadata": {},
     "output_type": "execute_result"
    }
   ],
   "source": [
    "# E-E weight matrix -> eigenvalues are uniformly distributed\n",
    "\n",
    "weights = connections['e2e'].getWeights(format='array')\n",
    "np.nan_to_num(weights, copy=False)\n",
    "weights"
   ]
  },
  {
   "cell_type": "code",
   "execution_count": 12,
   "metadata": {
    "collapsed": false
   },
   "outputs": [
    {
     "data": {
      "text/plain": [
       "<matplotlib.collections.PathCollection at 0x7f8a7f0d7490>"
      ]
     },
     "execution_count": 12,
     "metadata": {},
     "output_type": "execute_result"
    },
    {
     "data": {
      "image/png": "[encoded data removed]",
      "text/plain": [
       "<matplotlib.figure.Figure at 0x7f8a7f409b50>"
      ]
     },
     "metadata": {},
     "output_type": "display_data"
    }
   ],
   "source": [
    "eigenvalues, eigenvectors=np.linalg.eig(weights)\n",
    "plt.scatter(eigenvalues.real, eigenvalues.imag)\n",
    "#eigenvalues"
   ]
  },
  {
   "cell_type": "markdown",
   "metadata": {},
   "source": [
    "## Projection to Readout Neurons"
   ]
  },
  {
   "cell_type": "code",
   "execution_count": 13,
   "metadata": {
    "collapsed": false
   },
   "outputs": [],
   "source": [
    "rout_w_exc = 20   # nA\n",
    "rout_w_inh = -80   # nA\n",
    "# 20, -51\n",
    "\n",
    "rout_conn_exc = p.AllToAllConnector(weights=rout_w_exc, delays=delay_exc)\n",
    "rout_conn_inh = p.AllToAllConnector(weights=rout_w_inh, delays=delay_exc)\n",
    "\n",
    "\n",
    "connections['e2rout'] = p.Projection(exc_cells, readout_neurons, rout_conn_exc, target='excitatory')\n",
    "connections['i2rout'] = p.Projection(inh_cells, readout_neurons, rout_conn_inh, target='inhibitory')\n"
   ]
  },
  {
   "cell_type": "markdown",
   "metadata": {},
   "source": [
    "## Record spikes and voltages from readout_neurons"
   ]
  },
  {
   "cell_type": "code",
   "execution_count": 14,
   "metadata": {
    "collapsed": false
   },
   "outputs": [],
   "source": [
    "readout_neurons.record()\n",
    "#readout_neurons.record_v()\n",
    "exc_cells.record()\n",
    "inp_pop.record()"
   ]
  },
  {
   "cell_type": "markdown",
   "metadata": {},
   "source": [
    "# Run the Simulation and Plot the Spikes"
   ]
  },
  {
   "cell_type": "code",
   "execution_count": 15,
   "metadata": {
    "collapsed": false
   },
   "outputs": [
    {
     "name": "stdout",
     "output_type": "stream",
     "text": [
      "0.0546350479126\n"
     ]
    }
   ],
   "source": [
    "timer.reset()\n",
    "p.run(simulation_time)\n",
    "a= timer.elapsedTime()  # [s], ~0.11 s\n",
    "print a\n",
    "\n",
    "r_spikes = readout_neurons.getSpikes()\n",
    "#r_v = readout_neurons.get_v()\n",
    "exc_spikes = exc_cells.getSpikes()\n",
    "inp_spikes = inp_pop.getSpikes()\n",
    "\n"
   ]
  },
  {
   "cell_type": "code",
   "execution_count": 16,
   "metadata": {
    "collapsed": true
   },
   "outputs": [],
   "source": [
    "p.end()"
   ]
  },
  {
   "cell_type": "code",
   "execution_count": 17,
   "metadata": {
    "collapsed": false
   },
   "outputs": [
    {
     "name": "stdout",
     "output_type": "stream",
     "text": [
      "(590, 2)\n"
     ]
    },
    {
     "data": {
      "text/plain": [
       "array([[ 0. ,  2.2],\n",
       "       [ 1. ,  2.2],\n",
       "       [ 0. ,  2.3],\n",
       "       [ 1. ,  2.3],\n",
       "       [ 0. ,  2.5],\n",
       "       [ 1. ,  2.5],\n",
       "       [ 0. ,  2.6],\n",
       "       [ 1. ,  2.6],\n",
       "       [ 0. ,  2.9],\n",
       "       [ 1. ,  2.9]])"
      ]
     },
     "execution_count": 17,
     "metadata": {},
     "output_type": "execute_result"
    }
   ],
   "source": [
    "shape=np.shape(r_spikes)\n",
    "print(shape)\n",
    "r_spikes[0:10,:]"
   ]
  },
  {
   "cell_type": "code",
   "execution_count": 18,
   "metadata": {
    "collapsed": false
   },
   "outputs": [
    {
     "data": {
      "text/plain": [
       "0.00013899803161621094"
      ]
     },
     "execution_count": 18,
     "metadata": {},
     "output_type": "execute_result"
    }
   ],
   "source": [
    "timer.reset()\n",
    "timer.elapsedTime()"
   ]
  },
  {
   "cell_type": "code",
   "execution_count": 19,
   "metadata": {
    "collapsed": false
   },
   "outputs": [
    {
     "name": "stdout",
     "output_type": "stream",
     "text": [
      "0\n",
      "(295,)\n",
      "1\n",
      "(295,)\n"
     ]
    }
   ],
   "source": [
    "spiketrains = []\n",
    "for i in range(int(r_spikes[:,0].max())+1): # for all readout neurons\n",
    "    print i\n",
    "    spiketrain = r_spikes[np.where(r_spikes[:,0]==i),1]\n",
    "    spiketrain=np.squeeze(spiketrain)\n",
    "    print np.shape(spiketrain)\n",
    "    spiketrains.append(spiketrain)"
   ]
  },
  {
   "cell_type": "code",
   "execution_count": 26,
   "metadata": {
    "collapsed": false
   },
   "outputs": [
    {
     "name": "stdout",
     "output_type": "stream",
     "text": [
      "[ 149.48987633  149.48987633]\n"
     ]
    }
   ],
   "source": [
    "# compute the readout spike rates at the last spike time\n",
    "\n",
    "f = lambda x: x*0.3*np.exp(2-x*0.3)\n",
    "n_neurons= int(inp_spikes[:,0].max())+1\n",
    "\n",
    "spiketrains = []\n",
    "# for all readout neurons\n",
    "for i in range(n_neurons): \n",
    "    spiketrain = inp_spikes[np.where(inp_spikes[:,0]==i),1]\n",
    "    spiketrain=np.squeeze(spiketrain)\n",
    "    spiketrains.append(spiketrain)\n",
    "     # Spiketrains is a list with the spiketime-arrays for each neuron as elements\n",
    "\n",
    "last_spike = np.max(spiketrains)\n",
    "alpha_rates=np.zeros((n_neurons,))\n",
    "\n",
    "for i, spiketrain in enumerate(spiketrains):\n",
    "\tfor spike in spiketrain:\n",
    "            # weight spike based on time\n",
    "\t    alpha_rates[i]+=f(last_spike-spike)\n",
    "    \n",
    "print alpha_rates"
   ]
  },
  {
   "cell_type": "code",
   "execution_count": 21,
   "metadata": {
    "collapsed": true
   },
   "outputs": [],
   "source": [
    "# plot\n",
    "def plot_spikes(spiketrain):\n",
    "    st = [spike[1] for spike in spiketrain] # spike times\n",
    "    sid = [spike[0] for spike in spiketrain]\n",
    "\n",
    "    plt.plot(st, sid, \"|\")\n",
    "    plt.axis([np.min(st), np.max(st), np.min(sid)-1, np.max(sid)+1])\n",
    "    plt.xlabel('Time (ms)')\n",
    "    plt.ylabel('Neuron ID')\n",
    "    plt.title('Spike Plot')\n",
    "    plt.xlim(xmin=0)\n",
    "    plt.show()"
   ]
  },
  {
   "cell_type": "code",
   "execution_count": 22,
   "metadata": {
    "collapsed": false
   },
   "outputs": [
    {
     "data": {
      "image/png": "[encoded data removed]",
      "text/plain": [
       "<matplotlib.figure.Figure at 0x7f8a7f09e710>"
      ]
     },
     "metadata": {},
     "output_type": "display_data"
    }
   ],
   "source": [
    "plot_spikes(exc_spikes)"
   ]
  },
  {
   "cell_type": "code",
   "execution_count": 23,
   "metadata": {
    "collapsed": false
   },
   "outputs": [
    {
     "data": {
      "image/png": "[encoded data removed]",
      "text/plain": [
       "<matplotlib.figure.Figure at 0x7f8a6ea5e790>"
      ]
     },
     "metadata": {},
     "output_type": "display_data"
    }
   ],
   "source": [
    "plot_spikes(r_spikes)"
   ]
  },
  {
   "cell_type": "code",
   "execution_count": null,
   "metadata": {
    "collapsed": true
   },
   "outputs": [],
   "source": [
    "# separability\n",
    "# learning\n",
    "# perceptron readouts"
   ]
  },
  {
   "cell_type": "code",
   "execution_count": null,
   "metadata": {
    "collapsed": true
   },
   "outputs": [],
   "source": []
  },
  {
   "cell_type": "code",
   "execution_count": null,
   "metadata": {
    "collapsed": true
   },
   "outputs": [],
   "source": []
  }
 ],
 "metadata": {
  "kernelspec": {
   "display_name": "Python 2",
   "language": "python",
   "name": "python2"
  },
  "language_info": {
   "codemirror_mode": {
    "name": "ipython",
    "version": 2
   },
   "file_extension": ".py",
   "mimetype": "text/x-python",
   "name": "python",
   "nbconvert_exporter": "python",
   "pygments_lexer": "ipython2",
   "version": "2.7.12"
  }
 },
 "nbformat": 4,
 "nbformat_minor": 1
}
