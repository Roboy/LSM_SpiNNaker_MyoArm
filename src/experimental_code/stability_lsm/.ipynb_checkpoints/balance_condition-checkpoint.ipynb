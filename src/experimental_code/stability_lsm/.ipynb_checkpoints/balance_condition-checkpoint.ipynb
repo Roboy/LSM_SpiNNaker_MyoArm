{
 "cells": [
  {
   "cell_type": "code",
   "execution_count": 36,
   "metadata": {
    "collapsed": false
   },
   "outputs": [
    {
     "data": {
      "text/plain": [
       "0"
      ]
     },
     "execution_count": 36,
     "metadata": {},
     "output_type": "execute_result"
    }
   ],
   "source": [
    "import pyNN.nest as p\n",
    "from pyNN.random import NumpyRNG, RandomDistribution\n",
    "from pyNN.utility import Timer\n",
    "import pylab\n",
    "import numpy as np\n",
    "import matplotlib.pyplot as plt\n",
    "%matplotlib inline\n",
    "\n",
    "timer = Timer()\n",
    "ts = 0.1\n",
    "simulation_time = 50\n",
    "\n",
    "#p.setup(timestep=ts, min_delay=ts, max_delay=2.0*ts) # 0.1ms \n",
    "p.setup(timestep=ts) # 0.1ms"
   ]
  },
  {
   "cell_type": "markdown",
   "metadata": {},
   "source": [
    "# Define Neural Populations"
   ]
  },
  {
   "cell_type": "code",
   "execution_count": 120,
   "metadata": {
    "collapsed": false
   },
   "outputs": [
    {
     "name": "stdout",
     "output_type": "stream",
     "text": [
      "800 200\n"
     ]
    }
   ],
   "source": [
    "n_input_neurons     = 10\n",
    "n_readout_neurons   = 2\n",
    "n_reservoir_neurons = 1000\n",
    "exc_rate            = 0.8 # % of excitatory neurons in reservoir\n",
    "\n",
    "\n",
    "n_exc = int(round(n_reservoir_neurons*exc_rate))\n",
    "n_inh = n_reservoir_neurons-n_exc\n",
    "print n_exc, n_inh\n",
    "\n",
    "izh_celltype = p.native_cell_type('izhikevich')\n",
    "if_celltype = p.IF_curr_exp\n",
    "\n",
    "celltype = izh_celltype"
   ]
  },
  {
   "cell_type": "markdown",
   "metadata": {},
   "source": [
    "## Input Population"
   ]
  },
  {
   "cell_type": "code",
   "execution_count": 121,
   "metadata": {
    "collapsed": true
   },
   "outputs": [],
   "source": [
    "spike_source = p.native_cell_type('poisson_generator')\n",
    "#inp_pop=p.Population(n_input_neurons,spike_source,{'rate':100.0, 'origin':20, 'start':50, 'stop':100})\n",
    "inp_pop=p.Population(n_input_neurons,spike_source,{'rate':10.0})"
   ]
  },
  {
   "cell_type": "markdown",
   "metadata": {},
   "source": [
    "## Reservoir Populations - Excitatory and Inhibitory"
   ]
  },
  {
   "cell_type": "code",
   "execution_count": 122,
   "metadata": {
    "collapsed": false
   },
   "outputs": [],
   "source": [
    "exc_cells = p.Population(n_exc, celltype, label=\"Excitatory_Cells\")\n",
    "inh_cells = p.Population(n_inh, celltype, label=\"Inhibitory_Cells\")\n",
    "\n",
    "# initialize with a uniform random distributin\n",
    "# use seeding for reproducability\n",
    "rngseed = 98766987\n",
    "parallel_safe = True\n",
    "rng = NumpyRNG(seed=rngseed, parallel_safe=parallel_safe)\n",
    "\n",
    "unifDistr = RandomDistribution('uniform', (-70,-65), rng=rng)\n",
    "#exc_cells.initialize('v':unifDistr)\n",
    "inh_cells.initialize('V_m',unifDistr)\n",
    "exc_cells.initialize('V_m',unifDistr)"
   ]
  },
  {
   "cell_type": "markdown",
   "metadata": {},
   "source": [
    "## Readout Neurons"
   ]
  },
  {
   "cell_type": "code",
   "execution_count": 123,
   "metadata": {
    "collapsed": true
   },
   "outputs": [],
   "source": [
    "readout_neurons = p.Population(2, celltype, label=\"readout_neuron\")"
   ]
  },
  {
   "cell_type": "markdown",
   "metadata": {},
   "source": [
    "# Define Neural Projections "
   ]
  },
  {
   "cell_type": "code",
   "execution_count": 124,
   "metadata": {
    "collapsed": false
   },
   "outputs": [
    {
     "data": {
      "text/plain": [
       "('excitatory', 'inhibitory')"
      ]
     },
     "execution_count": 124,
     "metadata": {},
     "output_type": "execute_result"
    }
   ],
   "source": [
    "celltype.synapse_types"
   ]
  },
  {
   "cell_type": "markdown",
   "metadata": {},
   "source": [
    "## Projection from Input to Reservoir"
   ]
  },
  {
   "cell_type": "code",
   "execution_count": 125,
   "metadata": {
    "collapsed": false
   },
   "outputs": [],
   "source": [
    "inp_weight=3.\n",
    "inp_delay =1\n",
    "\n",
    "inp_weight_distr = RandomDistribution('normal', [inp_weight, 1e-3], rng=rng)\n",
    "\n",
    "# connect each input neuron to 30% of the reservoir neurons\n",
    "inp_conn = p.FixedProbabilityConnector(p_connect=0.3,weights =inp_weight_distr, delays=inp_delay)\n",
    "\n",
    "\n",
    "\n",
    "connections = {}\n",
    "\n",
    "\n",
    "connections['inp2e'] = p.Projection(inp_pop, exc_cells, inp_conn)\n",
    "connections['inp2i'] = p.Projection(inp_pop, inh_cells, inp_conn)\n"
   ]
  },
  {
   "cell_type": "markdown",
   "metadata": {},
   "source": [
    "## Projection within Reservoir"
   ]
  },
  {
   "cell_type": "code",
   "execution_count": 126,
   "metadata": {
    "collapsed": false
   },
   "outputs": [],
   "source": [
    "pconn = 0.01      # sparse connection probability\n",
    "\n",
    "# scale the weights w.r.t. the network to keep it stable\n",
    "w_exc = 0.2/np.sqrt(n_exc)      # nA\n",
    "w_inh = -0.8/np.sqrt(n_inh)   # nA\n",
    "delay_exc = 1      # defines how long (ms) the synapse takes for transmission\n",
    "delay_inh = 1\n",
    "\n",
    "weight_distr_exc = RandomDistribution('normal', [w_exc, 1e-3/n_exc], rng=rng)\n",
    "weight_distr_inh = RandomDistribution('normal', [w_inh, 1e-3/n_inh], rng=rng)\n",
    "\n",
    "\n",
    "\n",
    "#exc_conn = p.FixedProbabilityConnector(pconn, rng=rng)\n",
    "#inh_conn = p.FixedProbabilityConnector(pconn, rng=rng)\n",
    "\n",
    "exc_conn = p.FixedProbabilityConnector(pconn, weights=weight_distr_exc, delays=delay_exc)\n",
    "inh_conn = p.FixedProbabilityConnector(pconn, weights=weight_distr_inh, delays=delay_inh)\n",
    "\n",
    "\n",
    "connections['e2e'] = p.Projection(exc_cells, exc_cells, exc_conn, target='excitatory')\n",
    "connections['e2i'] = p.Projection(exc_cells, inh_cells, exc_conn, target='excitatory')\n"
   ]
  },
  {
   "cell_type": "markdown",
   "metadata": {},
   "source": [
    "# Balance Condition: Choose inhibitory weights "
   ]
  },
  {
   "cell_type": "code",
   "execution_count": 127,
   "metadata": {
    "collapsed": false
   },
   "outputs": [
    {
     "name": "stdout",
     "output_type": "stream",
     "text": [
      "(800,)\n",
      "(200,)\n"
     ]
    }
   ],
   "source": [
    "weights_e2e = connections['e2e'].getWeights(format='array')\n",
    "weights_e2i = connections['e2i'].getWeights(format='array')\n",
    "\n",
    "np.nan_to_num(weights_e2e, copy=False)\n",
    "np.nan_to_num(weights_e2i, copy=False)\n",
    "\n",
    "\n",
    "e2e_column_sums = np.sum(weights_e2e, axis=0)\n",
    "e2i_column_sums = np.sum(weights_e2i, axis=0)\n",
    "print np.shape(e2e_column_sums)\n",
    "print np.shape(e2i_column_sums)"
   ]
  },
  {
   "cell_type": "code",
   "execution_count": 128,
   "metadata": {
    "collapsed": false
   },
   "outputs": [
    {
     "data": {
      "text/plain": [
       "(200, 800)"
      ]
     },
     "execution_count": 128,
     "metadata": {},
     "output_type": "execute_result"
    }
   ],
   "source": [
    "# i2e\n",
    "import numpy.matlib\n",
    "i2e_mean_weights = -e2e_column_sums/n_inh\n",
    "i2e_weights = np.matlib.repmat(i2e_mean_weights,n_inh,1)\n",
    "np.shape(i2e_weights)\n"
   ]
  },
  {
   "cell_type": "markdown",
   "metadata": {},
   "source": [
    "Better approximation of column and row balance condition"
   ]
  },
  {
   "cell_type": "code",
   "execution_count": 129,
   "metadata": {
    "collapsed": false
   },
   "outputs": [
    {
     "ename": "IndexError",
     "evalue": "index 40 is out of bounds for axis 0 with size 40",
     "output_type": "error",
     "traceback": [
      "\u001b[0;31m---------------------------------------------------------------------------\u001b[0m",
      "\u001b[0;31mIndexError\u001b[0m                                Traceback (most recent call last)",
      "\u001b[0;32m<ipython-input-129-a74c03732fa2>\u001b[0m in \u001b[0;36m<module>\u001b[0;34m()\u001b[0m\n\u001b[1;32m      8\u001b[0m \u001b[0;32mfor\u001b[0m \u001b[0mi\u001b[0m \u001b[0;32min\u001b[0m \u001b[0mrange\u001b[0m\u001b[0;34m(\u001b[0m\u001b[0mnp\u001b[0m\u001b[0;34m.\u001b[0m\u001b[0mshape\u001b[0m\u001b[0;34m(\u001b[0m\u001b[0mi2i_weights\u001b[0m\u001b[0;34m)\u001b[0m\u001b[0;34m[\u001b[0m\u001b[0;36m0\u001b[0m\u001b[0;34m]\u001b[0m\u001b[0;34m)\u001b[0m\u001b[0;34m:\u001b[0m\u001b[0;34m\u001b[0m\u001b[0m\n\u001b[1;32m      9\u001b[0m     \u001b[0;32mfor\u001b[0m \u001b[0mj\u001b[0m \u001b[0;32min\u001b[0m \u001b[0mrange\u001b[0m\u001b[0;34m(\u001b[0m\u001b[0mnp\u001b[0m\u001b[0;34m.\u001b[0m\u001b[0mshape\u001b[0m\u001b[0;34m(\u001b[0m\u001b[0mi2i_weights\u001b[0m\u001b[0;34m)\u001b[0m\u001b[0;34m[\u001b[0m\u001b[0;36m1\u001b[0m\u001b[0;34m]\u001b[0m\u001b[0;34m)\u001b[0m\u001b[0;34m:\u001b[0m\u001b[0;34m\u001b[0m\u001b[0m\n\u001b[0;32m---> 10\u001b[0;31m         \u001b[0mnew_weight\u001b[0m \u001b[0;34m=\u001b[0m \u001b[0;34m-\u001b[0m\u001b[0mnp\u001b[0m\u001b[0;34m.\u001b[0m\u001b[0msum\u001b[0m\u001b[0;34m(\u001b[0m\u001b[0mweights_i2e\u001b[0m\u001b[0;34m[\u001b[0m\u001b[0mi\u001b[0m\u001b[0;34m,\u001b[0m\u001b[0;34m:\u001b[0m\u001b[0;34m]\u001b[0m\u001b[0;34m)\u001b[0m \u001b[0;34m+\u001b[0m \u001b[0mnp\u001b[0m\u001b[0;34m.\u001b[0m\u001b[0msum\u001b[0m\u001b[0;34m(\u001b[0m\u001b[0mweights_e2i\u001b[0m\u001b[0;34m[\u001b[0m\u001b[0;34m:\u001b[0m\u001b[0;34m,\u001b[0m\u001b[0mj\u001b[0m\u001b[0;34m]\u001b[0m\u001b[0;34m)\u001b[0m\u001b[0;34m\u001b[0m\u001b[0m\n\u001b[0m\u001b[1;32m     11\u001b[0m         \u001b[0;32mif\u001b[0m \u001b[0mnew_weight\u001b[0m \u001b[0;34m<\u001b[0m \u001b[0;36m0\u001b[0m\u001b[0;34m:\u001b[0m\u001b[0;34m\u001b[0m\u001b[0m\n\u001b[1;32m     12\u001b[0m             \u001b[0mi2i_weights\u001b[0m\u001b[0;34m[\u001b[0m\u001b[0mi\u001b[0m\u001b[0;34m,\u001b[0m\u001b[0mj\u001b[0m\u001b[0;34m]\u001b[0m\u001b[0;34m=\u001b[0m\u001b[0mnew_weight\u001b[0m\u001b[0;34m\u001b[0m\u001b[0m\n",
      "\u001b[0;31mIndexError\u001b[0m: index 40 is out of bounds for axis 0 with size 40"
     ]
    }
   ],
   "source": [
    "# i2i\n",
    "# chose weights as negated sum of their row and column sum\n",
    "# Problem: some values get non-negative\n",
    "# missing: row-sum=0 in E-E + E-I\n",
    "i2i_weights = np.zeros((np.shape(i2e_weights)[0],np.shape(e2i_column_sums)[0]))\n",
    "np.shape(i2i_weights)\n",
    "\n",
    "for i in range(np.shape(i2i_weights)[0]):\n",
    "    for j in range(np.shape(i2i_weights)[1]):\n",
    "        new_weight = -np.sum(weights_i2e[i,:]) + np.sum(weights_e2i[:,j])\n",
    "        if new_weight < 0:\n",
    "            i2i_weights[i,j]=new_weight\n",
    "        else:\n",
    "            i2i_weights[i,j]=0"
   ]
  },
  {
   "cell_type": "markdown",
   "metadata": {},
   "source": [
    "Perfect column balance codition (all column sums are 0). This means, that the input to every excitatory neurons sums up to 0"
   ]
  },
  {
   "cell_type": "code",
   "execution_count": 130,
   "metadata": {
    "collapsed": false
   },
   "outputs": [
    {
     "data": {
      "text/plain": [
       "(200, 200)"
      ]
     },
     "execution_count": 130,
     "metadata": {},
     "output_type": "execute_result"
    }
   ],
   "source": [
    "# only column sum for i2i\n",
    "i2i_mean_weights = -e2i_column_sums/n_inh\n",
    "i2i_weights = np.matlib.repmat(i2i_mean_weights,n_inh,1)\n",
    "np.shape(i2i_weights)\n"
   ]
  },
  {
   "cell_type": "code",
   "execution_count": 131,
   "metadata": {
    "collapsed": false
   },
   "outputs": [],
   "source": [
    "i_e_conn = p.AllToAllConnector(weights=i2e_weights, delays=delay_inh)\n",
    "i_i_conn = p.AllToAllConnector(weights=i2i_weights, delays=delay_inh)\n",
    "\n",
    "connections['i2e'] = p.Projection(inh_cells, exc_cells, i_e_conn, target='inhibitory')\n",
    "connections['i2i'] = p.Projection(inh_cells, inh_cells, i_i_conn, target='inhibitory')"
   ]
  },
  {
   "cell_type": "code",
   "execution_count": 132,
   "metadata": {
    "collapsed": false
   },
   "outputs": [
    {
     "name": "stdout",
     "output_type": "stream",
     "text": [
      "(1000, 1000)\n"
     ]
    },
    {
     "data": {
      "text/plain": [
       "array([[ 0.        ,  0.        ,  0.        , ...,  0.        ,\n",
       "         0.        ,  0.        ],\n",
       "       [ 0.        ,  0.        ,  0.        , ...,  0.        ,\n",
       "         0.        ,  0.        ],\n",
       "       [ 0.        ,  0.        ,  0.        , ...,  0.        ,\n",
       "         0.        ,  0.        ],\n",
       "       ..., \n",
       "       [-0.00031823, -0.00017677, -0.00031816, ..., -0.00045962,\n",
       "        -0.00017674, -0.00028282],\n",
       "       [-0.00031823, -0.00017677, -0.00031816, ..., -0.00045962,\n",
       "        -0.00017674, -0.00028282],\n",
       "       [-0.00031823, -0.00017677, -0.00031816, ..., -0.00045962,\n",
       "        -0.00017674, -0.00028282]])"
      ]
     },
     "execution_count": 132,
     "metadata": {},
     "output_type": "execute_result"
    }
   ],
   "source": [
    "weights_i2e = connections['i2e'].getWeights(format='array')\n",
    "weights_i2i = connections['i2i'].getWeights(format='array')\n",
    "np.shape(weights_e2e)\n",
    "np.shape(weights_i2e)\n",
    "\n",
    "a=np.concatenate((weights_e2e,weights_i2e), axis=0)\n",
    "b=np.concatenate((weights_e2i,weights_i2i), axis=0)\n",
    "weight_matrix=np.concatenate((a,b), axis=1)\n",
    "print np.shape(weight_matrix)\n",
    "np.nan_to_num(weight_matrix, copy=False)\n"
   ]
  },
  {
   "cell_type": "code",
   "execution_count": 133,
   "metadata": {
    "collapsed": false
   },
   "outputs": [
    {
     "name": "stdout",
     "output_type": "stream",
     "text": [
      "3.54100429534e-16\n",
      "4.03540048599e-16\n"
     ]
    }
   ],
   "source": [
    "# compute column-sums\n",
    "a = np.max(np.sum(weight_matrix[:,0:159],axis=0))\n",
    "print a\n",
    "b = np.max(np.sum(weight_matrix[:,160:199],axis=0))\n",
    "print b"
   ]
  },
  {
   "cell_type": "code",
   "execution_count": 134,
   "metadata": {
    "collapsed": false
   },
   "outputs": [
    {
     "data": {
      "text/plain": [
       "<matplotlib.collections.PathCollection at 0x7fc5cfb1cb50>"
      ]
     },
     "execution_count": 134,
     "metadata": {},
     "output_type": "execute_result"
    },
    {
     "data": {
      "image/png": "[encoded data removed]",
      "text/plain": [
       "<matplotlib.figure.Figure at 0x7fc5d0021fd0>"
      ]
     },
     "metadata": {},
     "output_type": "display_data"
    }
   ],
   "source": [
    "# complete weight matrix --> eigenvalues are more dense in the center if f>0.5\n",
    "\n",
    "eigenvalues, eigenvectors=np.linalg.eig(weight_matrix)\n",
    "plt.scatter(eigenvalues.real, eigenvalues.imag)"
   ]
  },
  {
   "cell_type": "code",
   "execution_count": 135,
   "metadata": {
    "collapsed": false
   },
   "outputs": [
    {
     "data": {
      "text/plain": [
       "array([[ 0.,  0.,  0., ...,  0.,  0.,  0.],\n",
       "       [ 0.,  0.,  0., ...,  0.,  0.,  0.],\n",
       "       [ 0.,  0.,  0., ...,  0.,  0.,  0.],\n",
       "       ..., \n",
       "       [ 0.,  0.,  0., ...,  0.,  0.,  0.],\n",
       "       [ 0.,  0.,  0., ...,  0.,  0.,  0.],\n",
       "       [ 0.,  0.,  0., ...,  0.,  0.,  0.]])"
      ]
     },
     "execution_count": 135,
     "metadata": {},
     "output_type": "execute_result"
    }
   ],
   "source": [
    "# E-E weight matrix -> eigenvalues are uniformly distributed\n",
    "\n",
    "weights = connections['e2e'].getWeights(format='array')\n",
    "np.nan_to_num(weights, copy=False)\n",
    "weights"
   ]
  },
  {
   "cell_type": "code",
   "execution_count": 136,
   "metadata": {
    "collapsed": false
   },
   "outputs": [
    {
     "data": {
      "text/plain": [
       "<matplotlib.collections.PathCollection at 0x7fc5cfd40e50>"
      ]
     },
     "execution_count": 136,
     "metadata": {},
     "output_type": "execute_result"
    },
    {
     "data": {
      "image/png": "[encoded data removed]",
      "text/plain": [
       "<matplotlib.figure.Figure at 0x7fc5cf128390>"
      ]
     },
     "metadata": {},
     "output_type": "display_data"
    }
   ],
   "source": [
    "eigenvalues, eigenvectors=np.linalg.eig(weights)\n",
    "plt.scatter(eigenvalues.real, eigenvalues.imag)\n",
    "#eigenvalues"
   ]
  },
  {
   "cell_type": "markdown",
   "metadata": {},
   "source": [
    "## Projection to Readout Neurons"
   ]
  },
  {
   "cell_type": "code",
   "execution_count": 137,
   "metadata": {
    "collapsed": false
   },
   "outputs": [],
   "source": [
    "rout_w_exc = 20   # nA\n",
    "rout_w_inh = -80   # nA\n",
    "# 20, -51\n",
    "\n",
    "rout_conn_exc = p.AllToAllConnector(weights=rout_w_exc, delays=delay_exc)\n",
    "rout_conn_inh = p.AllToAllConnector(weights=rout_w_inh, delays=delay_exc)\n",
    "\n",
    "\n",
    "connections['e2rout'] = p.Projection(exc_cells, readout_neurons, rout_conn_exc, target='excitatory')\n",
    "connections['i2rout'] = p.Projection(inh_cells, readout_neurons, rout_conn_inh, target='inhibitory')\n"
   ]
  },
  {
   "cell_type": "markdown",
   "metadata": {},
   "source": [
    "## Record spikes and voltages from readout_neurons"
   ]
  },
  {
   "cell_type": "code",
   "execution_count": 138,
   "metadata": {
    "collapsed": false
   },
   "outputs": [],
   "source": [
    "readout_neurons.record()\n",
    "#readout_neurons.record_v()\n",
    "exc_cells.record()\n",
    "inp_pop.record()"
   ]
  },
  {
   "cell_type": "markdown",
   "metadata": {},
   "source": [
    "# Run the Simulation and Plot the Spikes"
   ]
  },
  {
   "cell_type": "code",
   "execution_count": 139,
   "metadata": {
    "collapsed": false
   },
   "outputs": [
    {
     "name": "stdout",
     "output_type": "stream",
     "text": [
      "0.0877549648285\n"
     ]
    }
   ],
   "source": [
    "timer.reset()\n",
    "p.run(simulation_time)\n",
    "a= timer.elapsedTime()  # [s], ~0.11 s\n",
    "print a\n",
    "\n",
    "r_spikes = readout_neurons.getSpikes()\n",
    "#r_v = readout_neurons.get_v()\n",
    "exc_spikes = exc_cells.getSpikes()\n",
    "inp_spikes = inp_pop.getSpikes()\n",
    "\n"
   ]
  },
  {
   "cell_type": "code",
   "execution_count": 140,
   "metadata": {
    "collapsed": true
   },
   "outputs": [],
   "source": [
    "p.end()"
   ]
  },
  {
   "cell_type": "code",
   "execution_count": 141,
   "metadata": {
    "collapsed": false
   },
   "outputs": [
    {
     "name": "stdout",
     "output_type": "stream",
     "text": [
      "(630, 2)\n"
     ]
    },
    {
     "data": {
      "text/plain": [
       "array([[ 0. ,  2.3],\n",
       "       [ 1. ,  2.3],\n",
       "       [ 0. ,  2.5],\n",
       "       [ 1. ,  2.5],\n",
       "       [ 0. ,  2.8],\n",
       "       [ 1. ,  2.8],\n",
       "       [ 0. ,  2.9],\n",
       "       [ 1. ,  2.9],\n",
       "       [ 0. ,  3. ],\n",
       "       [ 1. ,  3. ]])"
      ]
     },
     "execution_count": 141,
     "metadata": {},
     "output_type": "execute_result"
    }
   ],
   "source": [
    "shape=np.shape(r_spikes)\n",
    "print(shape)\n",
    "r_spikes[0:10,:]"
   ]
  },
  {
   "cell_type": "code",
   "execution_count": 142,
   "metadata": {
    "collapsed": false
   },
   "outputs": [
    {
     "data": {
      "text/plain": [
       "3.600120544433594e-05"
      ]
     },
     "execution_count": 142,
     "metadata": {},
     "output_type": "execute_result"
    }
   ],
   "source": [
    "timer.reset()\n",
    "timer.elapsedTime()"
   ]
  },
  {
   "cell_type": "code",
   "execution_count": 143,
   "metadata": {
    "collapsed": false
   },
   "outputs": [
    {
     "name": "stdout",
     "output_type": "stream",
     "text": [
      "0\n",
      "(315,)\n",
      "1\n",
      "(315,)\n"
     ]
    }
   ],
   "source": [
    "spiketrains = []\n",
    "for i in range(int(r_spikes[:,0].max())+1): # for all readout neurons\n",
    "    print i\n",
    "    spiketrain = r_spikes[np.where(r_spikes[:,0]==i),1]\n",
    "    spiketrain=np.squeeze(spiketrain)\n",
    "    print np.shape(spiketrain)\n",
    "    spiketrains.append(spiketrain)"
   ]
  },
  {
   "cell_type": "code",
   "execution_count": 144,
   "metadata": {
    "collapsed": false
   },
   "outputs": [
    {
     "data": {
      "text/plain": [
       "315"
      ]
     },
     "execution_count": 144,
     "metadata": {},
     "output_type": "execute_result"
    }
   ],
   "source": [
    "len(spiketrain)"
   ]
  },
  {
   "cell_type": "markdown",
   "metadata": {
    "collapsed": false
   },
   "source": [
    "# TODO compute the input spike rates at the last spike time\n",
    "# -> helps to calibrate the spike rate\n",
    "\n",
    "\n",
    "f = lambda x: x*0.3*np.exp(2-x*0.3)\n",
    "n_neurons= int(inp_spikes[:,0].max())+1\n",
    "\n",
    "spiketrains = []\n",
    "# for all readout neurons\n",
    "for i in range(n_neurons): \n",
    "    spiketrain = inp_spikes[np.where(inp_spikes[:,0]==i),1]\n",
    "    spiketrain=np.squeeze(spiketrain)\n",
    "    spiketrains.append(spiketrain)\n",
    "     # Spiketrains is a list with the spiketime-arrays for each neuron as elements\n",
    "\n",
    "last_spike = np.max(spiketrains)\n",
    "alpha_rates=np.zeros((n_neurons,))\n",
    "\n",
    "for i, spiketrain in enumerate(spiketrains):\n",
    "\tfor spike in spiketrain:\n",
    "            # weight spike based on time\n",
    "\t    alpha_rates[i]+=f(last_spike-spike)\n",
    "    \n",
    "print alpha_rates"
   ]
  },
  {
   "cell_type": "code",
   "execution_count": 145,
   "metadata": {
    "collapsed": false
   },
   "outputs": [
    {
     "name": "stdout",
     "output_type": "stream",
     "text": [
      "[ 176.58210865  176.58210865]\n"
     ]
    }
   ],
   "source": [
    "# compute the readout spike rates at the last spike time\n",
    "\n",
    "f = lambda x: x*0.3*np.exp(2-x*0.3)\n",
    "n_neurons= int(r_spikes[:,0].max())+1\n",
    "\n",
    "spiketrains = []\n",
    "# for all readout neurons\n",
    "for i in range(n_neurons): \n",
    "    spiketrain = r_spikes[np.where(r_spikes[:,0]==i),1]\n",
    "    spiketrain=np.squeeze(spiketrain)\n",
    "    spiketrains.append(spiketrain)\n",
    "     # Spiketrains is a list with the spiketime-arrays for each neuron as elements\n",
    "\n",
    "last_spike = np.max(spiketrains)\n",
    "alpha_rates=np.zeros((n_neurons,))\n",
    "\n",
    "for i, spiketrain in enumerate(spiketrains):\n",
    "\tfor spike in spiketrain:\n",
    "            # weight spike based on time\n",
    "\t    alpha_rates[i]+=f(last_spike-spike)\n",
    "    \n",
    "print alpha_rates"
   ]
  },
  {
   "cell_type": "code",
   "execution_count": 146,
   "metadata": {
    "collapsed": true
   },
   "outputs": [],
   "source": [
    "# plot\n",
    "def plot_spikes(spiketrain):\n",
    "    st = [spike[1] for spike in spiketrain] # spike times\n",
    "    sid = [spike[0] for spike in spiketrain]\n",
    "\n",
    "    plt.plot(st, sid, \"|\")\n",
    "    plt.axis([np.min(st), np.max(st), np.min(sid)-1, np.max(sid)+1])\n",
    "    plt.xlabel('Time (ms)')\n",
    "    plt.ylabel('Neuron ID')\n",
    "    plt.title('Spike Plot')\n",
    "    plt.xlim(xmin=0)\n",
    "    plt.show()"
   ]
  },
  {
   "cell_type": "code",
   "execution_count": 147,
   "metadata": {
    "collapsed": false
   },
   "outputs": [
    {
     "data": {
      "image/png": "[encoded data removed]",
      "text/plain": [
       "<matplotlib.figure.Figure at 0x7fc5cc481650>"
      ]
     },
     "metadata": {},
     "output_type": "display_data"
    }
   ],
   "source": [
    "plot_spikes(exc_spikes)"
   ]
  },
  {
   "cell_type": "code",
   "execution_count": 148,
   "metadata": {
    "collapsed": false
   },
   "outputs": [
    {
     "data": {
      "image/png": "[encoded data removed]",
      "text/plain": [
       "<matplotlib.figure.Figure at 0x7fc5cfcb98d0>"
      ]
     },
     "metadata": {},
     "output_type": "display_data"
    }
   ],
   "source": [
    "plot_spikes(r_spikes)"
   ]
  },
  {
   "cell_type": "code",
   "execution_count": null,
   "metadata": {
    "collapsed": true
   },
   "outputs": [],
   "source": [
    "# separability\n",
    "# learning\n",
    "# perceptron readouts"
   ]
  },
  {
   "cell_type": "code",
   "execution_count": null,
   "metadata": {
    "collapsed": true
   },
   "outputs": [],
   "source": []
  },
  {
   "cell_type": "code",
   "execution_count": null,
   "metadata": {
    "collapsed": true
   },
   "outputs": [],
   "source": []
  }
 ],
 "metadata": {
  "kernelspec": {
   "display_name": "Python 2",
   "language": "python",
   "name": "python2"
  },
  "language_info": {
   "codemirror_mode": {
    "name": "ipython",
    "version": 2
   },
   "file_extension": ".py",
   "mimetype": "text/x-python",
   "name": "python",
   "nbconvert_exporter": "python",
   "pygments_lexer": "ipython2",
   "version": "2.7.12"
  }
 },
 "nbformat": 4,
 "nbformat_minor": 1
}
