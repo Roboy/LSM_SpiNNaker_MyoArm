{
 "cells": [
  {
   "cell_type": "code",
   "execution_count": 1,
   "metadata": {
    "collapsed": true
   },
   "outputs": [],
   "source": [
    "import pyNN.nest as p\n",
    "from pyNN.random import NumpyRNG, RandomDistribution\n",
    "from pyNN.utility import Timer\n",
    "import pylab\n",
    "import numpy as np\n",
    "import matplotlib.pyplot as plt\n",
    "%matplotlib inline\n",
    "\n",
    "timer = Timer()\n",
    "ts = 0.1\n",
    "simulation_time = 100\n"
   ]
  },
  {
   "cell_type": "code",
   "execution_count": 2,
   "metadata": {
    "collapsed": false
   },
   "outputs": [],
   "source": [
    "def setup(simulation_time, ts):\n",
    "\n",
    "\n",
    "    timer = Timer()\n",
    "    \n",
    "\n",
    "    #p.setup(timestep=ts, min_delay=ts, max_delay=2.0*ts) # 0.1ms \n",
    "    p.setup(timestep=ts) # 0.1ms\n",
    "\n"
   ]
  },
  {
   "cell_type": "code",
   "execution_count": 177,
   "metadata": {
    "collapsed": false
   },
   "outputs": [],
   "source": [
    "def compute_network_state(n_res, w_exc_b, w_inh_b, rout_w_exc, rout_w_inh, inp_rate):\n",
    "    n_input_neurons     = 10\n",
    "    n_readout_neurons   = 2\n",
    "    n_reservoir_neurons = n_res\n",
    "    exc_rate            = 0.5 # % of excitatory neurons in reservoir\n",
    "\n",
    "    n_exc = int(round(n_reservoir_neurons*exc_rate))\n",
    "    n_inh = n_reservoir_neurons-n_exc\n",
    "    izh_celltype = p.native_cell_type('izhikevich')\n",
    "    if_celltype = p.IF_curr_exp\n",
    "    celltype = if_celltype\n",
    "    \n",
    "    spike_source = p.native_cell_type('poisson_generator')\n",
    "    inp_pop=p.Population(n_input_neurons,spike_source,{'rate':inp_rate, 'start':0.0,'stop':40.0})\n",
    "    \n",
    "    #exc_cells = p.Population(n_exc, celltype,cellparams={'tau_refrac':1.}, label=\"Excitatory_Cells\")\n",
    "    exc_cells = p.Population(n_exc, celltype, label=\"Excitatory_Cells\")\n",
    "    inh_cells = p.Population(n_inh, celltype, label=\"Inhibitory_Cells\")\n",
    "\n",
    "    # initialize with a uniform random distributin\n",
    "    # use seeding for reproducability\n",
    "    rngseed = 98766987\n",
    "    parallel_safe = True\n",
    "    rng = NumpyRNG(seed=rngseed, parallel_safe=parallel_safe)\n",
    "\n",
    "    unifDistr = RandomDistribution('uniform', (-70,-65), rng=rng)\n",
    "    inh_cells.initialize('V_m',unifDistr)\n",
    "    exc_cells.initialize('V_m',unifDistr)\n",
    "    \n",
    "    readout_neurons = p.Population(2, celltype, label=\"readout_neuron\")\n",
    "    \n",
    "    inp_weight=3.\n",
    "    inp_delay =1\n",
    "\n",
    "    inp_weight_distr = RandomDistribution('normal', [inp_weight, 1e-3], rng=rng)\n",
    "\n",
    "    # connect each input neuron to 30% of the reservoir neurons\n",
    "    inp_conn = p.FixedProbabilityConnector(p_connect=0.3/np.sqrt(n_res)*np.sqrt(200),weights =inp_weight_distr, delays=inp_delay)\n",
    "\n",
    "    connections = {}\n",
    "    connections['inp2e'] = p.Projection(inp_pop, exc_cells, inp_conn)\n",
    "    connections['inp2i'] = p.Projection(inp_pop, inh_cells, inp_conn)\n",
    "\n",
    "    pconn = 0.05      # sparse connection probability\n",
    "\n",
    "    # scale the weights w.r.t. the network to keep it stable\n",
    "    w_exc = w_exc_b/np.sqrt(n_res)      # nA\n",
    "    w_inh = w_inh_b/np.sqrt(n_res)   # nA\n",
    "    \n",
    "    # without weight scaling\n",
    "    #w_exc = w_exc_b/np.sqrt(200)      # nA\n",
    "    #w_inh = w_inh_b/np.sqrt(200)  # nA\n",
    "    \n",
    "    delay_exc = 1      # defines how long (ms) the synapse takes for transmission\n",
    "    delay_inh = 1\n",
    "\n",
    "    weight_distr_exc = RandomDistribution('normal', [w_exc, 1/n_res], rng=rng)\n",
    "    weight_distr_inh = RandomDistribution('normal', [w_inh, 1/n_res], rng=rng)\n",
    "    exc_conn = p.FixedProbabilityConnector(pconn, weights=weight_distr_exc, delays=delay_exc)\n",
    "    inh_conn = p.FixedProbabilityConnector(pconn, weights=weight_distr_inh, delays=delay_inh)\n",
    "\n",
    "    connections['e2e'] = p.Projection(exc_cells, exc_cells, exc_conn, target='excitatory')\n",
    "    connections['e2i'] = p.Projection(exc_cells, inh_cells, exc_conn, target='excitatory')\n",
    "    connections['i2e'] = p.Projection(inh_cells, exc_cells, inh_conn, target='inhibitory')\n",
    "    connections['i2i'] = p.Projection(inh_cells, inh_cells, inh_conn, target='inhibitory')\n",
    "    \n",
    "    # Eigenvalue analysis for stability\n",
    "    \n",
    "    weights_e2e = connections['e2e'].getWeights(format='array')\n",
    "    weights_e2i = connections['e2i'].getWeights(format='array')\n",
    "    weights_i2e = connections['i2e'].getWeights(format='array')\n",
    "    weights_i2i = connections['i2i'].getWeights(format='array')\n",
    "\n",
    "    a=np.concatenate((weights_e2e,weights_i2e), axis=0)\n",
    "    b=np.concatenate((weights_e2i,weights_i2i), axis=0)\n",
    "    weight_matrix=np.concatenate((a,b), axis=1)\n",
    "    np.nan_to_num(weight_matrix, copy=False)\n",
    "    eigenvalues, eigenvectors=np.linalg.eig(weight_matrix)\n",
    "    # uncomment the next line if you want to remove the oulier on the real-axis\n",
    "    #eigenvalues = eigenvalues[np.where(eigenvalues.imag != 0)]\n",
    "    plt.scatter(eigenvalues.real, eigenvalues.imag)\n",
    "    '''\n",
    "    weights_e2e = connections['e2e'].getWeights(format='array')\n",
    "    np.nan_to_num(weights_e2e, copy=False)\n",
    "    eigenvalues, eigenvectors=np.linalg.eig(weights_e2e)\n",
    "    plt.scatter(eigenvalues.real, eigenvalues.imag)\n",
    "    '''\n",
    "    \n",
    "    rout_conn_exc = p.AllToAllConnector(weights=rout_w_exc, delays=delay_exc)\n",
    "    rout_conn_inh = p.AllToAllConnector(weights=rout_w_inh, delays=delay_exc)\n",
    "\n",
    "    \n",
    "    \n",
    "\n",
    "    connections['e2rout'] = p.Projection(exc_cells, readout_neurons, rout_conn_exc, target='excitatory')\n",
    "    connections['i2rout'] = p.Projection(inh_cells, readout_neurons, rout_conn_inh, target='inhibitory')\n",
    "    \n",
    "    readout_neurons.record()\n",
    "    exc_cells.record()\n",
    "    inh_cells.record()\n",
    "    inp_pop.record()\n",
    "    \n",
    "    \n",
    "    p.run(simulation_time)\n",
    "\n",
    "    r_spikes = readout_neurons.getSpikes()\n",
    "    exc_spikes = exc_cells.getSpikes()\n",
    "    inh_spikes = inh_cells.getSpikes()\n",
    "    inp_spikes = inp_pop.getSpikes()\n",
    "\n",
    "    #p.end()\n",
    "    \n",
    "    return r_spikes, exc_spikes, inh_spikes, inp_spikes"
   ]
  },
  {
   "cell_type": "code",
   "execution_count": 178,
   "metadata": {
    "collapsed": true
   },
   "outputs": [],
   "source": [
    "def plot_spikes(spiketrain):\n",
    "    st = [spike[1] for spike in spiketrain] # spike times\n",
    "    sid = [spike[0] for spike in spiketrain]\n",
    "\n",
    "    plt.plot(st, sid, \"|\")\n",
    "    plt.axis([np.min(st), 100, np.min(sid)-1, np.max(sid)+1])\n",
    "    plt.xlabel('Time (ms)')\n",
    "    plt.ylabel('Neuron ID')\n",
    "    plt.title('Spike Plot')\n",
    "    plt.xlim(xmin=0)\n",
    "    plt.show()"
   ]
  },
  {
   "cell_type": "markdown",
   "metadata": {},
   "source": [
    "# Define and Run Network"
   ]
  },
  {
   "cell_type": "code",
   "execution_count": 179,
   "metadata": {
    "collapsed": false
   },
   "outputs": [
    {
     "data": {
      "image/png": "[encoded data removed]",
      "text/plain": [
       "<matplotlib.figure.Figure at 0x7f1dbd2fe890>"
      ]
     },
     "metadata": {},
     "output_type": "display_data"
    }
   ],
   "source": [
    "n_res=1000\n",
    "w_exc_b=2.828\n",
    "w_inh_b=-11.312\n",
    "rout_w_exc=20\n",
    "rout_w_inh=-80\n",
    "inp_rate=100.0\n",
    "\n",
    "ts = 0.1\n",
    "simulation_time = 100\n",
    "\n",
    "setup(simulation_time,ts)\n",
    "r_spikes, exc_spikes, inh_spikes, inp_spikes = compute_network_state(n_res, w_exc_b, w_inh_b, rout_w_exc, rout_w_inh, inp_rate)\n"
   ]
  },
  {
   "cell_type": "code",
   "execution_count": 168,
   "metadata": {
    "collapsed": false
   },
   "outputs": [
    {
     "data": {
      "image/png": "[encoded data removed]",
      "text/plain": [
       "<matplotlib.figure.Figure at 0x7f1dcfdb3b50>"
      ]
     },
     "metadata": {},
     "output_type": "display_data"
    }
   ],
   "source": [
    "plot_spikes(exc_spikes)"
   ]
  },
  {
   "cell_type": "code",
   "execution_count": 133,
   "metadata": {
    "collapsed": false
   },
   "outputs": [
    {
     "data": {
      "image/png": "[encoded data removed]",
      "text/plain": [
       "<matplotlib.figure.Figure at 0x7f1dbd1e7cd0>"
      ]
     },
     "metadata": {},
     "output_type": "display_data"
    }
   ],
   "source": [
    "plot_spikes(r_spikes)"
   ]
  },
  {
   "cell_type": "code",
   "execution_count": 134,
   "metadata": {
    "collapsed": false
   },
   "outputs": [
    {
     "data": {
      "image/png": "[encoded data removed]",
      "text/plain": [
       "<matplotlib.figure.Figure at 0x7f1dbce20bd0>"
      ]
     },
     "metadata": {},
     "output_type": "display_data"
    }
   ],
   "source": [
    "plot_spikes(inp_spikes)"
   ]
  },
  {
   "cell_type": "code",
   "execution_count": null,
   "metadata": {
    "collapsed": false
   },
   "outputs": [],
   "source": [
    "st = [spike[1] for spike in r_spikes]\n",
    "st[:10]\n"
   ]
  },
  {
   "cell_type": "code",
   "execution_count": null,
   "metadata": {
    "collapsed": false
   },
   "outputs": [],
   "source": [
    "r_spikes[:10]"
   ]
  },
  {
   "cell_type": "code",
   "execution_count": null,
   "metadata": {
    "collapsed": false
   },
   "outputs": [],
   "source": [
    "np.shape(r_spikes)"
   ]
  },
  {
   "cell_type": "code",
   "execution_count": null,
   "metadata": {
    "collapsed": false
   },
   "outputs": [],
   "source": [
    "np.shape(exc_spikes)"
   ]
  },
  {
   "cell_type": "code",
   "execution_count": null,
   "metadata": {
    "collapsed": true
   },
   "outputs": [],
   "source": [
    "def get_spike_rates(spikes):\n",
    "    \"\"\"returns the rates of all neurons in the recorded population\"\"\"\n",
    "    shape=np.shape(spikes)\n",
    "    spike_rates=np.zeros((int(np.max(spikes[:,0]))+1,))\n",
    "    for i in range(shape[0]): # for each spikes\n",
    "        for j in range(int(np.max(spikes[:,0]))+1): #for each neuron\n",
    "            if spikes[i,0]==j:\n",
    "                spike_rates[j]+=1\n",
    "    return spike_rates"
   ]
  },
  {
   "cell_type": "code",
   "execution_count": null,
   "metadata": {
    "collapsed": false
   },
   "outputs": [],
   "source": [
    "spike_rates=get_spike_rates(r_spikes)\n",
    "spike_rates"
   ]
  },
  {
   "cell_type": "code",
   "execution_count": null,
   "metadata": {
    "collapsed": false
   },
   "outputs": [],
   "source": [
    "res_rates=get_spike_rates(exc_spikes)\n",
    "res_rates"
   ]
  },
  {
   "cell_type": "code",
   "execution_count": null,
   "metadata": {
    "collapsed": false
   },
   "outputs": [],
   "source": [
    "# separability: different input signals (1. rates, 2. time series of rates)\n",
    "# must lead to different reservoir state vectors\n",
    "# needs a distance metric"
   ]
  },
  {
   "cell_type": "code",
   "execution_count": null,
   "metadata": {
    "collapsed": true
   },
   "outputs": [],
   "source": [
    "n_res=200\n",
    "w_exc_b=2\n",
    "w_inh_b=-8\n",
    "rout_w_exc=20\n",
    "rout_w_inh=-80\n",
    "inp_rate=20.0\n",
    "\n",
    "r_spikes2, exc_spikes2 = compute_network_state(n_res, w_exc_b, w_inh_b, rout_w_exc, rout_w_inh, inp_rate)\n"
   ]
  },
  {
   "cell_type": "code",
   "execution_count": null,
   "metadata": {
    "collapsed": true
   },
   "outputs": [],
   "source": []
  }
 ],
 "metadata": {
  "kernelspec": {
   "display_name": "Python 2",
   "language": "python",
   "name": "python2"
  },
  "language_info": {
   "codemirror_mode": {
    "name": "ipython",
    "version": 2
   },
   "file_extension": ".py",
   "mimetype": "text/x-python",
   "name": "python",
   "nbconvert_exporter": "python",
   "pygments_lexer": "ipython2",
   "version": "2.7.12"
  }
 },
 "nbformat": 4,
 "nbformat_minor": 1
}
