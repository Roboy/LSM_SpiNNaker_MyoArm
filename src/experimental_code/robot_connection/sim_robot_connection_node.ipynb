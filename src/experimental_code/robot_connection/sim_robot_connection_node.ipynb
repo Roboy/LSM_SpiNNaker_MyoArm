{
 "cells": [
  {
   "cell_type": "code",
   "execution_count": 1,
   "metadata": {
    "collapsed": true
   },
   "outputs": [],
   "source": [
    "import rospy\n",
    "from roboy_simulation.msg import MotorControl\n",
    "from std_msgs.msg import Float32\n",
    "from IPython.display import clear_output"
   ]
  },
  {
   "cell_type": "code",
   "execution_count": 2,
   "metadata": {},
   "outputs": [
    {
     "name": "stdout",
     "output_type": "stream",
     "text": [
      "[INFO] [1498816419.236345, 0.000000]: starting---------------\n"
     ]
    }
   ],
   "source": [
    "rospy.init_node('robot_connection_node')\n",
    "rate = rospy.Rate(10) # 10 Hz\n",
    "rospy.loginfo('starting---------------')\n",
    "global left_motor_flag\n",
    "left_motor_flag = True"
   ]
  },
  {
   "cell_type": "code",
   "execution_count": 3,
   "metadata": {
    "collapsed": true
   },
   "outputs": [],
   "source": [
    "def callback(data_input):\n",
    "    global left_motor_flag\n",
    "    message =data_input.data\n",
    "    command = MotorControl()\n",
    "    command.roboyID =0\n",
    "    if left_motor_flag:\n",
    "        command.voltage =[message/30,0]\n",
    "        left_motor_flag = False\n",
    "    else:\n",
    "        command.voltage =[0,message/50]\n",
    "        left_motor_flag = True\n",
    "    clear_output()\n",
    "    rospy.loginfo('Sending motor command: '+''.join(str(e)+' | ' for e in command.voltage)+'\\r')\n",
    "    pub.publish(command)\n",
    "    rospy.sleep(4)"
   ]
  },
  {
   "cell_type": "code",
   "execution_count": 4,
   "metadata": {},
   "outputs": [
    {
     "name": "stdout",
     "output_type": "stream",
     "text": [
      "[INFO] [1498816546.295565, 84.200000]: Sending motor command: 0 | 0.346955718994 | \r\n"
     ]
    }
   ],
   "source": [
    "rospy.Subscriber(\"/roboy/motor/muscleLength\", Float32, callback)\n",
    "pub=rospy.Publisher(\"/roboy/motor_control\", MotorControl, queue_size=10)"
   ]
  },
  {
   "cell_type": "code",
   "execution_count": null,
   "metadata": {},
   "outputs": [],
   "source": [
    "rospy.spin()"
   ]
  },
  {
   "cell_type": "code",
   "execution_count": null,
   "metadata": {
    "collapsed": true
   },
   "outputs": [],
   "source": []
  }
 ],
 "metadata": {
  "kernelspec": {
   "display_name": "Python 2",
   "language": "python",
   "name": "python2"
  },
  "language_info": {
   "codemirror_mode": {
    "name": "ipython",
    "version": 2
   },
   "file_extension": ".py",
   "mimetype": "text/x-python",
   "name": "python",
   "nbconvert_exporter": "python",
   "pygments_lexer": "ipython2",
   "version": "2.7.12"
  }
 },
 "nbformat": 4,
 "nbformat_minor": 1
}
