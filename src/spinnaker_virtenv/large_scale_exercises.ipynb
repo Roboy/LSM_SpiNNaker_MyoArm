{
 "cells": [
  {
   "cell_type": "code",
   "execution_count": 1,
   "metadata": {},
   "outputs": [
    {
     "name": "stderr",
     "output_type": "stream",
     "text": [
      "2017-08-30 19:40:20 INFO: Read config files: /home/roboy/.spynnaker.cfg, /usr/local/lib/python2.7/dist-packages/spynnaker/spynnaker.cfg\n"
     ]
    }
   ],
   "source": [
    "# coding: utf-8\n",
    "\n",
    "import socket\n",
    "\n",
    "simulator_name = 'spiNNaker'\n",
    "\n",
    "#exec(\"from pyNN.%s import *\" % simulator_name)\n",
    "from spynnaker.pyNN import *\n",
    "import pyNN.spiNNaker as p\n",
    "\n",
    "from pyNN.random import NumpyRNG, RandomDistribution\n",
    "from pyNN.utility import Timer\n",
    "import numpy as np\n",
    "\n",
    "timer = Timer()"
   ]
  },
  {
   "cell_type": "code",
   "execution_count": null,
   "metadata": {
    "collapsed": true
   },
   "outputs": [],
   "source": []
  },
  {
   "cell_type": "code",
   "execution_count": 2,
   "metadata": {},
   "outputs": [
    {
     "ename": "NameError",
     "evalue": "name 'threads' is not defined",
     "output_type": "error",
     "traceback": [
      "\u001b[0;31m--------------------------------------------------------------------------\u001b[0m",
      "\u001b[0;31mNameError\u001b[0m                                Traceback (most recent call last)",
      "\u001b[0;32m<ipython-input-2-f2b9d7376444>\u001b[0m in \u001b[0;36m<module>\u001b[0;34m()\u001b[0m\n\u001b[1;32m      1\u001b[0m \u001b[0;31m# === setup connection to SpiNNaker ===\u001b[0m\u001b[0;34m\u001b[0m\u001b[0;34m\u001b[0m\u001b[0m\n\u001b[1;32m      2\u001b[0m \u001b[0;34m\u001b[0m\u001b[0m\n\u001b[0;32m----> 3\u001b[0;31m extra = {'threads': threads,\n\u001b[0m\u001b[1;32m      4\u001b[0m          \u001b[0;34m'filename'\u001b[0m\u001b[0;34m:\u001b[0m \u001b[0;34m\"Izhikevich_reservoir.xml\"\u001b[0m\u001b[0;34m,\u001b[0m\u001b[0;34m\u001b[0m\u001b[0m\n\u001b[1;32m      5\u001b[0m          'label': 'VA'}\n",
      "\u001b[0;31mNameError\u001b[0m: name 'threads' is not defined"
     ]
    }
   ],
   "source": [
    "# === setup connection to SpiNNaker ===\n",
    "\n",
    "extra = {'threads': threads,\n",
    "         'filename': \"Izhikevich_reservoir.xml\",\n",
    "         'label': 'VA'}\n",
    "\n",
    "node_id = setup(timestep=dt, min_delay=delay, max_delay=delay, db_name='Izhikevich_reservoir.sqlite', **extra)\n",
    "\n",
    "if simulator_name == 'spiNNaker':\n",
    "    set_number_of_neurons_per_core('IZK_cond_exp', 50)      # this will set 100 neurons per core\n",
    "\n",
    "node_id = 1\n",
    "np = 1\n",
    "\n",
    "host_name = socket.gethostname()\n",
    "print \"Host #%d is on %s\" % (np, host_name)\n",
    "\n",
    "print \"%s Initialising the simulator with %d thread(s)...\" % (\n",
    "    node_id, extra['threads'])"
   ]
  },
  {
   "cell_type": "code",
   "execution_count": null,
   "metadata": {
    "collapsed": true
   },
   "outputs": [],
   "source": []
  }
 ],
 "metadata": {
  "kernelspec": {
   "display_name": "Python 2",
   "language": "python",
   "name": "python2"
  },
  "language_info": {
   "codemirror_mode": {
    "name": "ipython",
    "version": 2
   },
   "file_extension": ".py",
   "mimetype": "text/x-python",
   "name": "python",
   "nbconvert_exporter": "python",
   "pygments_lexer": "ipython2",
   "version": "2.7.12"
  }
 },
 "nbformat": 4,
 "nbformat_minor": 2
}
