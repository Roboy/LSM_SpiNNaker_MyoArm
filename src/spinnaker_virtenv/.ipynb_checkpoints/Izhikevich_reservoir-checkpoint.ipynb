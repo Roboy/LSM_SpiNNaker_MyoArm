{
 "cells": [
  {
   "cell_type": "code",
   "execution_count": 2,
   "metadata": {
    "collapsed": false
   },
   "outputs": [
    {
     "ename": "ImportError",
     "evalue": "No module named nest",
     "output_type": "error",
     "traceback": [
      "\u001b[0;31m---------------------------------------------------------------------------\u001b[0m\n\u001b[0;31mImportError\u001b[0m                               Traceback (most recent call last)",
      "\u001b[0;32m<ipython-input-2-2fcea2c2f441>\u001b[0m in \u001b[0;36m<module>\u001b[0;34m()\u001b[0m\n\u001b[1;32m      7\u001b[0m \u001b[0;31m#import pyNN.spiNNaker as p\u001b[0m\u001b[0;34m\u001b[0m\u001b[0;34m\u001b[0m\u001b[0m\n\u001b[1;32m      8\u001b[0m \u001b[0;34m\u001b[0m\u001b[0m\n\u001b[0;32m----> 9\u001b[0;31m \u001b[0;32mfrom\u001b[0m \u001b[0mnest\u001b[0m \u001b[0;32mimport\u001b[0m \u001b[0;34m*\u001b[0m\u001b[0;34m\u001b[0m\u001b[0m\n\u001b[0m\u001b[1;32m     10\u001b[0m \u001b[0;32mfrom\u001b[0m \u001b[0mpyNN\u001b[0m\u001b[0;34m.\u001b[0m\u001b[0mrandom\u001b[0m \u001b[0;32mimport\u001b[0m \u001b[0mNumpyRNG\u001b[0m\u001b[0;34m,\u001b[0m \u001b[0mRandomDistribution\u001b[0m\u001b[0;34m\u001b[0m\u001b[0m\n\u001b[1;32m     11\u001b[0m \u001b[0;32mfrom\u001b[0m \u001b[0mpyNN\u001b[0m\u001b[0;34m.\u001b[0m\u001b[0mutility\u001b[0m \u001b[0;32mimport\u001b[0m \u001b[0mTimer\u001b[0m\u001b[0;34m\u001b[0m\u001b[0m\n",
      "\u001b[0;31mImportError\u001b[0m: No module named nest"
     ]
    }
   ],
   "source": [
    "import socket\n",
    "\n",
    "simulator_name = 'spiNNaker'\n",
    "\n",
    "\n",
    "from spynnaker.pyNN import *\n",
    "import pyNN.spiNNaker as p\n",
    "from pyNN.random import NumpyRNG, RandomDistribution\n",
    "from pyNN.utility import Timer\n",
    "\n",
    "timer = Timer()\n",
    "\n",
    "# === Define parameters ===\n",
    "threads = 1\n",
    "rngseed = 98766987\n",
    "parallel_safe = True\n",
    "stim_dur = 50.    # (ms) duration of random stimulation\n",
    "rate = 100.       # (Hz) frequency of the random stimulation\n",
    "\n",
    "dt = 1.0          # (ms) simulation timestep\n",
    "tstop = 1000      # (ms) simulaton duration\n",
    "delay = 2"
   ]
  },
  {
   "cell_type": "code",
   "execution_count": 39,
   "metadata": {
    "collapsed": false
   },
   "outputs": [
    {
     "name": "stdout",
     "output_type": "stream",
     "text": [
      "1200 300\n"
     ]
    }
   ],
   "source": [
    "n = 1500          # number of cells\n",
    "exc_ratio = 0.8   # ratio of excitatory neurons\n",
    "pconn = 0.02      # connection probability\n",
    "\n",
    "n_exc = int(round(n*0.8))\n",
    "n_inh = n-n_exc\n",
    "print n_exc, n_inh\n",
    "\n",
    "# === cell parameters === TODO: \n",
    "v_reset = -60.    # (mV)\n",
    "v_thresh = -50.   # (mV)\n",
    "\n",
    "Gexc = 4.     # (nS)\n",
    "Ginh = 51.    # (nS)\n",
    "w_exc = Gexc * 1e-3              # We convert conductances to uS\n",
    "w_inh = Ginh * 1e-3\n",
    "    \n"
   ]
  },
  {
   "cell_type": "code",
   "execution_count": 40,
   "metadata": {
    "collapsed": false
   },
   "outputs": [
    {
     "name": "stderr",
     "output_type": "stream",
     "text": [
      "2016-11-02 13:28:44 WARNING: Extra params has been applied to the setup command which we do not consider\n"
     ]
    },
    {
     "name": "stdout",
     "output_type": "stream",
     "text": [
      "Host #1 is on nicolas-acer\n",
      "1 Initialising the simulator with 1 thread(s)...\n"
     ]
    }
   ],
   "source": [
    "# === setup connection to SpiNNaker ===\n",
    "\n",
    "extra = {'threads': threads,\n",
    "         'filename': \"Izhikevich_reservoir.xml\",\n",
    "         'label': 'VA'}\n",
    "\n",
    "node_id = setup(timestep=dt, min_delay=delay, max_delay=delay, db_name='Izhikevich_reservoir.sqlite', **extra)\n",
    "\n",
    "if simulator_name == 'spiNNaker':\n",
    "    set_number_of_neurons_per_core('IZK_cond_exp', 50)      # this will set 100 neurons per core\n",
    "\n",
    "node_id = 1\n",
    "np = 1\n",
    "\n",
    "host_name = socket.gethostname()\n",
    "print \"Host #%d is on %s\" % (np, host_name)\n",
    "\n",
    "print \"%s Initialising the simulator with %d thread(s)...\" % (\n",
    "    node_id, extra['threads'])"
   ]
  },
  {
   "cell_type": "code",
   "execution_count": 41,
   "metadata": {
    "collapsed": false
   },
   "outputs": [
    {
     "name": "stdout",
     "output_type": "stream",
     "text": [
      "1 Creating cell populations...\n",
      "setting up the spike source\n"
     ]
    }
   ],
   "source": [
    "# === Build the network ===\n",
    "\n",
    "celltype = p.IZK_cond_exp\n",
    "cell_params = {'a':0.02, 'b':0.2, 'c':-65, 'd':6, 'i_offset':0.0}\n",
    "\n",
    "print \"%s Creating cell populations...\" % node_id\n",
    "exc_cells = Population(n_exc, celltype, cell_params, label=\"Excitatory_Cells\")\n",
    "inh_cells = Population(n_inh, celltype, cell_params, label=\"Inhibitory_Cells\")\n",
    "\n",
    "print(\"setting up the spike source\")\n",
    "ext_stim = Population(\n",
    "            20, SpikeSourcePoisson,\n",
    "            {'rate': rate, 'duration': stim_dur},\n",
    "            label=\"expoisson\")\n",
    "rconn = 0.01\n",
    "ext_conn = FixedProbabilityConnector(rconn, weights=0.1)\n",
    "ext_stim.record()"
   ]
  },
  {
   "cell_type": "code",
   "execution_count": 42,
   "metadata": {
    "collapsed": false
   },
   "outputs": [
    {
     "name": "stdout",
     "output_type": "stream",
     "text": [
      "1 Initialising membrane potential to random values...\n"
     ]
    }
   ],
   "source": [
    "print \"%s Initialising membrane potential to random values...\" % node_id\n",
    "\n",
    "rng = NumpyRNG(seed=rngseed, parallel_safe=parallel_safe)\n",
    "uniformDistr = RandomDistribution('uniform', [v_reset, v_thresh], rng=rng)\n",
    "exc_cells.initialize('v', uniformDistr)\n",
    "inh_cells.initialize('v', uniformDistr)"
   ]
  },
  {
   "cell_type": "code",
   "execution_count": 43,
   "metadata": {
    "collapsed": false
   },
   "outputs": [
    {
     "name": "stdout",
     "output_type": "stream",
     "text": [
      "1 Connecting populations...\n"
     ]
    }
   ],
   "source": [
    "print \"%s Connecting populations...\" % node_id\n",
    "exc_conn = FixedProbabilityConnector(pconn, weights=w_exc, delays=delay)\n",
    "inh_conn = FixedProbabilityConnector(pconn, weights=w_inh, delays=delay)\n",
    "\n",
    "connections = {}\n",
    "connections['e2e'] = Projection(exc_cells, exc_cells, exc_conn,\n",
    "                                target='excitatory', rng=rng)\n",
    "connections['e2i'] = Projection(exc_cells, inh_cells, exc_conn,\n",
    "                                target='excitatory', rng=rng)\n",
    "connections['i2e'] = Projection(inh_cells, exc_cells, inh_conn,\n",
    "                                target='inhibitory', rng=rng)\n",
    "connections['i2i'] = Projection(inh_cells, inh_cells, inh_conn,\n",
    "                                target='inhibitory', rng=rng)\n",
    "\n",
    "\n",
    "connections['ext2e'] = Projection(ext_stim, exc_cells, ext_conn,\n",
    "                                      target='excitatory')\n",
    "connections['ext2i'] = Projection(ext_stim, inh_cells, ext_conn,\n",
    "                                      target='excitatory')\n"
   ]
  },
  {
   "cell_type": "code",
   "execution_count": 44,
   "metadata": {
    "collapsed": false
   },
   "outputs": [
    {
     "name": "stderr",
     "output_type": "stream",
     "text": [
      "Verifying Machine\n",
      "|0                           50%                         100%|\n",
      " ============================================================\n",
      "Allocating virtual identifiers\n",
      "|0                           50%                         100%|\n",
      " ============================================================\n",
      "Partitioning graph vertices\n",
      "|0                           50%                         100%|\n",
      " ============================================================\n",
      "Partitioning graph edges\n",
      "|0                           50%                         100%|\n",
      " ============================================================\n",
      "Generating partitioner report\n",
      "|0                           50%                         100%|\n",
      " ============================================================\n",
      "Filtering edges\n",
      "|0                           50%                         100%|\n",
      " ============================================================\n",
      "Placing graph vertices\n",
      "|0                           50%                         100%|\n",
      " ============================================================\n",
      "Generating placement report\n",
      "|0                           50%                         100%|\n",
      " ============================================================\n",
      "Generating placement by core report\n",
      "|0                           50%                         100%|\n",
      " ============================================================\n",
      "Generating SDRAM usage report\n",
      "|0                           50%                         100%|\n",
      " ============================================================\n",
      "Routing\n",
      "|0                           50%                         100%|\n",
      " ============================================================\n",
      "Allocating tags\n",
      "|0                           50%                         100%|\n",
      " ============================================================\n",
      "Reporting Tags\n",
      "|0                           50%                         100%|\n",
      " ============================================================\n",
      "Deducing edge to number of keys map\n",
      "|0                           50%                         100%|\n",
      " ============================================================\n",
      "Allocating routing keys\n",
      "|0                           50%                         100%|\n",
      " ============================================================\n",
      "Generating Routing info report\n",
      "|0                           50%                         100%|\n",
      " ============================================================\n",
      "Generating routing tables\n",
      "|0                           50%                         100%|\n",
      " ============================================================\n",
      "Generating Router table report\n",
      "|0                           50%                         100%|\n",
      " ============================================================\n",
      "Compressing routing Tables\n",
      "|0                           50%                         100%|\n",
      " ============================================================\n",
      "Generating compressed router table report\n",
      "|0                           50%                         100%|\n",
      " ============================================================\n",
      "Generating comparison of router table report\n",
      "|0                           50%                         100%|\n",
      " ============================================================\n",
      "Generating sPyNNaker data specifications\n",
      "|0                           50%                         100%|\n",
      " ============================================================\n",
      "Loading routing data onto the machine\n",
      "|0                           50%                         100%|\n",
      " ============================================================\n",
      "Clearing tags\n",
      "|0                           50%                         100%|\n",
      " ============================================================\n",
      "Loading Tags\n",
      "|0                           50%                         100%|\n",
      " ============================================================\n",
      "Executing data specifications and loading data\n",
      "|0                           50%                         100%|\n",
      " ============================================================\n",
      "Loading executables onto the machine\n",
      "|0                           50%                         100%|\n",
      " ============================================================\n",
      "Initialising buffers\n",
      "|0                           50%                         100%|\n",
      " ============================================================\n",
      "Updating run time\n",
      "|0                           50%                         100%|\n",
      " ============================================================\n",
      "Loading buffers (0 bytes)\n",
      "|0                           50%                         100%|\n",
      " ============================================================"
     ]
    },
    {
     "name": "stdout",
     "output_type": "stream",
     "text": [
      "1 Setting up recording...\n",
      "1 Running simulation...\n",
      "timings: number of neurons: 1500\n",
      "timings: number of synapses: 45000.0\n"
     ]
    },
    {
     "name": "stderr",
     "output_type": "stream",
     "text": [
      "\n"
     ]
    }
   ],
   "source": [
    "\n",
    "# === Setup recording ===\n",
    "print \"%s Setting up recording...\" % node_id\n",
    "exc_cells.record()\n",
    "\n",
    "buildCPUTime = timer.diff()\n",
    "\n",
    "# === Run simulation ===\n",
    "print \"%d Running simulation...\" % node_id\n",
    "\n",
    "print \"timings: number of neurons:\", n\n",
    "print \"timings: number of synapses:\", n * n * pconn\n",
    "\n",
    "run(tstop)\n",
    "\n",
    "simCPUTime = timer.diff()\n"
   ]
  },
  {
   "cell_type": "code",
   "execution_count": 45,
   "metadata": {
    "collapsed": false
   },
   "outputs": [
    {
     "name": "stderr",
     "output_type": "stream",
     "text": [
      "Getting spikes for Excitatory_Cells\n",
      "|0                           50%                         100%|\n",
      " ============================================================\n",
      "Getting provenance data from partitioned graph\n",
      "|0                           50%                         100%|\n",
      " ============================================================\n",
      "Getting provenance data from partitionable graph\n",
      "|0                           50%                         100%|\n",
      " ============================================================\n",
      "Getting provenance data\n",
      "|0                           50%                         100%|\n",
      " ============================================================\n",
      "Getting Router Provenance\n",
      "|0                           50%                         100%|\n",
      " ============================================================\n"
     ]
    }
   ],
   "source": [
    "\n",
    "# === Print results to file ===\n",
    "\n",
    "import pylab\n",
    "\n",
    "exc_spikes = exc_cells.getSpikes(compatible_output=True)\n",
    "pylab.figure()\n",
    "pylab.plot([i[1] for i in exc_spikes],\n",
    "           [i[0] for i in exc_spikes], \".\", markersize=2)\n",
    "pylab.xlabel('Time/ms')\n",
    "pylab.ylabel('spikes')\n",
    "pylab.title('spikes')\n",
    "pylab.show()\n",
    "\n",
    "writeCPUTime = timer.diff()\n",
    "\n",
    "if node_id == 0:\n",
    "    print \"\\n--- Vogels-Abbott Network Simulation ---\"\n",
    "    print \"Nodes                  : %d\" % np\n",
    "    print \"Simulation type        : %s\" % benchmark\n",
    "    print \"Number of Neurons      : %d\" % n\n",
    "    print \"Number of Synapses     : %s\" % connections\n",
    "    print \"Excitatory conductance : %g nS\" % Gexc\n",
    "    print \"Inhibitory conductance : %g nS\" % Ginh\n",
    "    print \"Build time             : %g s\" % buildCPUTime\n",
    "    print \"Simulation time        : %g s\" % simCPUTime\n",
    "    print \"Writing time           : %g s\" % writeCPUTime\n",
    "\n",
    "\n",
    "# === Finished with simulator ===\n",
    "\n",
    "end()"
   ]
  },
  {
   "cell_type": "code",
   "execution_count": null,
   "metadata": {
    "collapsed": false
   },
   "outputs": [],
   "source": []
  }
 ],
 "metadata": {
  "kernelspec": {
   "display_name": "Python 2",
   "language": "python",
   "name": "python2"
  },
  "language_info": {
   "codemirror_mode": {
    "name": "ipython",
    "version": 2
   },
   "file_extension": ".py",
   "mimetype": "text/x-python",
   "name": "python",
   "nbconvert_exporter": "python",
   "pygments_lexer": "ipython2",
   "version": "2.7.12"
  }
 },
 "nbformat": 4,
 "nbformat_minor": 0
}
