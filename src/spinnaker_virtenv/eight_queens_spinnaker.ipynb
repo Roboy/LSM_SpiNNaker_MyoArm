{
 "cells": [
  {
   "cell_type": "code",
   "execution_count": 1,
   "metadata": {},
   "outputs": [
    {
     "name": "stderr",
     "output_type": "stream",
     "text": [
      "2017-06-22 12:32:49 INFO: Read config files: /home/nicolas/.spynnaker.cfg, /home/nicolas/master_thesis/spinnaker_lsm/spinnaker_virtenv/venv/local/lib/python2.7/site-packages/spynnaker/spynnaker.cfg\n"
     ]
    }
   ],
   "source": [
    "# coding: utf-8\n",
    "\n",
    "import socket\n",
    "\n",
    "simulator_name = 'spiNNaker'\n",
    "\n",
    "#exec(\"from pyNN.%s import *\" % simulator_name)\n",
    "from spynnaker.pyNN import *\n",
    "from pyNN.random import NumpyRNG, RandomDistribution\n",
    "from pyNN.utility import Timer\n",
    "import numpy as np\n",
    "\n",
    "timer = Timer()"
   ]
  },
  {
   "cell_type": "code",
   "execution_count": 2,
   "metadata": {},
   "outputs": [
    {
     "ename": "NameError",
     "evalue": "name 'p' is not defined",
     "output_type": "error",
     "traceback": [
      "\u001b[0;31m---------------------------------------------------------------------------\u001b[0m",
      "\u001b[0;31mNameError\u001b[0m                                 Traceback (most recent call last)",
      "\u001b[0;32m<ipython-input-2-da4576d23aed>\u001b[0m in \u001b[0;36m<module>\u001b[0;34m()\u001b[0m\n\u001b[1;32m      1\u001b[0m \u001b[0mqueens_positions\u001b[0m \u001b[0;34m=\u001b[0m \u001b[0mnp\u001b[0m\u001b[0;34m.\u001b[0m\u001b[0marray\u001b[0m\u001b[0;34m(\u001b[0m\u001b[0;34m[\u001b[0m\u001b[0;36m0\u001b[0m\u001b[0;34m,\u001b[0m\u001b[0;36m0\u001b[0m\u001b[0;34m,\u001b[0m\u001b[0;36m0\u001b[0m\u001b[0;34m,\u001b[0m\u001b[0;36m0\u001b[0m\u001b[0;34m,\u001b[0m\u001b[0;36m0\u001b[0m\u001b[0;34m,\u001b[0m\u001b[0;36m0\u001b[0m\u001b[0;34m,\u001b[0m\u001b[0;36m0\u001b[0m\u001b[0;34m,\u001b[0m\u001b[0;36m0\u001b[0m\u001b[0;34m]\u001b[0m\u001b[0;34m)\u001b[0m\u001b[0;34m\u001b[0m\u001b[0m\n\u001b[0;32m----> 2\u001b[0;31m \u001b[0mexc_syn\u001b[0m \u001b[0;34m=\u001b[0m \u001b[0mp\u001b[0m\u001b[0;34m.\u001b[0m\u001b[0mStaticSynapse\u001b[0m\u001b[0;34m(\u001b[0m\u001b[0mdelay\u001b[0m\u001b[0;34m=\u001b[0m\u001b[0;36m1.0\u001b[0m\u001b[0;34m,\u001b[0m \u001b[0mweight\u001b[0m\u001b[0;34m=\u001b[0m\u001b[0;36m8.0\u001b[0m\u001b[0;34m)\u001b[0m \u001b[0;31m#6.0\u001b[0m\u001b[0;34m\u001b[0m\u001b[0m\n\u001b[0m\u001b[1;32m      3\u001b[0m \u001b[0mexc_connector\u001b[0m \u001b[0;34m=\u001b[0m \u001b[0mp\u001b[0m\u001b[0;34m.\u001b[0m\u001b[0mOneToOneConnector\u001b[0m\u001b[0;34m(\u001b[0m\u001b[0;34m)\u001b[0m\u001b[0;34m\u001b[0m\u001b[0m\n\u001b[1;32m      4\u001b[0m \u001b[0minh_syn\u001b[0m \u001b[0;34m=\u001b[0m \u001b[0mp\u001b[0m\u001b[0;34m.\u001b[0m\u001b[0mStaticSynapse\u001b[0m\u001b[0;34m(\u001b[0m\u001b[0mdelay\u001b[0m\u001b[0;34m=\u001b[0m\u001b[0;36m1.0\u001b[0m\u001b[0;34m,\u001b[0m \u001b[0mweight\u001b[0m\u001b[0;34m=\u001b[0m\u001b[0;34m-\u001b[0m\u001b[0;36m1.0\u001b[0m\u001b[0;34m)\u001b[0m \u001b[0;31m#-0.2\u001b[0m\u001b[0;34m\u001b[0m\u001b[0m\n\u001b[1;32m      5\u001b[0m \u001b[0mone_conn\u001b[0m \u001b[0;34m=\u001b[0m \u001b[0mp\u001b[0m\u001b[0;34m.\u001b[0m\u001b[0mOneToOneConnector\u001b[0m\u001b[0;34m(\u001b[0m\u001b[0;34m)\u001b[0m\u001b[0;34m\u001b[0m\u001b[0m\n",
      "\u001b[0;31mNameError\u001b[0m: name 'p' is not defined"
     ]
    }
   ],
   "source": [
    "queens_positions = np.array([0,0,0,0,0,0,0,0])\n",
    "exc_syn = p.StaticSynapse(delay=1.0, weight=8.0) #6.0\n",
    "exc_connector = p.OneToOneConnector()\n",
    "inh_syn = p.StaticSynapse(delay=1.0, weight=-1.0) #-0.2\n",
    "one_conn = p.OneToOneConnector()\n",
    "all_conn= p.AllToAllConnector(allow_self_connections=False)\n",
    "self_conn = p.OneToOneConnector()\n"
   ]
  },
  {
   "cell_type": "code",
   "execution_count": null,
   "metadata": {
    "collapsed": true
   },
   "outputs": [],
   "source": [
    "cell_type=p.IF_cond_exp()\n",
    "#cell_type=p.Izhikevich()\n",
    "test=p.Population(1, cell_type, label=\"excitatory\")\n",
    "print test.celltype\n",
    "population_array = np.array([0,0,0,0,0,0,0,0,0], dtype=object)\n",
    "input_array = np.array([0,0,0,0,0,0,0,0,0], dtype=object)\n",
    "poisson_input = p.SpikeSourcePoisson(rate=50)\n",
    "connections={}\n",
    "for i in np.arange(8):\n",
    "        population_array[i] = p.Population(8, cell_type, label=\"excitatory\")\n",
    "        # connect all neurons of the row with each other inhibitory\n",
    "        connections['row %s' %i]=p.Projection(population_array[i],population_array[i], all_conn, synapse_type=inh_syn)\n",
    "\n",
    "        # self-connections should be excitatory!!!\n",
    "        connections['row %s self' %i]=p.Projection(population_array[i],population_array[i], self_conn, synapse_type=exc_syn)\n",
    "        \n",
    "        input_array[i]=p.Population(8, poisson_input, label='input')\n",
    "        # connect every neuron with one input poisson train\n",
    "        connections['inp%s' %i]=p.Projection(input_array[i],population_array[i],exc_connector,synapse_type=exc_syn)\n",
    "print population_array[1].celltype\n",
    "test_input=p.Population(1, poisson_input, label='input')\n",
    "\n",
    "# add column-wise inhibitory connections\n",
    "for i in np.arange(8):\n",
    "    for j in np.arange(8):\n",
    "        if i!=j:\n",
    "            connections['column%s' %i]=p.Projection(population_array[i],population_array[j],one_conn,synapse_type=inh_syn)\n",
    "\n"
   ]
  },
  {
   "cell_type": "code",
   "execution_count": null,
   "metadata": {
    "collapsed": true
   },
   "outputs": [],
   "source": [
    "population_array[0].record(['spikes'])\n",
    "population_array[1].record(['spikes'])\n",
    "\n",
    "\n",
    "global sim_time\n",
    "sim_time=40\n",
    "p.run(sim_time)\n",
    "row_1_data=population_array[0].get_data()\n",
    "row_2_data=population_array[1].get_data()"
   ]
  },
  {
   "cell_type": "code",
   "execution_count": null,
   "metadata": {
    "collapsed": true
   },
   "outputs": [],
   "source": [
    "fig_settings = {\n",
    "    'lines.linewidth': 0.5,\n",
    "    'axes.linewidth': 0.5,\n",
    "    'axes.labelsize': 'small',\n",
    "    'legend.fontsize': 'small',\n",
    "    'font.size': 8\n",
    "}\n",
    "plt.rcParams.update(fig_settings)\n",
    "plt.figure(1, figsize=(6,8))\n",
    "def plot_spiketrains(segment,y_label):\n",
    "    i=0\n",
    "    for spiketrain in segment.spiketrains:\n",
    "        neuron_id =spiketrain.annotations['source_id']\n",
    "        if i==0:\n",
    "            first_neuron_id=neuron_id\n",
    "        i+=1\n",
    "        y = np.ones_like(spiketrain) * neuron_id\n",
    "        plt.plot(spiketrain, y, '.')\n",
    "        \n",
    "        #print spiketrain\n",
    "        plt.ylabel(y_label)\n",
    "        plt.setp(plt.gca().get_xticklabels(), visible=False)\n",
    "    plt.axis([0, sim_time, first_neuron_id-1, neuron_id+1])\n",
    "        \n",
    "def plot_signal(signal, index, colour='b'):\n",
    "    label = \"Neuron %d\" % signal.annotations['source_ids'][index]\n",
    "    plt.plot(signal.times, signal[:, index], colour, label=label)\n",
    "    plt.ylabel(\"%s (%s)\" % (signal.name, signal.units._dimensionality.string))\n",
    "    plt.setp(plt.gca().get_xticklabels(), visible=False)\n",
    "    plt.legend()"
   ]
  },
  {
   "cell_type": "code",
   "execution_count": null,
   "metadata": {
    "collapsed": true
   },
   "outputs": [],
   "source": [
    "plt.subplot(2, 1, 1)\n",
    "plot_spiketrains(row_1_data.segments[0],'row_1')\n",
    "plt.subplot(2,1,2)\n",
    "plot_spiketrains(row_2_data.segments[0],'row_2')\n",
    "\n",
    "\n",
    "plt.xlabel(\"time (ms)\")\n",
    "plt.setp(plt.gca().get_xticklabels(), visible=True)\n"
   ]
  },
  {
   "cell_type": "code",
   "execution_count": null,
   "metadata": {
    "collapsed": true
   },
   "outputs": [],
   "source": []
  },
  {
   "cell_type": "code",
   "execution_count": null,
   "metadata": {
    "collapsed": true
   },
   "outputs": [],
   "source": []
  }
 ],
 "metadata": {
  "kernelspec": {
   "display_name": "spinnaker_virtualenv",
   "language": "python",
   "name": "spinnaker_virtualenv"
  },
  "language_info": {
   "codemirror_mode": {
    "name": "ipython",
    "version": 2
   },
   "file_extension": ".py",
   "mimetype": "text/x-python",
   "name": "python",
   "nbconvert_exporter": "python",
   "pygments_lexer": "ipython2",
   "version": "2.7.12"
  }
 },
 "nbformat": 4,
 "nbformat_minor": 1
}
