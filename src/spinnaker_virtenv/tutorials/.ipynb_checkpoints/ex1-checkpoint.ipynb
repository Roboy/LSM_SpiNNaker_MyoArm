{
 "cells": [
  {
   "cell_type": "code",
   "execution_count": 1,
   "metadata": {},
   "outputs": [
    {
     "name": "stderr",
     "output_type": "stream",
     "text": [
      "2017-06-22 13:10:36 INFO: Read config files: /home/nicolas/.spynnaker.cfg, /home/nicolas/master_thesis/spinnaker_lsm/spinnaker_virtenv/venv/local/lib/python2.7/site-packages/spynnaker/spynnaker.cfg\n",
      "2017-06-22 13:10:37 INFO: sPyNNaker (c) 2016 APT Group, University of Manchester\n",
      "2017-06-22 13:10:37 INFO: Release version 3.0.0() - September 2016. Installed in folder /home/nicolas/master_thesis/spinnaker_lsm/spinnaker_virtenv/venv/local/lib/python2.7/site-packages\n",
      "2017-06-22 13:10:37 INFO: Will search these locations for binaries: /home/nicolas/master_thesis/spinnaker_lsm/spinnaker_virtenv/venv/local/lib/python2.7/site-packages/spinn_front_end_common/common_model_binaries : /home/nicolas/master_thesis/spinnaker_lsm/spinnaker_virtenv/venv/local/lib/python2.7/site-packages/spynnaker/pyNN/model_binaries\n",
      "2017-06-22 13:10:37 INFO: Setting appID to 30.\n",
      "2017-06-22 13:10:37 INFO: Setting time scale factor to 1.\n",
      "2017-06-22 13:10:37 INFO: Setting machine time step to 1000.0 micro-seconds.\n"
     ]
    },
    {
     "data": {
      "text/plain": [
       "0"
      ]
     },
     "execution_count": 1,
     "metadata": {},
     "output_type": "execute_result"
    }
   ],
   "source": [
    "import pyNN.spiNNaker as p\n",
    "import pylab\n",
    "\n",
    "p.setup(timestep=1.0)"
   ]
  },
  {
   "cell_type": "code",
   "execution_count": 23,
   "metadata": {
    "collapsed": true
   },
   "outputs": [],
   "source": [
    "pop_1 = p.Population(1, p.IF_curr_exp, {}, label=\"pop_1\")\n",
    "input = p.Population(1, p.SpikeSourceArray,\n",
    "        {'spike_times': [[0]]}, label=\"input\")\n",
    "input_proj = p.Projection(input, pop_1, p.OneToOneConnector(\n",
    "    weights=5.0, delays=1), target=\"excitatory\")"
   ]
  },
  {
   "cell_type": "code",
   "execution_count": 24,
   "metadata": {},
   "outputs": [
    {
     "name": "stderr",
     "output_type": "stream",
     "text": [
      "2017-06-22 13:12:56 INFO: Starting execution process\n",
      "Getting provenance data from machine graph\n",
      "|0                           50%                         100%|\n",
      " ============================================================\n",
      "2017-06-22 13:12:56 INFO: Time 0:00:00.011548 taken by FrontEndCommonGraphProvenanceGatherer\n",
      "Getting provenance data\n",
      "|0                           50%                         100%|\n",
      " "
     ]
    },
    {
     "ename": "SpinnmanIOException",
     "evalue": "IO Error: [Errno 9] Bad file descriptor",
     "output_type": "error",
     "traceback": [
      "\u001b[0;31m---------------------------------------------------------------------------\u001b[0m",
      "\u001b[0;31mSpinnmanIOException\u001b[0m                       Traceback (most recent call last)",
      "\u001b[0;32m<ipython-input-24-1d406bfb8058>\u001b[0m in \u001b[0;36m<module>\u001b[0;34m()\u001b[0m\n\u001b[1;32m      1\u001b[0m \u001b[0mpop_1\u001b[0m\u001b[0;34m.\u001b[0m\u001b[0mrecord\u001b[0m\u001b[0;34m(\u001b[0m\u001b[0;34m)\u001b[0m\u001b[0;34m\u001b[0m\u001b[0m\n\u001b[1;32m      2\u001b[0m \u001b[0mpop_1\u001b[0m\u001b[0;34m.\u001b[0m\u001b[0mrecord_v\u001b[0m\u001b[0;34m(\u001b[0m\u001b[0;34m)\u001b[0m\u001b[0;34m\u001b[0m\u001b[0m\n\u001b[0;32m----> 3\u001b[0;31m \u001b[0mp\u001b[0m\u001b[0;34m.\u001b[0m\u001b[0mrun\u001b[0m\u001b[0;34m(\u001b[0m\u001b[0;36m10\u001b[0m\u001b[0;34m)\u001b[0m\u001b[0;34m\u001b[0m\u001b[0m\n\u001b[0m",
      "\u001b[0;32m/home/nicolas/master_thesis/spinnaker_lsm/spinnaker_virtenv/venv/local/lib/python2.7/site-packages/spynnaker/pyNN/__init__.pyc\u001b[0m in \u001b[0;36mrun\u001b[0;34m(run_time)\u001b[0m\n\u001b[1;32m    177\u001b[0m     \"\"\"\n\u001b[1;32m    178\u001b[0m     \u001b[0;32mglobal\u001b[0m \u001b[0m_spinnaker\u001b[0m\u001b[0;34m\u001b[0m\u001b[0m\n\u001b[0;32m--> 179\u001b[0;31m     \u001b[0m_spinnaker\u001b[0m\u001b[0;34m.\u001b[0m\u001b[0mrun\u001b[0m\u001b[0;34m(\u001b[0m\u001b[0mrun_time\u001b[0m\u001b[0;34m)\u001b[0m\u001b[0;34m\u001b[0m\u001b[0m\n\u001b[0m\u001b[1;32m    180\u001b[0m     \u001b[0;32mreturn\u001b[0m \u001b[0mNone\u001b[0m\u001b[0;34m\u001b[0m\u001b[0m\n\u001b[1;32m    181\u001b[0m \u001b[0;34m\u001b[0m\u001b[0m\n",
      "\u001b[0;32m/home/nicolas/master_thesis/spinnaker_lsm/spinnaker_virtenv/venv/local/lib/python2.7/site-packages/spynnaker/pyNN/spinnaker.pyc\u001b[0m in \u001b[0;36mrun\u001b[0;34m(self, run_time)\u001b[0m\n\u001b[1;32m    335\u001b[0m         \u001b[0;31m# extra post run algorithms\u001b[0m\u001b[0;34m\u001b[0m\u001b[0;34m\u001b[0m\u001b[0m\n\u001b[1;32m    336\u001b[0m         \u001b[0mself\u001b[0m\u001b[0;34m.\u001b[0m\u001b[0m_dsg_algorithm\u001b[0m \u001b[0;34m=\u001b[0m \u001b[0;34m\"SpynnakerDataSpecificationWriter\"\u001b[0m\u001b[0;34m\u001b[0m\u001b[0m\n\u001b[0;32m--> 337\u001b[0;31m         \u001b[0mSpinnakerMainInterface\u001b[0m\u001b[0;34m.\u001b[0m\u001b[0mrun\u001b[0m\u001b[0;34m(\u001b[0m\u001b[0mself\u001b[0m\u001b[0;34m,\u001b[0m \u001b[0mrun_time\u001b[0m\u001b[0;34m)\u001b[0m\u001b[0;34m\u001b[0m\u001b[0m\n\u001b[0m",
      "\u001b[0;32m/home/nicolas/master_thesis/spinnaker_lsm/spinnaker_virtenv/venv/local/lib/python2.7/site-packages/spinn_front_end_common/interface/spinnaker_main_interface.pyc\u001b[0m in \u001b[0;36mrun\u001b[0;34m(self, run_time)\u001b[0m\n\u001b[1;32m    449\u001b[0m             if (application_graph_changed and self._has_ran and\n\u001b[1;32m    450\u001b[0m                     not self._has_reset_last):\n\u001b[0;32m--> 451\u001b[0;31m                 \u001b[0mself\u001b[0m\u001b[0;34m.\u001b[0m\u001b[0mstop\u001b[0m\u001b[0;34m(\u001b[0m\u001b[0;34m)\u001b[0m\u001b[0;34m\u001b[0m\u001b[0m\n\u001b[0m\u001b[1;32m    452\u001b[0m                 raise NotImplementedError(\n\u001b[1;32m    453\u001b[0m                     \u001b[0;34m\"The network cannot be changed between runs without\"\u001b[0m\u001b[0;34m\u001b[0m\u001b[0m\n",
      "\u001b[0;32m/home/nicolas/master_thesis/spinnaker_lsm/spinnaker_virtenv/venv/local/lib/python2.7/site-packages/spynnaker/pyNN/spinnaker.pyc\u001b[0m in \u001b[0;36mstop\u001b[0;34m(self, turn_off_machine, clear_routing_tables, clear_tags, extract_provenance_data, extract_iobuf)\u001b[0m\n\u001b[1;32m    325\u001b[0m         SpinnakerMainInterface.stop(\n\u001b[1;32m    326\u001b[0m             \u001b[0mself\u001b[0m\u001b[0;34m,\u001b[0m \u001b[0mturn_off_machine\u001b[0m\u001b[0;34m,\u001b[0m \u001b[0mclear_routing_tables\u001b[0m\u001b[0;34m,\u001b[0m \u001b[0mclear_tags\u001b[0m\u001b[0;34m,\u001b[0m\u001b[0;34m\u001b[0m\u001b[0m\n\u001b[0;32m--> 327\u001b[0;31m             extract_provenance_data, extract_iobuf)\n\u001b[0m\u001b[1;32m    328\u001b[0m \u001b[0;34m\u001b[0m\u001b[0m\n\u001b[1;32m    329\u001b[0m     \u001b[0;32mdef\u001b[0m \u001b[0mrun\u001b[0m\u001b[0;34m(\u001b[0m\u001b[0mself\u001b[0m\u001b[0;34m,\u001b[0m \u001b[0mrun_time\u001b[0m\u001b[0;34m)\u001b[0m\u001b[0;34m:\u001b[0m\u001b[0;34m\u001b[0m\u001b[0m\n",
      "\u001b[0;32m/home/nicolas/master_thesis/spinnaker_lsm/spinnaker_virtenv/venv/local/lib/python2.7/site-packages/spinn_front_end_common/interface/spinnaker_main_interface.pyc\u001b[0m in \u001b[0;36mstop\u001b[0;34m(self, turn_off_machine, clear_routing_tables, clear_tags, extract_provenance_data, extract_iobuf)\u001b[0m\n\u001b[1;32m   1739\u001b[0m \u001b[0;34m\u001b[0m\u001b[0m\n\u001b[1;32m   1740\u001b[0m         \u001b[0;32mif\u001b[0m \u001b[0mextract_provenance_data\u001b[0m\u001b[0;34m:\u001b[0m\u001b[0;34m\u001b[0m\u001b[0m\n\u001b[0;32m-> 1741\u001b[0;31m             \u001b[0mself\u001b[0m\u001b[0;34m.\u001b[0m\u001b[0m_extract_provenance\u001b[0m\u001b[0;34m(\u001b[0m\u001b[0;34m)\u001b[0m\u001b[0;34m\u001b[0m\u001b[0m\n\u001b[0m\u001b[1;32m   1742\u001b[0m         \u001b[0;32mif\u001b[0m \u001b[0mextract_iobuf\u001b[0m\u001b[0;34m:\u001b[0m\u001b[0;34m\u001b[0m\u001b[0m\n\u001b[1;32m   1743\u001b[0m             \u001b[0mself\u001b[0m\u001b[0;34m.\u001b[0m\u001b[0m_extract_iobuf\u001b[0m\u001b[0;34m(\u001b[0m\u001b[0;34m)\u001b[0m\u001b[0;34m\u001b[0m\u001b[0m\n",
      "\u001b[0;32m/home/nicolas/master_thesis/spinnaker_lsm/spinnaker_virtenv/venv/local/lib/python2.7/site-packages/spinn_front_end_common/interface/spinnaker_main_interface.pyc\u001b[0m in \u001b[0;36m_extract_provenance\u001b[0;34m(self)\u001b[0m\n\u001b[1;32m   1240\u001b[0m                     \u001b[0mrequired_outputs\u001b[0m\u001b[0;34m=\u001b[0m\u001b[0moutputs\u001b[0m\u001b[0;34m,\u001b[0m \u001b[0mdo_timings\u001b[0m\u001b[0;34m=\u001b[0m\u001b[0mself\u001b[0m\u001b[0;34m.\u001b[0m\u001b[0m_do_timings\u001b[0m\u001b[0;34m,\u001b[0m\u001b[0;34m\u001b[0m\u001b[0m\n\u001b[1;32m   1241\u001b[0m                     print_timings=self._print_timings)\n\u001b[0;32m-> 1242\u001b[0;31m                 \u001b[0mexecutor\u001b[0m\u001b[0;34m.\u001b[0m\u001b[0mexecute_mapping\u001b[0m\u001b[0;34m(\u001b[0m\u001b[0;34m)\u001b[0m\u001b[0;34m\u001b[0m\u001b[0m\n\u001b[0m\u001b[1;32m   1243\u001b[0m                 \u001b[0mself\u001b[0m\u001b[0;34m.\u001b[0m\u001b[0m_pacman_provenance\u001b[0m\u001b[0;34m.\u001b[0m\u001b[0mextract_provenance\u001b[0m\u001b[0;34m(\u001b[0m\u001b[0mexecutor\u001b[0m\u001b[0;34m)\u001b[0m\u001b[0;34m\u001b[0m\u001b[0m\n\u001b[1;32m   1244\u001b[0m                 \u001b[0mprovenance_outputs\u001b[0m \u001b[0;34m=\u001b[0m \u001b[0mexecutor\u001b[0m\u001b[0;34m.\u001b[0m\u001b[0mget_items\u001b[0m\u001b[0;34m(\u001b[0m\u001b[0;34m)\u001b[0m\u001b[0;34m\u001b[0m\u001b[0m\n",
      "\u001b[0;32m/home/nicolas/master_thesis/spinnaker_lsm/spinnaker_virtenv/venv/local/lib/python2.7/site-packages/pacman/executor/pacman_algorithm_executor.pyc\u001b[0m in \u001b[0;36mexecute_mapping\u001b[0;34m(self)\u001b[0m\n\u001b[1;32m    443\u001b[0m \u001b[0;34m\u001b[0m\u001b[0m\n\u001b[1;32m    444\u001b[0m                 \u001b[0;31m# Execute the algorithm\u001b[0m\u001b[0;34m\u001b[0m\u001b[0;34m\u001b[0m\u001b[0m\n\u001b[0;32m--> 445\u001b[0;31m                 \u001b[0mresults\u001b[0m \u001b[0;34m=\u001b[0m \u001b[0malgorithm\u001b[0m\u001b[0;34m.\u001b[0m\u001b[0mcall\u001b[0m\u001b[0;34m(\u001b[0m\u001b[0mself\u001b[0m\u001b[0;34m.\u001b[0m\u001b[0m_internal_type_mapping\u001b[0m\u001b[0;34m)\u001b[0m\u001b[0;34m\u001b[0m\u001b[0m\n\u001b[0m\u001b[1;32m    446\u001b[0m \u001b[0;34m\u001b[0m\u001b[0m\n\u001b[1;32m    447\u001b[0m                 \u001b[0;31m# handle_prov_data\u001b[0m\u001b[0;34m\u001b[0m\u001b[0;34m\u001b[0m\u001b[0m\n",
      "\u001b[0;32m/home/nicolas/master_thesis/spinnaker_lsm/spinnaker_virtenv/venv/local/lib/python2.7/site-packages/pacman/executor/algorithm_classes/abstract_python_algorithm.pyc\u001b[0m in \u001b[0;36mcall\u001b[0;34m(self, inputs)\u001b[0m\n\u001b[1;32m     42\u001b[0m \u001b[0;34m\u001b[0m\u001b[0m\n\u001b[1;32m     43\u001b[0m         \u001b[0;31m# Run the algorithm and get the results\u001b[0m\u001b[0;34m\u001b[0m\u001b[0;34m\u001b[0m\u001b[0m\n\u001b[0;32m---> 44\u001b[0;31m         \u001b[0mresults\u001b[0m \u001b[0;34m=\u001b[0m \u001b[0mself\u001b[0m\u001b[0;34m.\u001b[0m\u001b[0mcall_python\u001b[0m\u001b[0;34m(\u001b[0m\u001b[0mmethod_inputs\u001b[0m\u001b[0;34m)\u001b[0m\u001b[0;34m\u001b[0m\u001b[0m\n\u001b[0m\u001b[1;32m     45\u001b[0m \u001b[0;34m\u001b[0m\u001b[0m\n\u001b[1;32m     46\u001b[0m         \u001b[0;32mif\u001b[0m \u001b[0mresults\u001b[0m \u001b[0;32mis\u001b[0m \u001b[0;32mnot\u001b[0m \u001b[0mNone\u001b[0m \u001b[0;32mand\u001b[0m \u001b[0;32mnot\u001b[0m \u001b[0misinstance\u001b[0m\u001b[0;34m(\u001b[0m\u001b[0mresults\u001b[0m\u001b[0;34m,\u001b[0m \u001b[0mtuple\u001b[0m\u001b[0;34m)\u001b[0m\u001b[0;34m:\u001b[0m\u001b[0;34m\u001b[0m\u001b[0m\n",
      "\u001b[0;32m/home/nicolas/master_thesis/spinnaker_lsm/spinnaker_virtenv/venv/local/lib/python2.7/site-packages/pacman/executor/algorithm_classes/python_class_algorithm.pyc\u001b[0m in \u001b[0;36mcall_python\u001b[0;34m(self, inputs)\u001b[0m\n\u001b[1;32m     55\u001b[0m         \u001b[0;32mif\u001b[0m \u001b[0mself\u001b[0m\u001b[0;34m.\u001b[0m\u001b[0m_python_method\u001b[0m \u001b[0;32mis\u001b[0m \u001b[0;32mnot\u001b[0m \u001b[0mNone\u001b[0m\u001b[0;34m:\u001b[0m\u001b[0;34m\u001b[0m\u001b[0m\n\u001b[1;32m     56\u001b[0m             \u001b[0mmethod\u001b[0m \u001b[0;34m=\u001b[0m \u001b[0mgetattr\u001b[0m\u001b[0;34m(\u001b[0m\u001b[0minstance\u001b[0m\u001b[0;34m,\u001b[0m \u001b[0mself\u001b[0m\u001b[0;34m.\u001b[0m\u001b[0m_python_method\u001b[0m\u001b[0;34m)\u001b[0m\u001b[0;34m\u001b[0m\u001b[0m\n\u001b[0;32m---> 57\u001b[0;31m         \u001b[0;32mreturn\u001b[0m \u001b[0mmethod\u001b[0m\u001b[0;34m(\u001b[0m\u001b[0;34m**\u001b[0m\u001b[0minputs\u001b[0m\u001b[0;34m)\u001b[0m\u001b[0;34m\u001b[0m\u001b[0m\n\u001b[0m\u001b[1;32m     58\u001b[0m \u001b[0;34m\u001b[0m\u001b[0m\n\u001b[1;32m     59\u001b[0m     \u001b[0;32mdef\u001b[0m \u001b[0m__repr__\u001b[0m\u001b[0;34m(\u001b[0m\u001b[0mself\u001b[0m\u001b[0;34m)\u001b[0m\u001b[0;34m:\u001b[0m\u001b[0;34m\u001b[0m\u001b[0m\n",
      "\u001b[0;32m/home/nicolas/master_thesis/spinnaker_lsm/spinnaker_virtenv/venv/local/lib/python2.7/site-packages/spinn_front_end_common/interface/interface_functions/front_end_common_placements_provenance_gatherer.pyc\u001b[0m in \u001b[0;36m__call__\u001b[0;34m(self, transceiver, placements, has_ran, provenance_data_objects)\u001b[0m\n\u001b[1;32m     44\u001b[0m                 prov_items.extend(\n\u001b[1;32m     45\u001b[0m                     placement.vertex.get_provenance_data_from_machine(\n\u001b[0;32m---> 46\u001b[0;31m                         transceiver, placement))\n\u001b[0m\u001b[1;32m     47\u001b[0m \u001b[0;34m\u001b[0m\u001b[0m\n\u001b[1;32m     48\u001b[0m             \u001b[0mprogress\u001b[0m\u001b[0;34m.\u001b[0m\u001b[0mupdate\u001b[0m\u001b[0;34m(\u001b[0m\u001b[0;34m)\u001b[0m\u001b[0;34m\u001b[0m\u001b[0m\n",
      "\u001b[0;32m/home/nicolas/master_thesis/spinnaker_lsm/spinnaker_virtenv/venv/local/lib/python2.7/site-packages/spynnaker/pyNN/models/neuron/population_machine_vertex.pyc\u001b[0m in \u001b[0;36mget_provenance_data_from_machine\u001b[0;34m(self, transceiver, placement)\u001b[0m\n\u001b[1;32m     53\u001b[0m                get_provenance_data_from_machine)\n\u001b[1;32m     54\u001b[0m     \u001b[0;32mdef\u001b[0m \u001b[0mget_provenance_data_from_machine\u001b[0m\u001b[0;34m(\u001b[0m\u001b[0mself\u001b[0m\u001b[0;34m,\u001b[0m \u001b[0mtransceiver\u001b[0m\u001b[0;34m,\u001b[0m \u001b[0mplacement\u001b[0m\u001b[0;34m)\u001b[0m\u001b[0;34m:\u001b[0m\u001b[0;34m\u001b[0m\u001b[0m\n\u001b[0;32m---> 55\u001b[0;31m         \u001b[0mprovenance_data\u001b[0m \u001b[0;34m=\u001b[0m \u001b[0mself\u001b[0m\u001b[0;34m.\u001b[0m\u001b[0m_read_provenance_data\u001b[0m\u001b[0;34m(\u001b[0m\u001b[0mtransceiver\u001b[0m\u001b[0;34m,\u001b[0m \u001b[0mplacement\u001b[0m\u001b[0;34m)\u001b[0m\u001b[0;34m\u001b[0m\u001b[0m\n\u001b[0m\u001b[1;32m     56\u001b[0m         provenance_items = self._read_basic_provenance_items(\n\u001b[1;32m     57\u001b[0m             provenance_data, placement)\n",
      "\u001b[0;32m/home/nicolas/master_thesis/spinnaker_lsm/spinnaker_virtenv/venv/local/lib/python2.7/site-packages/spinn_front_end_common/interface/provenance/provides_provenance_data_from_machine_impl.pyc\u001b[0m in \u001b[0;36m_read_provenance_data\u001b[0;34m(self, transceiver, placement)\u001b[0m\n\u001b[1;32m     67\u001b[0m     \u001b[0;32mdef\u001b[0m \u001b[0m_read_provenance_data\u001b[0m\u001b[0;34m(\u001b[0m\u001b[0mself\u001b[0m\u001b[0;34m,\u001b[0m \u001b[0mtransceiver\u001b[0m\u001b[0;34m,\u001b[0m \u001b[0mplacement\u001b[0m\u001b[0;34m)\u001b[0m\u001b[0;34m:\u001b[0m\u001b[0;34m\u001b[0m\u001b[0m\n\u001b[1;32m     68\u001b[0m         provenance_address = self._get_provenance_region_address(\n\u001b[0;32m---> 69\u001b[0;31m             transceiver, placement)\n\u001b[0m\u001b[1;32m     70\u001b[0m         data = buffer(transceiver.read_memory(\n\u001b[1;32m     71\u001b[0m             \u001b[0mplacement\u001b[0m\u001b[0;34m.\u001b[0m\u001b[0mx\u001b[0m\u001b[0;34m,\u001b[0m \u001b[0mplacement\u001b[0m\u001b[0;34m.\u001b[0m\u001b[0my\u001b[0m\u001b[0;34m,\u001b[0m \u001b[0mprovenance_address\u001b[0m\u001b[0;34m,\u001b[0m\u001b[0;34m\u001b[0m\u001b[0m\n",
      "\u001b[0;32m/home/nicolas/master_thesis/spinnaker_lsm/spinnaker_virtenv/venv/local/lib/python2.7/site-packages/spinn_front_end_common/interface/provenance/provides_provenance_data_from_machine_impl.pyc\u001b[0m in \u001b[0;36m_get_provenance_region_address\u001b[0;34m(self, transceiver, placement)\u001b[0m\n\u001b[1;32m     51\u001b[0m         \u001b[0;31m# Get the App Data for the core\u001b[0m\u001b[0;34m\u001b[0m\u001b[0;34m\u001b[0m\u001b[0m\n\u001b[1;32m     52\u001b[0m         app_data_base_address = transceiver.get_cpu_information_from_core(\n\u001b[0;32m---> 53\u001b[0;31m             placement.x, placement.y, placement.p).user[0]\n\u001b[0m\u001b[1;32m     54\u001b[0m \u001b[0;34m\u001b[0m\u001b[0m\n\u001b[1;32m     55\u001b[0m         \u001b[0;31m# Get the provenance region base address\u001b[0m\u001b[0;34m\u001b[0m\u001b[0;34m\u001b[0m\u001b[0m\n",
      "\u001b[0;32m/home/nicolas/master_thesis/spinnaker_lsm/spinnaker_virtenv/venv/local/lib/python2.7/site-packages/spinnman/transceiver.pyc\u001b[0m in \u001b[0;36mget_cpu_information_from_core\u001b[0;34m(self, x, y, p)\u001b[0m\n\u001b[1;32m   1206\u001b[0m         \u001b[0mcore_subsets\u001b[0m \u001b[0;34m=\u001b[0m \u001b[0mCoreSubsets\u001b[0m\u001b[0;34m(\u001b[0m\u001b[0;34m)\u001b[0m\u001b[0;34m\u001b[0m\u001b[0m\n\u001b[1;32m   1207\u001b[0m         \u001b[0mcore_subsets\u001b[0m\u001b[0;34m.\u001b[0m\u001b[0madd_processor\u001b[0m\u001b[0;34m(\u001b[0m\u001b[0mx\u001b[0m\u001b[0;34m,\u001b[0m \u001b[0my\u001b[0m\u001b[0;34m,\u001b[0m \u001b[0mp\u001b[0m\u001b[0;34m)\u001b[0m\u001b[0;34m\u001b[0m\u001b[0m\n\u001b[0;32m-> 1208\u001b[0;31m         \u001b[0;32mreturn\u001b[0m \u001b[0mlist\u001b[0m\u001b[0;34m(\u001b[0m\u001b[0mself\u001b[0m\u001b[0;34m.\u001b[0m\u001b[0mget_cpu_information\u001b[0m\u001b[0;34m(\u001b[0m\u001b[0mcore_subsets\u001b[0m\u001b[0;34m)\u001b[0m\u001b[0;34m)\u001b[0m\u001b[0;34m[\u001b[0m\u001b[0;36m0\u001b[0m\u001b[0;34m]\u001b[0m\u001b[0;34m\u001b[0m\u001b[0m\n\u001b[0m\u001b[1;32m   1209\u001b[0m \u001b[0;34m\u001b[0m\u001b[0m\n\u001b[1;32m   1210\u001b[0m     \u001b[0;32mdef\u001b[0m \u001b[0mget_iobuf\u001b[0m\u001b[0;34m(\u001b[0m\u001b[0mself\u001b[0m\u001b[0;34m,\u001b[0m \u001b[0mcore_subsets\u001b[0m\u001b[0;34m=\u001b[0m\u001b[0mNone\u001b[0m\u001b[0;34m)\u001b[0m\u001b[0;34m:\u001b[0m\u001b[0;34m\u001b[0m\u001b[0m\n",
      "\u001b[0;32m/home/nicolas/master_thesis/spinnaker_lsm/spinnaker_virtenv/venv/local/lib/python2.7/site-packages/spinnman/transceiver.pyc\u001b[0m in \u001b[0;36mget_cpu_information\u001b[0;34m(self, core_subsets)\u001b[0m\n\u001b[1;32m   1102\u001b[0m \u001b[0;34m\u001b[0m\u001b[0m\n\u001b[1;32m   1103\u001b[0m         \u001b[0mprocess\u001b[0m \u001b[0;34m=\u001b[0m \u001b[0mGetCPUInfoProcess\u001b[0m\u001b[0;34m(\u001b[0m\u001b[0mself\u001b[0m\u001b[0;34m.\u001b[0m\u001b[0m_scamp_connection_selector\u001b[0m\u001b[0;34m)\u001b[0m\u001b[0;34m\u001b[0m\u001b[0m\n\u001b[0;32m-> 1104\u001b[0;31m         \u001b[0mcpu_info\u001b[0m \u001b[0;34m=\u001b[0m \u001b[0mprocess\u001b[0m\u001b[0;34m.\u001b[0m\u001b[0mget_cpu_info\u001b[0m\u001b[0;34m(\u001b[0m\u001b[0mcore_subsets\u001b[0m\u001b[0;34m)\u001b[0m\u001b[0;34m\u001b[0m\u001b[0m\n\u001b[0m\u001b[1;32m   1105\u001b[0m         \u001b[0;32mreturn\u001b[0m \u001b[0mcpu_info\u001b[0m\u001b[0;34m\u001b[0m\u001b[0m\n\u001b[1;32m   1106\u001b[0m \u001b[0;34m\u001b[0m\u001b[0m\n",
      "\u001b[0;32m/home/nicolas/master_thesis/spinnaker_lsm/spinnaker_virtenv/venv/local/lib/python2.7/site-packages/spinnman/processes/get_cpu_info_process.pyc\u001b[0m in \u001b[0;36mget_cpu_info\u001b[0;34m(self, core_subsets)\u001b[0m\n\u001b[1;32m     41\u001b[0m                 self._send_request(SCPReadMemoryRequest(\n\u001b[1;32m     42\u001b[0m                     x, y, base_address, constants.CPU_INFO_BYTES),\n\u001b[0;32m---> 43\u001b[0;31m                     functools.partial(self.handle_response, x, y, p))\n\u001b[0m\u001b[1;32m     44\u001b[0m         \u001b[0mself\u001b[0m\u001b[0;34m.\u001b[0m\u001b[0m_finish\u001b[0m\u001b[0;34m(\u001b[0m\u001b[0;34m)\u001b[0m\u001b[0;34m\u001b[0m\u001b[0m\n\u001b[1;32m     45\u001b[0m         \u001b[0mself\u001b[0m\u001b[0;34m.\u001b[0m\u001b[0mcheck_for_error\u001b[0m\u001b[0;34m(\u001b[0m\u001b[0;34m)\u001b[0m\u001b[0;34m\u001b[0m\u001b[0m\n",
      "\u001b[0;32m/home/nicolas/master_thesis/spinnaker_lsm/spinnaker_virtenv/venv/local/lib/python2.7/site-packages/spinnman/processes/abstract_multi_connection_process.pyc\u001b[0m in \u001b[0;36m_send_request\u001b[0;34m(self, request, callback, error_callback)\u001b[0m\n\u001b[1;32m     30\u001b[0m             \u001b[0mself\u001b[0m\u001b[0;34m.\u001b[0m\u001b[0m_scp_request_pipe_lines\u001b[0m\u001b[0;34m[\u001b[0m\u001b[0mconnection\u001b[0m\u001b[0;34m]\u001b[0m \u001b[0;34m=\u001b[0m \u001b[0mscp_request_set\u001b[0m\u001b[0;34m\u001b[0m\u001b[0m\n\u001b[1;32m     31\u001b[0m         self._scp_request_pipe_lines[connection].send_request(\n\u001b[0;32m---> 32\u001b[0;31m             request, callback, error_callback)\n\u001b[0m\u001b[1;32m     33\u001b[0m \u001b[0;34m\u001b[0m\u001b[0m\n\u001b[1;32m     34\u001b[0m     \u001b[0;32mdef\u001b[0m \u001b[0m_finish\u001b[0m\u001b[0;34m(\u001b[0m\u001b[0mself\u001b[0m\u001b[0;34m)\u001b[0m\u001b[0;34m:\u001b[0m\u001b[0;34m\u001b[0m\u001b[0m\n",
      "\u001b[0;32m/home/nicolas/master_thesis/spinnaker_lsm/spinnaker_virtenv/venv/local/lib/python2.7/site-packages/spinnman/connections/scp_request_pipeline.pyc\u001b[0m in \u001b[0;36msend_request\u001b[0;34m(self, request, callback, error_callback)\u001b[0m\n\u001b[1;32m    128\u001b[0m         \u001b[0;31m# Send the request, keeping track of how many are sent\u001b[0m\u001b[0;34m\u001b[0m\u001b[0;34m\u001b[0m\u001b[0m\n\u001b[1;32m    129\u001b[0m         \u001b[0;31m# self._token_bucket.consume(284)\u001b[0m\u001b[0;34m\u001b[0m\u001b[0;34m\u001b[0m\u001b[0m\n\u001b[0;32m--> 130\u001b[0;31m         \u001b[0mself\u001b[0m\u001b[0;34m.\u001b[0m\u001b[0m_connection\u001b[0m\u001b[0;34m.\u001b[0m\u001b[0msend\u001b[0m\u001b[0;34m(\u001b[0m\u001b[0mrequest_data\u001b[0m\u001b[0;34m)\u001b[0m\u001b[0;34m\u001b[0m\u001b[0m\n\u001b[0m\u001b[1;32m    131\u001b[0m         \u001b[0mself\u001b[0m\u001b[0;34m.\u001b[0m\u001b[0m_in_progress\u001b[0m \u001b[0;34m+=\u001b[0m \u001b[0;36m1\u001b[0m\u001b[0;34m\u001b[0m\u001b[0m\n\u001b[1;32m    132\u001b[0m \u001b[0;34m\u001b[0m\u001b[0m\n",
      "\u001b[0;32m/home/nicolas/master_thesis/spinnaker_lsm/spinnaker_virtenv/venv/local/lib/python2.7/site-packages/spinnman/connections/udp_packet_connections/udp_connection.pyc\u001b[0m in \u001b[0;36msend\u001b[0;34m(self, data)\u001b[0m\n\u001b[1;32m    236\u001b[0m             \u001b[0mself\u001b[0m\u001b[0;34m.\u001b[0m\u001b[0m_socket\u001b[0m\u001b[0;34m.\u001b[0m\u001b[0msend\u001b[0m\u001b[0;34m(\u001b[0m\u001b[0mdata\u001b[0m\u001b[0;34m)\u001b[0m\u001b[0;34m\u001b[0m\u001b[0m\n\u001b[1;32m    237\u001b[0m         \u001b[0;32mexcept\u001b[0m \u001b[0mException\u001b[0m \u001b[0;32mas\u001b[0m \u001b[0me\u001b[0m\u001b[0;34m:\u001b[0m\u001b[0;34m\u001b[0m\u001b[0m\n\u001b[0;32m--> 238\u001b[0;31m             \u001b[0;32mraise\u001b[0m \u001b[0mSpinnmanIOException\u001b[0m\u001b[0;34m(\u001b[0m\u001b[0mstr\u001b[0m\u001b[0;34m(\u001b[0m\u001b[0me\u001b[0m\u001b[0;34m)\u001b[0m\u001b[0;34m)\u001b[0m\u001b[0;34m\u001b[0m\u001b[0m\n\u001b[0m\u001b[1;32m    239\u001b[0m \u001b[0;34m\u001b[0m\u001b[0m\n\u001b[1;32m    240\u001b[0m     \u001b[0;32mdef\u001b[0m \u001b[0msend_to\u001b[0m\u001b[0;34m(\u001b[0m\u001b[0mself\u001b[0m\u001b[0;34m,\u001b[0m \u001b[0mdata\u001b[0m\u001b[0;34m,\u001b[0m \u001b[0maddress\u001b[0m\u001b[0;34m)\u001b[0m\u001b[0;34m:\u001b[0m\u001b[0;34m\u001b[0m\u001b[0m\n",
      "\u001b[0;31mSpinnmanIOException\u001b[0m: IO Error: [Errno 9] Bad file descriptor"
     ]
    }
   ],
   "source": [
    "pop_1.record()\n",
    "pop_1.record_v()\n",
    "p.run(10)"
   ]
  },
  {
   "cell_type": "code",
   "execution_count": 19,
   "metadata": {},
   "outputs": [
    {
     "ename": "TypeError",
     "evalue": "object of type 'NoneType' has no len()",
     "output_type": "error",
     "traceback": [
      "\u001b[0;31m---------------------------------------------------------------------------\u001b[0m",
      "\u001b[0;31mTypeError\u001b[0m                                 Traceback (most recent call last)",
      "\u001b[0;32m<ipython-input-19-a762bc05e1de>\u001b[0m in \u001b[0;36m<module>\u001b[0;34m()\u001b[0m\n\u001b[0;32m----> 1\u001b[0;31m \u001b[0mv\u001b[0m\u001b[0;34m=\u001b[0m \u001b[0mpop_1\u001b[0m\u001b[0;34m.\u001b[0m\u001b[0mget_v\u001b[0m\u001b[0;34m(\u001b[0m\u001b[0;34m)\u001b[0m\u001b[0;34m\u001b[0m\u001b[0m\n\u001b[0m\u001b[1;32m      2\u001b[0m \u001b[0mtime\u001b[0m \u001b[0;34m=\u001b[0m \u001b[0;34m[\u001b[0m\u001b[0mi\u001b[0m\u001b[0;34m[\u001b[0m\u001b[0;36m1\u001b[0m\u001b[0;34m]\u001b[0m \u001b[0;32mfor\u001b[0m \u001b[0mi\u001b[0m \u001b[0;32min\u001b[0m \u001b[0mv\u001b[0m \u001b[0;32mif\u001b[0m \u001b[0mi\u001b[0m\u001b[0;34m[\u001b[0m\u001b[0;36m0\u001b[0m\u001b[0;34m]\u001b[0m \u001b[0;34m==\u001b[0m \u001b[0;36m0\u001b[0m\u001b[0;34m]\u001b[0m\u001b[0;34m\u001b[0m\u001b[0m\n\u001b[1;32m      3\u001b[0m \u001b[0mmembrane_voltage\u001b[0m \u001b[0;34m=\u001b[0m \u001b[0;34m[\u001b[0m\u001b[0mi\u001b[0m\u001b[0;34m[\u001b[0m\u001b[0;36m2\u001b[0m\u001b[0;34m]\u001b[0m \u001b[0;32mfor\u001b[0m \u001b[0mi\u001b[0m \u001b[0;32min\u001b[0m \u001b[0mv\u001b[0m \u001b[0;32mif\u001b[0m \u001b[0mi\u001b[0m\u001b[0;34m[\u001b[0m\u001b[0;36m0\u001b[0m\u001b[0;34m]\u001b[0m \u001b[0;34m==\u001b[0m \u001b[0;36m0\u001b[0m\u001b[0;34m]\u001b[0m\u001b[0;34m\u001b[0m\u001b[0m\n\u001b[1;32m      4\u001b[0m \u001b[0mpylab\u001b[0m\u001b[0;34m.\u001b[0m\u001b[0mplot\u001b[0m\u001b[0;34m(\u001b[0m\u001b[0mtime\u001b[0m\u001b[0;34m,\u001b[0m \u001b[0mmembrane_voltage\u001b[0m\u001b[0;34m)\u001b[0m\u001b[0;34m\u001b[0m\u001b[0m\n\u001b[1;32m      5\u001b[0m \u001b[0mpylab\u001b[0m\u001b[0;34m.\u001b[0m\u001b[0mxlabel\u001b[0m\u001b[0;34m(\u001b[0m\u001b[0;34m\"Time (ms)\"\u001b[0m\u001b[0;34m)\u001b[0m\u001b[0;34m\u001b[0m\u001b[0m\n",
      "\u001b[0;32m/home/nicolas/master_thesis/spinnaker_lsm/spinnaker_virtenv/venv/local/lib/python2.7/site-packages/spynnaker/pyNN/models/pynn_population.pyc\u001b[0m in \u001b[0;36mget_v\u001b[0;34m(self, gather, compatible_output)\u001b[0m\n\u001b[1;32m    276\u001b[0m             \u001b[0mself\u001b[0m\u001b[0;34m.\u001b[0m\u001b[0m_spinnaker\u001b[0m\u001b[0;34m.\u001b[0m\u001b[0mno_machine_time_steps\u001b[0m\u001b[0;34m,\u001b[0m \u001b[0mself\u001b[0m\u001b[0;34m.\u001b[0m\u001b[0m_spinnaker\u001b[0m\u001b[0;34m.\u001b[0m\u001b[0mplacements\u001b[0m\u001b[0;34m,\u001b[0m\u001b[0;34m\u001b[0m\u001b[0m\n\u001b[1;32m    277\u001b[0m             \u001b[0mself\u001b[0m\u001b[0;34m.\u001b[0m\u001b[0m_spinnaker\u001b[0m\u001b[0;34m.\u001b[0m\u001b[0mgraph_mapper\u001b[0m\u001b[0;34m,\u001b[0m \u001b[0mself\u001b[0m\u001b[0;34m.\u001b[0m\u001b[0m_spinnaker\u001b[0m\u001b[0;34m.\u001b[0m\u001b[0mbuffer_manager\u001b[0m\u001b[0;34m,\u001b[0m\u001b[0;34m\u001b[0m\u001b[0m\n\u001b[0;32m--> 278\u001b[0;31m             self._spinnaker.machine_time_step)\n\u001b[0m\u001b[1;32m    279\u001b[0m \u001b[0;34m\u001b[0m\u001b[0m\n\u001b[1;32m    280\u001b[0m     \u001b[0;32mdef\u001b[0m \u001b[0mid_to_index\u001b[0m\u001b[0;34m(\u001b[0m\u001b[0mself\u001b[0m\u001b[0;34m,\u001b[0m \u001b[0mcell_id\u001b[0m\u001b[0;34m)\u001b[0m\u001b[0;34m:\u001b[0m\u001b[0;34m\u001b[0m\u001b[0m\n",
      "\u001b[0;32m/home/nicolas/master_thesis/spinnaker_lsm/spinnaker_virtenv/venv/local/lib/python2.7/site-packages/spynnaker/pyNN/models/neuron/abstract_population_vertex.pyc\u001b[0m in \u001b[0;36mget_v\u001b[0;34m(self, n_machine_time_steps, placements, graph_mapper, buffer_manager, machine_time_step)\u001b[0m\n\u001b[1;32m    611\u001b[0m             \u001b[0mconstants\u001b[0m\u001b[0;34m.\u001b[0m\u001b[0mPOPULATION_BASED_REGIONS\u001b[0m\u001b[0;34m.\u001b[0m\u001b[0mPOTENTIAL_HISTORY\u001b[0m\u001b[0;34m.\u001b[0m\u001b[0mvalue\u001b[0m\u001b[0;34m,\u001b[0m\u001b[0;34m\u001b[0m\u001b[0m\n\u001b[1;32m    612\u001b[0m             \u001b[0mconstants\u001b[0m\u001b[0;34m.\u001b[0m\u001b[0mPOPULATION_BASED_REGIONS\u001b[0m\u001b[0;34m.\u001b[0m\u001b[0mBUFFERING_OUT_STATE\u001b[0m\u001b[0;34m.\u001b[0m\u001b[0mvalue\u001b[0m\u001b[0;34m,\u001b[0m\u001b[0;34m\u001b[0m\u001b[0m\n\u001b[0;32m--> 613\u001b[0;31m             placements, graph_mapper, self, machine_time_step)\n\u001b[0m\u001b[1;32m    614\u001b[0m \u001b[0;34m\u001b[0m\u001b[0m\n\u001b[1;32m    615\u001b[0m     \u001b[0;34m@\u001b[0m\u001b[0moverrides\u001b[0m\u001b[0;34m(\u001b[0m\u001b[0mAbstractGSynRecordable\u001b[0m\u001b[0;34m.\u001b[0m\u001b[0mis_recording_gsyn\u001b[0m\u001b[0;34m)\u001b[0m\u001b[0;34m\u001b[0m\u001b[0m\n",
      "\u001b[0;32m/home/nicolas/master_thesis/spinnaker_lsm/spinnaker_virtenv/venv/local/lib/python2.7/site-packages/spynnaker/pyNN/models/common/v_recorder.pyc\u001b[0m in \u001b[0;36mget_v\u001b[0;34m(self, label, buffer_manager, region, state_region, placements, graph_mapper, application_vertex, machine_time_step)\u001b[0m\n\u001b[1;32m     50\u001b[0m \u001b[0;34m\u001b[0m\u001b[0m\n\u001b[1;32m     51\u001b[0m         \u001b[0mprogress_bar\u001b[0m \u001b[0;34m=\u001b[0m\u001b[0;31m \u001b[0m\u001b[0;31m\\\u001b[0m\u001b[0;34m\u001b[0m\u001b[0m\n\u001b[0;32m---> 52\u001b[0;31m             ProgressBar(len(vertices),\n\u001b[0m\u001b[1;32m     53\u001b[0m                         \"Getting membrane voltage for {}\".format(label))\n\u001b[1;32m     54\u001b[0m \u001b[0;34m\u001b[0m\u001b[0m\n",
      "\u001b[0;31mTypeError\u001b[0m: object of type 'NoneType' has no len()"
     ]
    }
   ],
   "source": [
    "v= pop_1.get_v()\n",
    "time = [i[1] for i in v if i[0] == 0]\n",
    "membrane_voltage = [i[2] for i in v if i[0] == 0]\n",
    "pylab.plot(time, membrane_voltage)\n",
    "pylab.xlabel(\"Time (ms)\")\n",
    "pylab.ylabel(\"Membrane Voltage\")\n",
    "pylab.axis([0, 10, -75, -45])\n",
    "pylab.show()\n",
    "\n",
    "exc_spikes = pop_1.getSpikes(compatible_output=True)\n",
    "spike_time = [i[1] for i in exc_spikes]\n",
    "spike_id = [i[0] for i in exc_spikes]\n",
    "pylab.plot(spike_time, spike_id, \".\")\n",
    "pylab.xlabel(\"Time (ms)\")\n",
    "pylab.ylabel(\"Neuron ID\")\n",
    "pylab.axis([0, 10, -1, 1])\n",
    "pylab.show()"
   ]
  },
  {
   "cell_type": "code",
   "execution_count": null,
   "metadata": {
    "collapsed": true
   },
   "outputs": [],
   "source": []
  }
 ],
 "metadata": {
  "kernelspec": {
   "display_name": "spinnaker_virtualenv",
   "language": "python",
   "name": "spinnaker_virtualenv"
  },
  "language_info": {
   "codemirror_mode": {
    "name": "ipython",
    "version": 2
   },
   "file_extension": ".py",
   "mimetype": "text/x-python",
   "name": "python",
   "nbconvert_exporter": "python",
   "pygments_lexer": "ipython2",
   "version": "2.7.12"
  }
 },
 "nbformat": 4,
 "nbformat_minor": 2
}
