{
 "cells": [
  {
   "cell_type": "code",
   "execution_count": 31,
   "metadata": {},
   "outputs": [
    {
     "name": "stderr",
     "output_type": "stream",
     "text": [
      "2017-06-22 13:13:31 INFO: sPyNNaker (c) 2016 APT Group, University of Manchester\n",
      "2017-06-22 13:13:31 INFO: Release version 3.0.0() - September 2016. Installed in folder /home/nicolas/master_thesis/spinnaker_lsm/spinnaker_virtenv/venv/local/lib/python2.7/site-packages\n",
      "2017-06-22 13:13:31 INFO: Will search these locations for binaries: /home/nicolas/master_thesis/spinnaker_lsm/spinnaker_virtenv/venv/local/lib/python2.7/site-packages/spinn_front_end_common/common_model_binaries : /home/nicolas/master_thesis/spinnaker_lsm/spinnaker_virtenv/venv/local/lib/python2.7/site-packages/spynnaker/pyNN/model_binaries : /home/nicolas/master_thesis/spinnaker_lsm/spinnaker_virtenv/venv/local/lib/python2.7/site-packages/spynnaker/pyNN/model_binaries : /home/nicolas/master_thesis/spinnaker_lsm/spinnaker_virtenv/venv/local/lib/python2.7/site-packages/spynnaker/pyNN/model_binaries\n",
      "2017-06-22 13:13:31 INFO: Setting appID to 30.\n",
      "2017-06-22 13:13:31 INFO: Setting time scale factor to 1.\n",
      "2017-06-22 13:13:31 INFO: Setting machine time step to 1000.0 micro-seconds.\n"
     ]
    },
    {
     "data": {
      "text/plain": [
       "0"
      ]
     },
     "execution_count": 31,
     "metadata": {},
     "output_type": "execute_result"
    }
   ],
   "source": [
    "import pyNN.spiNNaker as p\n",
    "import pylab\n",
    "\n",
    "p.setup(timestep=1.0)"
   ]
  },
  {
   "cell_type": "code",
   "execution_count": 32,
   "metadata": {
    "collapsed": true
   },
   "outputs": [],
   "source": [
    "pop_1 = p.Population(1, p.IF_curr_exp, {}, label=\"pop_1\")\n",
    "input = p.Population(1, p.SpikeSourceArray,\n",
    "        {'spike_times': [[0,3,5]]}, label=\"input\")\n",
    "input_proj = p.Projection(input, pop_1, p.OneToOneConnector(\n",
    "    weights=5.0, delays=1), target=\"excitatory\")"
   ]
  },
  {
   "cell_type": "code",
   "execution_count": 34,
   "metadata": {},
   "outputs": [
    {
     "name": "stderr",
     "output_type": "stream",
     "text": [
      "2017-06-22 13:13:36 INFO: Starting execution process\n",
      "2017-06-22 13:13:36 INFO: Creating transceiver for 192.168.240.36\n",
      "2017-06-22 13:13:36 INFO: Working out if machine is booted\n",
      "2017-06-22 13:13:37 INFO: Found board with version [Version: SC&MP 3.0.1 at SpiNNaker:0:0:0 (built Wed Jul 20 11:07:23 2016)]\n",
      "2017-06-22 13:13:37 INFO: Machine communication successful\n",
      "2017-06-22 13:13:37 INFO: Detected a machine on ip address 192.168.240.36 which has 72 cores and 8 links\n",
      "2017-06-22 13:13:37 INFO: Time 0:00:00.767978 taken by FrontEndCommonMachineGenerator\n",
      "Allocating virtual identifiers\n",
      "|0                           50%                         100%|\n",
      " ============================================================\n",
      "2017-06-22 13:13:37 INFO: Time 0:00:00.089148 taken by MallocBasedChipIDAllocator\n",
      "2017-06-22 13:13:37 INFO: Time 0:00:00.000224 taken by FrontEndCommonApplicationGraphNetworkSpecificationReport\n",
      "Partitioning graph vertices\n",
      "|0                           50%                         100%|\n",
      " ============================================================\n",
      "Partitioning graph edges\n",
      "|0                           50%                         100%|\n",
      " ============================================================\n",
      "2017-06-22 13:13:37 INFO: Time 0:00:00.018982 taken by PartitionAndPlacePartitioner\n",
      "Generating partitioner report\n",
      "|0                           50%                         100%|\n",
      " ============================================================\n",
      "2017-06-22 13:13:37 INFO: Time 0:00:00.008083 taken by PartitionerReport\n",
      "Filtering edges\n",
      "|0                           50%                         100%|\n",
      " ============================================================\n",
      "2017-06-22 13:13:37 INFO: Time 0:00:00.009147 taken by GraphEdgeFilter\n",
      "Placing graph vertices\n",
      "|0                           50%                         100%|\n",
      " ========================================================================================================================\n",
      "2017-06-22 13:13:37 INFO: Time 0:00:00.016304 taken by OneToOnePlacer\n",
      "Generating placement report\n",
      "|0                           50%                         100%|\n",
      " ============================================================\n",
      "Generating placement by core report\n",
      "|0                           50%                         100%|\n",
      " ============================================================\n",
      "Generating SDRAM usage report\n",
      "|0                           50%                         100%|\n",
      " ============================================================\n",
      "2017-06-22 13:13:37 INFO: Time 0:00:00.029410 taken by PlacerReportWithApplicationGraph\n",
      "Routing\n",
      "|0                           50%                         100%|\n",
      " ============================================================\n",
      "2017-06-22 13:13:37 INFO: Time 0:00:00.010820 taken by RigRoute\n",
      "Allocating tags\n",
      "|0                           50%                         100%|\n",
      " ============================================================\n",
      "2017-06-22 13:13:37 INFO: Time 0:00:00.015035 taken by BasicTagAllocator\n",
      "Reporting Tags\n",
      "|0                           50%                         100%|\n",
      " ============================================================\n",
      "2017-06-22 13:13:37 INFO: Time 0:00:00.009577 taken by TagReport\n",
      "Getting the number of keys required by each edge using theapplication graph\n",
      "|0                           50%                         100%|\n",
      " ============================================================\n",
      "2017-06-22 13:13:37 INFO: Time 0:00:00.009596 taken by FrontEndCommonEdgeToNKeysMapper\n",
      "Allocating routing keys\n",
      "|0                           50%                         100%|\n",
      " ============================================================\n",
      "2017-06-22 13:13:37 INFO: Time 0:00:00.008934 taken by MallocBasedRoutingInfoAllocator\n",
      "Generating Routing info report\n",
      "|0                           50%                         100%|\n",
      " ============================================================\n",
      "2017-06-22 13:13:37 INFO: Time 0:00:00.006992 taken by routingInfoReports\n",
      "Generating routing tables\n",
      "|0                           50%                         100%|\n",
      " ============================================================\n",
      "2017-06-22 13:13:37 INFO: Time 0:00:00.008447 taken by BasicRoutingTableGenerator\n",
      "Generating Router table report\n",
      "|0                           50%                         100%|\n",
      " ============================================================\n",
      "2017-06-22 13:13:37 INFO: Time 0:00:00.007363 taken by unCompressedRoutingTableReports\n",
      "Compressing routing Tables\n",
      "|0                           50%                         100%|\n",
      " ============================================================\n",
      "2017-06-22 13:13:37 INFO: Time 0:00:00.010166 taken by MundyRouterCompressor\n",
      "Generating compressed router table report\n",
      "|0                           50%                         100%|\n",
      " ============================================================\n",
      "2017-06-22 13:13:37 INFO: Time 0:00:00.005549 taken by compressedRoutingTableReports\n",
      "Generating comparison of router table report\n",
      "|0                           50%                         100%|\n",
      " ============================================================\n",
      "2017-06-22 13:13:37 INFO: Time 0:00:00.008709 taken by comparisonOfRoutingTablesReport\n",
      "Generating sPyNNaker data specifications\n",
      "|0                           50%                         100%|\n",
      " ============================================================\n",
      "2017-06-22 13:13:37 INFO: Time 0:00:00.014501 taken by SpynnakerDataSpecificationWriter\n",
      "Loading routing data onto the machine\n",
      "|0                           50%                         100%|\n",
      " ============================================================\n",
      "2017-06-22 13:13:38 INFO: Time 0:00:00.011663 taken by FrontEndCommonRoutingTableLoader\n",
      "Clearing tags\n",
      "|0                           50%                         100%|\n",
      " ============================================================\n",
      "Loading Tags\n",
      "|0                           50%                         100%|\n",
      " ============================================================\n",
      "2017-06-22 13:13:38 INFO: Time 0:00:00.040432 taken by FrontEndCommonTagsLoader\n",
      "Executing data specifications and loading data\n",
      "|0                           50%                         100%|\n",
      " ============================================================\n",
      "2017-06-22 13:13:38 INFO: Time 0:00:00.014004 taken by FrontEndCommonHostExecuteDataSpecification\n",
      "Finding binaries\n",
      "|0                           50%                         100%|\n",
      " ============================================================\n",
      "2017-06-22 13:13:38 INFO: Time 0:00:00.010141 taken by FrontEndCommonGraphBinaryGatherer\n",
      "Loading executables onto the machine\n",
      "|0                           50%                         100%|\n",
      " ============================================================\n",
      "2017-06-22 13:13:40 INFO: Time 0:00:02.194518 taken by FrontEndCommonLoadExecutableImages\n",
      "2017-06-22 13:13:40 INFO: Running for 1 steps for a total of 10 ms\n",
      "2017-06-22 13:13:40 INFO: Run 1 of 1\n",
      "Initialising buffers\n",
      "|0                           50%                         100%|\n",
      " ============================================================\n",
      "2017-06-22 13:13:40 INFO: Time 0:00:00.012893 taken by FrontEndCommonBufferManagerCreator\n",
      "Updating run time\n",
      "|0                           50%                         100%|\n",
      " ============================================================\n",
      "2017-06-22 13:13:40 INFO: Time 0:00:00.030527 taken by FrontEndCommonChipRuntimeUpdater\n",
      "2017-06-22 13:13:40 INFO: Time 0:00:00.000147 taken by FrontEndCommonDatabaseInterface\n",
      "2017-06-22 13:13:40 INFO: Time 0:00:00.000713 taken by FrontEndCommonNotificationProtocol\n",
      "2017-06-22 13:13:40 INFO: *** Running simulation... *** \n",
      "Loading buffers (32 bytes)\n",
      "|0                           50%                         100%|\n",
      " ============================================================\n",
      "2017-06-22 13:13:40 INFO: *** Awaiting for a response from an external source to state its ready for the simulation to start ***\n",
      "2017-06-22 13:13:40 INFO: Starting application (SCPSignal.SYNC0)\n",
      "2017-06-22 13:13:40 INFO: Checking that the application has started\n",
      "2017-06-22 13:13:40 INFO: *** Awaiting for a response from an external source to state its ready for the simulation to start ***\n",
      "2017-06-22 13:13:40 INFO: Application started - waiting 0.11 seconds for it to stop\n"
     ]
    },
    {
     "name": "stderr",
     "output_type": "stream",
     "text": [
      "2017-06-22 13:13:40 INFO: Application has run to completion\n",
      "2017-06-22 13:13:40 INFO: Time 0:00:00.283817 taken by FrontEndCommonApplicationRunner\n"
     ]
    }
   ],
   "source": [
    "pop_1.record()\n",
    "pop_1.record_v()\n",
    "p.run(10)"
   ]
  },
  {
   "cell_type": "code",
   "execution_count": 37,
   "metadata": {},
   "outputs": [
    {
     "name": "stderr",
     "output_type": "stream",
     "text": [
      "Getting membrane voltage for pop_1\n",
      "|0                           50%                         100%|\n",
      " ============================================================"
     ]
    },
    {
     "name": "stdout",
     "output_type": "stream",
     "text": [
      "[[  0.           0.         -65.0019837 ]\n",
      " [  0.           1.         -65.0019837 ]\n",
      " [  0.           2.         -60.57908872]\n",
      " [  0.           3.         -57.17377239]\n",
      " [  0.           4.         -54.59105197]\n",
      " [  0.           5.         -65.0019837 ]\n",
      " [  0.           6.         -65.0019837 ]\n",
      " [  0.           7.         -55.98733482]\n",
      " [  0.           8.         -65.0019837 ]\n",
      " [  0.           9.         -65.0019837 ]]\n"
     ]
    },
    {
     "name": "stderr",
     "output_type": "stream",
     "text": [
      "\n"
     ]
    },
    {
     "data": {
      "image/png": "[encoded data removed]",
      "text/plain": [
       "<matplotlib.figure.Figure at 0x7fc62c09c6d0>"
      ]
     },
     "metadata": {},
     "output_type": "display_data"
    },
    {
     "name": "stderr",
     "output_type": "stream",
     "text": [
      "Getting spikes for pop_1\n",
      "|0                           50%                         100%|\n",
      " ============================================================\n"
     ]
    },
    {
     "name": "stdout",
     "output_type": "stream",
     "text": [
      "[[ 0.  4.]\n",
      " [ 0.  7.]]\n"
     ]
    },
    {
     "data": {
      "image/png": "[encoded data removed]",
      "text/plain": [
       "<matplotlib.figure.Figure at 0x7fc62f037550>"
      ]
     },
     "metadata": {},
     "output_type": "display_data"
    }
   ],
   "source": [
    "v= pop_1.get_v()\n",
    "print v\n",
    "time = [i[1] for i in v if i[0] == 0]\n",
    "membrane_voltage = [i[2] for i in v if i[0] == 0]\n",
    "pylab.plot(time, membrane_voltage)\n",
    "pylab.xlabel(\"Time (ms)\")\n",
    "pylab.ylabel(\"Membrane Voltage\")\n",
    "pylab.axis([0, 10, -75, -45])\n",
    "pylab.show()\n",
    "\n",
    "exc_spikes = pop_1.getSpikes(compatible_output=True)\n",
    "print exc_spikes\n",
    "\n",
    "spike_time = [i[1] for i in exc_spikes]\n",
    "spike_id = [i[0] for i in exc_spikes]\n",
    "pylab.plot(spike_time, spike_id, \".\")\n",
    "pylab.xlabel(\"Time (ms)\")\n",
    "pylab.ylabel(\"Neuron ID\")\n",
    "pylab.axis([0, 10, -1, 1])\n",
    "pylab.show()"
   ]
  },
  {
   "cell_type": "code",
   "execution_count": null,
   "metadata": {
    "collapsed": true
   },
   "outputs": [],
   "source": [
    "p.FromListConnector()"
   ]
  }
 ],
 "metadata": {
  "kernelspec": {
   "display_name": "spinnaker_virtualenv",
   "language": "python",
   "name": "spinnaker_virtualenv"
  },
  "language_info": {
   "codemirror_mode": {
    "name": "ipython",
    "version": 2
   },
   "file_extension": ".py",
   "mimetype": "text/x-python",
   "name": "python",
   "nbconvert_exporter": "python",
   "pygments_lexer": "ipython2",
   "version": "2.7.12"
  }
 },
 "nbformat": 4,
 "nbformat_minor": 2
}
