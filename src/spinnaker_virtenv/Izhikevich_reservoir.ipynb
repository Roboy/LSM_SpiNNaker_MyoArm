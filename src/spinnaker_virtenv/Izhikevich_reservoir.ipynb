{
 "cells": [
  {
   "cell_type": "code",
   "execution_count": 19,
   "metadata": {},
   "outputs": [],
   "source": [
    "import socket\n",
    "\n",
    "simulator_name = 'spiNNaker'\n",
    "\n",
    "\n",
    "from spynnaker.pyNN import *\n",
    "import pyNN.spiNNaker as p\n",
    "from pyNN.random import NumpyRNG, RandomDistribution\n",
    "from pyNN.utility import Timer\n",
    "\n",
    "timer = Timer()\n",
    "\n",
    "# === Define parameters ===\n",
    "threads = 1\n",
    "rngseed = 98766987\n",
    "parallel_safe = True\n",
    "stim_dur = 50.    # (ms) duration of random stimulation\n",
    "rate = 100.       # (Hz) frequency of the random stimulation\n",
    "\n",
    "dt = 1.0          # (ms) simulation timestep\n",
    "tstop = 1000      # (ms) simulaton duration\n",
    "delay = 2"
   ]
  },
  {
   "cell_type": "code",
   "execution_count": 20,
   "metadata": {},
   "outputs": [
    {
     "name": "stdout",
     "output_type": "stream",
     "text": [
      "400 100\n"
     ]
    }
   ],
   "source": [
    "n = 500          # number of cells\n",
    "exc_ratio = 0.8   # ratio of excitatory neurons\n",
    "pconn = 0.02      # connection probability\n",
    "\n",
    "n_exc = int(round(n*0.8))\n",
    "n_inh = n-n_exc\n",
    "print n_exc, n_inh\n",
    "\n",
    "# === cell parameters === TODO: \n",
    "v_reset = -60.    # (mV)\n",
    "v_thresh = -50.   # (mV)\n",
    "\n",
    "Gexc = 4.     # (nS)\n",
    "Ginh = 51.    # (nS)\n",
    "w_exc = Gexc * 1e-3              # We convert conductances to uS\n",
    "w_inh = Ginh * 1e-3\n",
    "    \n"
   ]
  },
  {
   "cell_type": "code",
   "execution_count": 21,
   "metadata": {},
   "outputs": [
    {
     "name": "stderr",
     "output_type": "stream",
     "text": [
      "2017-08-30 19:45:41 INFO: sPyNNaker (c) 2016 APT Group, University of Manchester\n",
      "2017-08-30 19:45:41 INFO: Release version 3.0.0() - September 2016. Installed in folder /usr/local/lib/python2.7/dist-packages\n",
      "2017-08-30 19:45:41 WARNING: Extra params has been applied to the setup command which we do not consider\n",
      "2017-08-30 19:45:41 INFO: Will search these locations for binaries: /usr/local/lib/python2.7/dist-packages/spinn_front_end_common/common_model_binaries : /usr/local/lib/python2.7/dist-packages/spynnaker/pyNN/model_binaries : /usr/local/lib/python2.7/dist-packages/spynnaker/pyNN/model_binaries : /usr/local/lib/python2.7/dist-packages/spynnaker/pyNN/model_binaries : /usr/local/lib/python2.7/dist-packages/spynnaker/pyNN/model_binaries\n",
      "2017-08-30 19:45:41 INFO: Setting appID to 30.\n",
      "2017-08-30 19:45:41 INFO: Setting time scale factor to 1.\n",
      "2017-08-30 19:45:41 INFO: Setting machine time step to 1000.0 micro-seconds.\n"
     ]
    },
    {
     "name": "stdout",
     "output_type": "stream",
     "text": [
      "Host #1 is on roboy-server0\n",
      "1 Initialising the simulator with 1 thread(s)...\n"
     ]
    }
   ],
   "source": [
    "# === setup connection to SpiNNaker ===\n",
    "\n",
    "extra = {'threads': threads,\n",
    "         'filename': \"Izhikevich_reservoir.xml\",\n",
    "         'label': 'VA'}\n",
    "\n",
    "node_id = setup(timestep=dt, min_delay=delay, max_delay=delay, db_name='Izhikevich_reservoir.sqlite', **extra)\n",
    "\n",
    "if simulator_name == 'spiNNaker':\n",
    "    set_number_of_neurons_per_core('IZK_cond_exp', 50)      # this will set 100 neurons per core\n",
    "\n",
    "node_id = 1\n",
    "np = 1\n",
    "\n",
    "host_name = socket.gethostname()\n",
    "print \"Host #%d is on %s\" % (np, host_name)\n",
    "\n",
    "print \"%s Initialising the simulator with %d thread(s)...\" % (\n",
    "    node_id, extra['threads'])"
   ]
  },
  {
   "cell_type": "code",
   "execution_count": 22,
   "metadata": {},
   "outputs": [
    {
     "name": "stdout",
     "output_type": "stream",
     "text": [
      "1 Creating cell populations...\n",
      "setting up the spike source\n"
     ]
    }
   ],
   "source": [
    "# === Build the network ===\n",
    "\n",
    "celltype = p.IZK_cond_exp\n",
    "cell_params = {'a':0.02, 'b':0.2, 'c':-65, 'd':6, 'i_offset':0.0}\n",
    "\n",
    "print \"%s Creating cell populations...\" % node_id\n",
    "exc_cells = Population(n_exc, celltype, cell_params, label=\"Excitatory_Cells\")\n",
    "inh_cells = Population(n_inh, celltype, cell_params, label=\"Inhibitory_Cells\")\n",
    "\n",
    "print(\"setting up the spike source\")\n",
    "ext_stim = Population(\n",
    "            20, SpikeSourcePoisson,\n",
    "            {'rate': rate, 'duration': stim_dur},\n",
    "            label=\"expoisson\")\n",
    "rconn = 0.01\n",
    "ext_conn = FixedProbabilityConnector(rconn, weights=0.1)\n",
    "ext_stim.record()"
   ]
  },
  {
   "cell_type": "code",
   "execution_count": 23,
   "metadata": {},
   "outputs": [
    {
     "name": "stdout",
     "output_type": "stream",
     "text": [
      "1 Initialising membrane potential to random values...\n"
     ]
    }
   ],
   "source": [
    "print \"%s Initialising membrane potential to random values...\" % node_id\n",
    "\n",
    "rng = NumpyRNG(seed=rngseed, parallel_safe=parallel_safe)\n",
    "uniformDistr = RandomDistribution('uniform', [v_reset, v_thresh], rng=rng)\n",
    "exc_cells.initialize('v', uniformDistr)\n",
    "inh_cells.initialize('v', uniformDistr)"
   ]
  },
  {
   "cell_type": "code",
   "execution_count": 24,
   "metadata": {},
   "outputs": [
    {
     "name": "stdout",
     "output_type": "stream",
     "text": [
      "1 Connecting populations...\n"
     ]
    }
   ],
   "source": [
    "print \"%s Connecting populations...\" % node_id\n",
    "exc_conn = FixedProbabilityConnector(pconn, weights=w_exc, delays=delay)\n",
    "inh_conn = FixedProbabilityConnector(pconn, weights=w_inh, delays=delay)\n",
    "\n",
    "connections = {}\n",
    "connections['e2e'] = Projection(exc_cells, exc_cells, exc_conn,\n",
    "                                target='excitatory', rng=rng)\n",
    "connections['e2i'] = Projection(exc_cells, inh_cells, exc_conn,\n",
    "                                target='excitatory', rng=rng)\n",
    "connections['i2e'] = Projection(inh_cells, exc_cells, inh_conn,\n",
    "                                target='inhibitory', rng=rng)\n",
    "connections['i2i'] = Projection(inh_cells, inh_cells, inh_conn,\n",
    "                                target='inhibitory', rng=rng)\n",
    "\n",
    "\n",
    "connections['ext2e'] = Projection(ext_stim, exc_cells, ext_conn,\n",
    "                                      target='excitatory')\n",
    "connections['ext2i'] = Projection(ext_stim, inh_cells, ext_conn,\n",
    "                                      target='excitatory')\n"
   ]
  },
  {
   "cell_type": "code",
   "execution_count": 25,
   "metadata": {},
   "outputs": [
    {
     "name": "stderr",
     "output_type": "stream",
     "text": [
      "2017-08-30 19:45:42 INFO: Starting execution process\n",
      "2017-08-30 19:45:43 INFO: Creating transceiver for 192.168.240.36\n",
      "2017-08-30 19:45:43 INFO: Working out if machine is booted\n",
      "2017-08-30 19:45:43 INFO: Found board with version [Version: SC&MP 3.0.1 at SpiNNaker:0:0:0 (built Wed Jul 20 11:07:23 2016)]\n",
      "2017-08-30 19:45:43 INFO: Machine communication successful\n",
      "2017-08-30 19:45:43 INFO: Detected a machine on ip address 192.168.240.36 which has 72 cores and 8 links\n"
     ]
    },
    {
     "name": "stdout",
     "output_type": "stream",
     "text": [
      "1 Setting up recording...\n",
      "1 Running simulation...\n",
      "timings: number of neurons: 500\n",
      "timings: number of synapses: 5000.0\n"
     ]
    },
    {
     "name": "stderr",
     "output_type": "stream",
     "text": [
      "2017-08-30 19:45:43 INFO: Time 0:00:00.230078 taken by FrontEndCommonMachineGenerator\n",
      "Allocating virtual identifiers\n",
      "|0                           50%                         100%|\n",
      " ============================================================\n",
      "2017-08-30 19:45:43 INFO: Time 0:00:00.015220 taken by MallocBasedChipIDAllocator\n",
      "2017-08-30 19:45:43 INFO: Time 0:00:00.000242 taken by FrontEndCommonApplicationGraphNetworkSpecificationReport\n",
      "Partitioning graph vertices\n",
      "|0                           50%                         100%|\n",
      " ============================================================\n",
      "Partitioning graph edges\n",
      "|0                           50%                         100%|\n",
      " ============================================================\n",
      "2017-08-30 19:45:43 INFO: Time 0:00:00.102863 taken by PartitionAndPlacePartitioner\n",
      "Generating partitioner report\n",
      "|0                           50%                         100%|\n",
      " ============================================================\n",
      "2017-08-30 19:45:43 INFO: Time 0:00:00.007251 taken by PartitionerReport\n",
      "Filtering edges\n",
      "|0                           50%                         100%|\n",
      " ============================================================\n",
      "2017-08-30 19:45:43 INFO: Time 0:00:00.086477 taken by GraphEdgeFilter\n",
      "Placing graph vertices\n",
      "|0                           50%                         100%|\n",
      " ============================================================\n",
      "2017-08-30 19:45:43 INFO: Time 0:00:00.010719 taken by OneToOnePlacer\n",
      "Generating placement report\n",
      "|0                           50%                         100%|\n",
      " ============================================================\n",
      "Generating placement by core report\n",
      "|0                           50%                         100%|\n",
      " ============================================================\n",
      "Generating SDRAM usage report\n",
      "|0                           50%                         100%|\n",
      " ============================================================\n",
      "2017-08-30 19:45:43 INFO: Time 0:00:00.031034 taken by PlacerReportWithApplicationGraph\n",
      "Routing\n",
      "|0                           50%                         100%|\n",
      " ============================================================\n",
      "2017-08-30 19:45:43 INFO: Time 0:00:00.012054 taken by RigRoute\n",
      "Allocating tags\n",
      "|0                           50%                         100%|\n",
      " ============================================================\n",
      "2017-08-30 19:45:43 INFO: Time 0:00:00.013268 taken by BasicTagAllocator\n",
      "Reporting Tags\n",
      "|0                           50%                         100%|\n",
      " ============================================================\n",
      "2017-08-30 19:45:43 INFO: Time 0:00:00.005221 taken by TagReport\n",
      "Getting the number of keys required by each edge using theapplication graph\n",
      "|0                           50%                         100%|\n",
      " ============================================================\n",
      "2017-08-30 19:45:43 INFO: Time 0:00:00.009130 taken by FrontEndCommonEdgeToNKeysMapper\n",
      "Allocating routing keys\n",
      "|0                           50%                         100%|\n",
      " "
     ]
    },
    {
     "ename": "ValueError",
     "evalue": "shape mismatch: value array of shape (32,) could not be broadcast to indexing result of shape (0,)",
     "output_type": "error",
     "traceback": [
      "\u001b[0;31m--------------------------------------------------------------------------\u001b[0m",
      "\u001b[0;31mValueError\u001b[0m                               Traceback (most recent call last)",
      "\u001b[0;32m<ipython-input-25-ef1b68563de2>\u001b[0m in \u001b[0;36m<module>\u001b[0;34m()\u001b[0m\n\u001b[1;32m     12\u001b[0m \u001b[0;32mprint\u001b[0m \u001b[0;34m\"timings: number of synapses:\"\u001b[0m\u001b[0;34m,\u001b[0m \u001b[0mn\u001b[0m \u001b[0;34m*\u001b[0m \u001b[0mn\u001b[0m \u001b[0;34m*\u001b[0m \u001b[0mpconn\u001b[0m\u001b[0;34m\u001b[0m\u001b[0m\n\u001b[1;32m     13\u001b[0m \u001b[0;34m\u001b[0m\u001b[0m\n\u001b[0;32m---> 14\u001b[0;31m \u001b[0mrun\u001b[0m\u001b[0;34m(\u001b[0m\u001b[0mtstop\u001b[0m\u001b[0;34m)\u001b[0m\u001b[0;34m\u001b[0m\u001b[0m\n\u001b[0m\u001b[1;32m     15\u001b[0m \u001b[0;34m\u001b[0m\u001b[0m\n\u001b[1;32m     16\u001b[0m \u001b[0msimCPUTime\u001b[0m \u001b[0;34m=\u001b[0m \u001b[0mtimer\u001b[0m\u001b[0;34m.\u001b[0m\u001b[0mdiff\u001b[0m\u001b[0;34m(\u001b[0m\u001b[0;34m)\u001b[0m\u001b[0;34m\u001b[0m\u001b[0m\n",
      "\u001b[0;32m/usr/local/lib/python2.7/dist-packages/spynnaker/pyNN/__init__.pyc\u001b[0m in \u001b[0;36mrun\u001b[0;34m(run_time)\u001b[0m\n\u001b[1;32m    177\u001b[0m     \"\"\"\n\u001b[1;32m    178\u001b[0m     \u001b[0;32mglobal\u001b[0m \u001b[0m_spinnaker\u001b[0m\u001b[0;34m\u001b[0m\u001b[0m\n\u001b[0;32m--> 179\u001b[0;31m     \u001b[0m_spinnaker\u001b[0m\u001b[0;34m.\u001b[0m\u001b[0mrun\u001b[0m\u001b[0;34m(\u001b[0m\u001b[0mrun_time\u001b[0m\u001b[0;34m)\u001b[0m\u001b[0;34m\u001b[0m\u001b[0m\n\u001b[0m\u001b[1;32m    180\u001b[0m     \u001b[0;32mreturn\u001b[0m \u001b[0mNone\u001b[0m\u001b[0;34m\u001b[0m\u001b[0m\n\u001b[1;32m    181\u001b[0m \u001b[0;34m\u001b[0m\u001b[0m\n",
      "\u001b[0;32m/usr/local/lib/python2.7/dist-packages/spynnaker/pyNN/spinnaker.pyc\u001b[0m in \u001b[0;36mrun\u001b[0;34m(self, run_time)\u001b[0m\n\u001b[1;32m    335\u001b[0m         \u001b[0;31m# extra post run algorithms\u001b[0m\u001b[0;34m\u001b[0m\u001b[0;34m\u001b[0m\u001b[0m\n\u001b[1;32m    336\u001b[0m         \u001b[0mself\u001b[0m\u001b[0;34m.\u001b[0m\u001b[0m_dsg_algorithm\u001b[0m \u001b[0;34m=\u001b[0m \u001b[0;34m\"SpynnakerDataSpecificationWriter\"\u001b[0m\u001b[0;34m\u001b[0m\u001b[0m\n\u001b[0;32m--> 337\u001b[0;31m         \u001b[0mSpinnakerMainInterface\u001b[0m\u001b[0;34m.\u001b[0m\u001b[0mrun\u001b[0m\u001b[0;34m(\u001b[0m\u001b[0mself\u001b[0m\u001b[0;34m,\u001b[0m \u001b[0mrun_time\u001b[0m\u001b[0;34m)\u001b[0m\u001b[0;34m\u001b[0m\u001b[0m\n\u001b[0m",
      "\u001b[0;32m/usr/local/lib/python2.7/dist-packages/spinn_front_end_common/interface/spinnaker_main_interface.pyc\u001b[0m in \u001b[0;36mrun\u001b[0;34m(self, run_time)\u001b[0m\n\u001b[1;32m    467\u001b[0m             \u001b[0;32mif\u001b[0m \u001b[0mself\u001b[0m\u001b[0;34m.\u001b[0m\u001b[0m_machine\u001b[0m \u001b[0;32mis\u001b[0m \u001b[0mNone\u001b[0m\u001b[0;34m:\u001b[0m\u001b[0;34m\u001b[0m\u001b[0m\n\u001b[1;32m    468\u001b[0m                 \u001b[0mself\u001b[0m\u001b[0;34m.\u001b[0m\u001b[0m_get_machine\u001b[0m\u001b[0;34m(\u001b[0m\u001b[0mtotal_run_time\u001b[0m\u001b[0;34m,\u001b[0m \u001b[0mn_machine_time_steps\u001b[0m\u001b[0;34m)\u001b[0m\u001b[0;34m\u001b[0m\u001b[0m\n\u001b[0;32m--> 469\u001b[0;31m             \u001b[0mself\u001b[0m\u001b[0;34m.\u001b[0m\u001b[0m_do_mapping\u001b[0m\u001b[0;34m(\u001b[0m\u001b[0mrun_time\u001b[0m\u001b[0;34m,\u001b[0m \u001b[0mn_machine_time_steps\u001b[0m\u001b[0;34m,\u001b[0m \u001b[0mtotal_run_time\u001b[0m\u001b[0;34m)\u001b[0m\u001b[0;34m\u001b[0m\u001b[0m\n\u001b[0m\u001b[1;32m    470\u001b[0m \u001b[0;34m\u001b[0m\u001b[0m\n\u001b[1;32m    471\u001b[0m         \u001b[0;31m# Check if anything is recording and buffered\u001b[0m\u001b[0;34m\u001b[0m\u001b[0;34m\u001b[0m\u001b[0m\n",
      "\u001b[0;32m/usr/local/lib/python2.7/dist-packages/spinn_front_end_common/interface/spinnaker_main_interface.pyc\u001b[0m in \u001b[0;36m_do_mapping\u001b[0;34m(self, run_time, n_machine_time_steps, total_run_time)\u001b[0m\n\u001b[1;32m   1028\u001b[0m \u001b[0;34m\u001b[0m\u001b[0m\n\u001b[1;32m   1029\u001b[0m         \u001b[0;31m# Execute the mapping algorithms\u001b[0m\u001b[0;34m\u001b[0m\u001b[0;34m\u001b[0m\u001b[0m\n\u001b[0;32m-> 1030\u001b[0;31m         \u001b[0mexecutor\u001b[0m \u001b[0;34m=\u001b[0m \u001b[0mself\u001b[0m\u001b[0;34m.\u001b[0m\u001b[0m_run_machine_algorithms\u001b[0m\u001b[0;34m(\u001b[0m\u001b[0minputs\u001b[0m\u001b[0;34m,\u001b[0m \u001b[0malgorithms\u001b[0m\u001b[0;34m,\u001b[0m \u001b[0moutputs\u001b[0m\u001b[0;34m)\u001b[0m\u001b[0;34m\u001b[0m\u001b[0m\n\u001b[0m\u001b[1;32m   1031\u001b[0m         \u001b[0mself\u001b[0m\u001b[0;34m.\u001b[0m\u001b[0m_mapping_outputs\u001b[0m \u001b[0;34m=\u001b[0m \u001b[0mexecutor\u001b[0m\u001b[0;34m.\u001b[0m\u001b[0mget_items\u001b[0m\u001b[0;34m(\u001b[0m\u001b[0;34m)\u001b[0m\u001b[0;34m\u001b[0m\u001b[0m\n\u001b[1;32m   1032\u001b[0m         \u001b[0mself\u001b[0m\u001b[0;34m.\u001b[0m\u001b[0m_pacman_provenance\u001b[0m\u001b[0;34m.\u001b[0m\u001b[0mextract_provenance\u001b[0m\u001b[0;34m(\u001b[0m\u001b[0mexecutor\u001b[0m\u001b[0;34m)\u001b[0m\u001b[0;34m\u001b[0m\u001b[0m\n",
      "\u001b[0;32m/usr/local/lib/python2.7/dist-packages/spinn_front_end_common/interface/spinnaker_main_interface.pyc\u001b[0m in \u001b[0;36m_run_machine_algorithms\u001b[0;34m(self, inputs, algorithms, outputs, optional_algorithms)\u001b[0m\n\u001b[1;32m    645\u001b[0m \u001b[0;34m\u001b[0m\u001b[0m\n\u001b[1;32m    646\u001b[0m         \u001b[0;32mtry\u001b[0m\u001b[0;34m:\u001b[0m\u001b[0;34m\u001b[0m\u001b[0m\n\u001b[0;32m--> 647\u001b[0;31m             \u001b[0mexecutor\u001b[0m\u001b[0;34m.\u001b[0m\u001b[0mexecute_mapping\u001b[0m\u001b[0;34m(\u001b[0m\u001b[0;34m)\u001b[0m\u001b[0;34m\u001b[0m\u001b[0m\n\u001b[0m\u001b[1;32m    648\u001b[0m             \u001b[0mself\u001b[0m\u001b[0;34m.\u001b[0m\u001b[0m_pacman_provenance\u001b[0m\u001b[0;34m.\u001b[0m\u001b[0mextract_provenance\u001b[0m\u001b[0;34m(\u001b[0m\u001b[0mexecutor\u001b[0m\u001b[0;34m)\u001b[0m\u001b[0;34m\u001b[0m\u001b[0m\n\u001b[1;32m    649\u001b[0m             \u001b[0;32mreturn\u001b[0m \u001b[0mexecutor\u001b[0m\u001b[0;34m\u001b[0m\u001b[0m\n",
      "\u001b[0;32m/usr/local/lib/python2.7/dist-packages/pacman/executor/pacman_algorithm_executor.pyc\u001b[0m in \u001b[0;36mexecute_mapping\u001b[0;34m(self)\u001b[0m\n\u001b[1;32m    443\u001b[0m \u001b[0;34m\u001b[0m\u001b[0m\n\u001b[1;32m    444\u001b[0m                 \u001b[0;31m# Execute the algorithm\u001b[0m\u001b[0;34m\u001b[0m\u001b[0;34m\u001b[0m\u001b[0m\n\u001b[0;32m--> 445\u001b[0;31m                 \u001b[0mresults\u001b[0m \u001b[0;34m=\u001b[0m \u001b[0malgorithm\u001b[0m\u001b[0;34m.\u001b[0m\u001b[0mcall\u001b[0m\u001b[0;34m(\u001b[0m\u001b[0mself\u001b[0m\u001b[0;34m.\u001b[0m\u001b[0m_internal_type_mapping\u001b[0m\u001b[0;34m)\u001b[0m\u001b[0;34m\u001b[0m\u001b[0m\n\u001b[0m\u001b[1;32m    446\u001b[0m \u001b[0;34m\u001b[0m\u001b[0m\n\u001b[1;32m    447\u001b[0m                 \u001b[0;31m# handle_prov_data\u001b[0m\u001b[0;34m\u001b[0m\u001b[0;34m\u001b[0m\u001b[0m\n",
      "\u001b[0;32m/usr/local/lib/python2.7/dist-packages/pacman/executor/algorithm_classes/abstract_python_algorithm.pyc\u001b[0m in \u001b[0;36mcall\u001b[0;34m(self, inputs)\u001b[0m\n\u001b[1;32m     42\u001b[0m \u001b[0;34m\u001b[0m\u001b[0m\n\u001b[1;32m     43\u001b[0m         \u001b[0;31m# Run the algorithm and get the results\u001b[0m\u001b[0;34m\u001b[0m\u001b[0;34m\u001b[0m\u001b[0m\n\u001b[0;32m---> 44\u001b[0;31m         \u001b[0mresults\u001b[0m \u001b[0;34m=\u001b[0m \u001b[0mself\u001b[0m\u001b[0;34m.\u001b[0m\u001b[0mcall_python\u001b[0m\u001b[0;34m(\u001b[0m\u001b[0mmethod_inputs\u001b[0m\u001b[0;34m)\u001b[0m\u001b[0;34m\u001b[0m\u001b[0m\n\u001b[0m\u001b[1;32m     45\u001b[0m \u001b[0;34m\u001b[0m\u001b[0m\n\u001b[1;32m     46\u001b[0m         \u001b[0;32mif\u001b[0m \u001b[0mresults\u001b[0m \u001b[0;32mis\u001b[0m \u001b[0;32mnot\u001b[0m \u001b[0mNone\u001b[0m \u001b[0;32mand\u001b[0m \u001b[0;32mnot\u001b[0m \u001b[0misinstance\u001b[0m\u001b[0;34m(\u001b[0m\u001b[0mresults\u001b[0m\u001b[0;34m,\u001b[0m \u001b[0mtuple\u001b[0m\u001b[0;34m)\u001b[0m\u001b[0;34m:\u001b[0m\u001b[0;34m\u001b[0m\u001b[0m\n",
      "\u001b[0;32m/usr/local/lib/python2.7/dist-packages/pacman/executor/algorithm_classes/python_class_algorithm.pyc\u001b[0m in \u001b[0;36mcall_python\u001b[0;34m(self, inputs)\u001b[0m\n\u001b[1;32m     55\u001b[0m         \u001b[0;32mif\u001b[0m \u001b[0mself\u001b[0m\u001b[0;34m.\u001b[0m\u001b[0m_python_method\u001b[0m \u001b[0;32mis\u001b[0m \u001b[0;32mnot\u001b[0m \u001b[0mNone\u001b[0m\u001b[0;34m:\u001b[0m\u001b[0;34m\u001b[0m\u001b[0m\n\u001b[1;32m     56\u001b[0m             \u001b[0mmethod\u001b[0m \u001b[0;34m=\u001b[0m \u001b[0mgetattr\u001b[0m\u001b[0;34m(\u001b[0m\u001b[0minstance\u001b[0m\u001b[0;34m,\u001b[0m \u001b[0mself\u001b[0m\u001b[0;34m.\u001b[0m\u001b[0m_python_method\u001b[0m\u001b[0;34m)\u001b[0m\u001b[0;34m\u001b[0m\u001b[0m\n\u001b[0;32m---> 57\u001b[0;31m         \u001b[0;32mreturn\u001b[0m \u001b[0mmethod\u001b[0m\u001b[0;34m(\u001b[0m\u001b[0;34m**\u001b[0m\u001b[0minputs\u001b[0m\u001b[0;34m)\u001b[0m\u001b[0;34m\u001b[0m\u001b[0m\n\u001b[0m\u001b[1;32m     58\u001b[0m \u001b[0;34m\u001b[0m\u001b[0m\n\u001b[1;32m     59\u001b[0m     \u001b[0;32mdef\u001b[0m \u001b[0m__repr__\u001b[0m\u001b[0;34m(\u001b[0m\u001b[0mself\u001b[0m\u001b[0;34m)\u001b[0m\u001b[0;34m:\u001b[0m\u001b[0;34m\u001b[0m\u001b[0m\n",
      "\u001b[0;32m/usr/local/lib/python2.7/dist-packages/pacman/operations/routing_info_allocator_algorithms/malloc_based_routing_allocator/malloc_based_routing_info_allocator.pyc\u001b[0m in \u001b[0;36m__call__\u001b[0;34m(self, machine_graph, n_keys_map, graph_mapper)\u001b[0m\n\u001b[1;32m    169\u001b[0m         \u001b[0;32mfor\u001b[0m \u001b[0mgroup\u001b[0m \u001b[0;32min\u001b[0m \u001b[0mcontinuous_groups\u001b[0m\u001b[0;34m:\u001b[0m\u001b[0;34m\u001b[0m\u001b[0m\n\u001b[1;32m    170\u001b[0m             keys_and_masks = self._allocate_keys_and_masks(\n\u001b[0;32m--> 171\u001b[0;31m                 None, None, n_keys_map.n_keys_for_partition(group))\n\u001b[0m\u001b[1;32m    172\u001b[0m \u001b[0;34m\u001b[0m\u001b[0m\n\u001b[1;32m    173\u001b[0m             \u001b[0;31m# update the pacman data objects\u001b[0m\u001b[0;34m\u001b[0m\u001b[0;34m\u001b[0m\u001b[0m\n",
      "\u001b[0;32m/usr/local/lib/python2.7/dist-packages/pacman/operations/routing_info_allocator_algorithms/malloc_based_routing_allocator/malloc_based_routing_info_allocator.pyc\u001b[0m in \u001b[0;36m_allocate_keys_and_masks\u001b[0;34m(self, fixed_mask, fields, partition_n_keys)\u001b[0m\n\u001b[1;32m    285\u001b[0m                 \u001b[0mmatched_all\u001b[0m \u001b[0;34m=\u001b[0m \u001b[0mTrue\u001b[0m\u001b[0;34m\u001b[0m\u001b[0m\n\u001b[1;32m    286\u001b[0m                 \u001b[0mindex\u001b[0m \u001b[0;34m=\u001b[0m \u001b[0;36m0\u001b[0m\u001b[0;34m\u001b[0m\u001b[0m\n\u001b[0;32m--> 287\u001b[0;31m                 \u001b[0;32mfor\u001b[0m \u001b[0;34m(\u001b[0m\u001b[0mbase_key\u001b[0m\u001b[0;34m,\u001b[0m \u001b[0mn_keys\u001b[0m\u001b[0;34m)\u001b[0m \u001b[0;32min\u001b[0m \u001b[0mself\u001b[0m\u001b[0;34m.\u001b[0m\u001b[0m_get_key_ranges\u001b[0m\u001b[0;34m(\u001b[0m\u001b[0mkey\u001b[0m\u001b[0;34m,\u001b[0m \u001b[0mmask\u001b[0m\u001b[0;34m)\u001b[0m\u001b[0;34m:\u001b[0m\u001b[0;34m\u001b[0m\u001b[0m\n\u001b[0m\u001b[1;32m    288\u001b[0m                     logger.debug(\"Finding slot for {}, n_keys={}\".format(\n\u001b[1;32m    289\u001b[0m                         hex(base_key), n_keys))\n",
      "\u001b[0;32m/usr/local/lib/python2.7/dist-packages/pacman/operations/routing_info_allocator_algorithms/malloc_based_routing_allocator/malloc_based_routing_info_allocator.pyc\u001b[0m in \u001b[0;36m_get_key_ranges\u001b[0;34m(key, mask)\u001b[0m\n\u001b[1;32m    225\u001b[0m             unwrapped_value = utility_calls.expand_to_bit_array(value)[\n\u001b[1;32m    226\u001b[0m                 -len(remaining_zeros):]\n\u001b[0;32m--> 227\u001b[0;31m             \u001b[0mgenerated_key\u001b[0m\u001b[0;34m[\u001b[0m\u001b[0mremaining_zeros\u001b[0m\u001b[0;34m]\u001b[0m \u001b[0;34m=\u001b[0m \u001b[0munwrapped_value\u001b[0m\u001b[0;34m\u001b[0m\u001b[0m\n\u001b[0m\u001b[1;32m    228\u001b[0m             \u001b[0;32myield\u001b[0m \u001b[0mutility_calls\u001b[0m\u001b[0;34m.\u001b[0m\u001b[0mcompress_from_bit_array\u001b[0m\u001b[0;34m(\u001b[0m\u001b[0mgenerated_key\u001b[0m\u001b[0;34m)\u001b[0m\u001b[0;34m,\u001b[0m \u001b[0mn_keys\u001b[0m\u001b[0;34m\u001b[0m\u001b[0m\n\u001b[1;32m    229\u001b[0m \u001b[0;34m\u001b[0m\u001b[0m\n",
      "\u001b[0;31mValueError\u001b[0m: shape mismatch: value array of shape (32,) could not be broadcast to indexing result of shape (0,)"
     ]
    }
   ],
   "source": [
    "\n",
    "# === Setup recording ===\n",
    "print \"%s Setting up recording...\" % node_id\n",
    "exc_cells.record()\n",
    "\n",
    "buildCPUTime = timer.diff()\n",
    "\n",
    "# === Run simulation ===\n",
    "print \"%d Running simulation...\" % node_id\n",
    "\n",
    "print \"timings: number of neurons:\", n\n",
    "print \"timings: number of synapses:\", n * n * pconn\n",
    "\n",
    "run(tstop)\n",
    "\n",
    "simCPUTime = timer.diff()\n"
   ]
  },
  {
   "cell_type": "code",
   "execution_count": 8,
   "metadata": {},
   "outputs": [
    {
     "name": "stderr",
     "output_type": "stream",
     "text": [
      "2017-08-30 19:32:41 WARNING: The simulation has not yet run, therefore spikes cannot be retrieved, hence the list will be empty\n"
     ]
    },
    {
     "data": {
      "image/png": "[encoded data removed]",
      "text/plain": [
       "<matplotlib.figure.Figure at 0x7f2ff54aa290>"
      ]
     },
     "metadata": {},
     "output_type": "display_data"
    },
    {
     "ename": "SpinnmanIOException",
     "evalue": "IO Error: [Errno 9] Bad file descriptor",
     "output_type": "error",
     "traceback": [
      "\u001b[0;31m--------------------------------------------------------------------------\u001b[0m",
      "\u001b[0;31mSpinnmanIOException\u001b[0m                      Traceback (most recent call last)",
      "\u001b[0;32m<ipython-input-8-f73d8772d8ab>\u001b[0m in \u001b[0;36m<module>\u001b[0;34m()\u001b[0m\n\u001b[1;32m     30\u001b[0m \u001b[0;31m# === Finished with simulator ===\u001b[0m\u001b[0;34m\u001b[0m\u001b[0;34m\u001b[0m\u001b[0m\n\u001b[1;32m     31\u001b[0m \u001b[0;34m\u001b[0m\u001b[0m\n\u001b[0;32m---> 32\u001b[0;31m \u001b[0mend\u001b[0m\u001b[0;34m(\u001b[0m\u001b[0;34m)\u001b[0m\u001b[0;34m\u001b[0m\u001b[0m\n\u001b[0m",
      "\u001b[0;32m/usr/local/lib/python2.7/dist-packages/spynnaker/pyNN/__init__.pyc\u001b[0m in \u001b[0;36mend\u001b[0;34m()\u001b[0m\n\u001b[1;32m    136\u001b[0m     \"\"\"\n\u001b[1;32m    137\u001b[0m     \u001b[0;32mglobal\u001b[0m \u001b[0m_spinnaker\u001b[0m\u001b[0;34m\u001b[0m\u001b[0m\n\u001b[0;32m--> 138\u001b[0;31m     \u001b[0m_spinnaker\u001b[0m\u001b[0;34m.\u001b[0m\u001b[0mstop\u001b[0m\u001b[0;34m(\u001b[0m\u001b[0;34m)\u001b[0m\u001b[0;34m\u001b[0m\u001b[0m\n\u001b[0m\u001b[1;32m    139\u001b[0m     \u001b[0m_spinnaker\u001b[0m \u001b[0;34m=\u001b[0m \u001b[0mNone\u001b[0m\u001b[0;34m\u001b[0m\u001b[0m\n\u001b[1;32m    140\u001b[0m \u001b[0;34m\u001b[0m\u001b[0m\n",
      "\u001b[0;32m/usr/local/lib/python2.7/dist-packages/spynnaker/pyNN/spinnaker.pyc\u001b[0m in \u001b[0;36mstop\u001b[0;34m(self, turn_off_machine, clear_routing_tables, clear_tags, extract_provenance_data, extract_iobuf)\u001b[0m\n\u001b[1;32m    325\u001b[0m         SpinnakerMainInterface.stop(\n\u001b[1;32m    326\u001b[0m             \u001b[0mself\u001b[0m\u001b[0;34m,\u001b[0m \u001b[0mturn_off_machine\u001b[0m\u001b[0;34m,\u001b[0m \u001b[0mclear_routing_tables\u001b[0m\u001b[0;34m,\u001b[0m \u001b[0mclear_tags\u001b[0m\u001b[0;34m,\u001b[0m\u001b[0;34m\u001b[0m\u001b[0m\n\u001b[0;32m--> 327\u001b[0;31m             extract_provenance_data, extract_iobuf)\n\u001b[0m\u001b[1;32m    328\u001b[0m \u001b[0;34m\u001b[0m\u001b[0m\n\u001b[1;32m    329\u001b[0m     \u001b[0;32mdef\u001b[0m \u001b[0mrun\u001b[0m\u001b[0;34m(\u001b[0m\u001b[0mself\u001b[0m\u001b[0;34m,\u001b[0m \u001b[0mrun_time\u001b[0m\u001b[0;34m)\u001b[0m\u001b[0;34m:\u001b[0m\u001b[0;34m\u001b[0m\u001b[0m\n",
      "\u001b[0;32m/usr/local/lib/python2.7/dist-packages/spinn_front_end_common/interface/spinnaker_main_interface.pyc\u001b[0m in \u001b[0;36mstop\u001b[0;34m(self, turn_off_machine, clear_routing_tables, clear_tags, extract_provenance_data, extract_iobuf)\u001b[0m\n\u001b[1;32m   1744\u001b[0m \u001b[0;34m\u001b[0m\u001b[0m\n\u001b[1;32m   1745\u001b[0m         self._shutdown(\n\u001b[0;32m-> 1746\u001b[0;31m             turn_off_machine, clear_routing_tables, clear_tags)\n\u001b[0m\u001b[1;32m   1747\u001b[0m \u001b[0;34m\u001b[0m\u001b[0m\n\u001b[1;32m   1748\u001b[0m     \u001b[0;32mdef\u001b[0m \u001b[0m_add_socket_address\u001b[0m\u001b[0;34m(\u001b[0m\u001b[0mself\u001b[0m\u001b[0;34m,\u001b[0m \u001b[0msocket_address\u001b[0m\u001b[0;34m)\u001b[0m\u001b[0;34m:\u001b[0m\u001b[0;34m\u001b[0m\u001b[0m\n",
      "\u001b[0;32m/usr/local/lib/python2.7/dist-packages/spinn_front_end_common/interface/spinnaker_main_interface.pyc\u001b[0m in \u001b[0;36m_shutdown\u001b[0;34m(self, turn_off_machine, clear_routing_tables, clear_tags)\u001b[0m\n\u001b[1;32m   1676\u001b[0m             \u001b[0;32mif\u001b[0m \u001b[0mself\u001b[0m\u001b[0;34m.\u001b[0m\u001b[0m_txrx\u001b[0m \u001b[0;32mis\u001b[0m \u001b[0;32mnot\u001b[0m \u001b[0mNone\u001b[0m\u001b[0;34m:\u001b[0m\u001b[0;34m\u001b[0m\u001b[0m\n\u001b[1;32m   1677\u001b[0m \u001b[0;34m\u001b[0m\u001b[0m\n\u001b[0;32m-> 1678\u001b[0;31m                 \u001b[0mself\u001b[0m\u001b[0;34m.\u001b[0m\u001b[0m_txrx\u001b[0m\u001b[0;34m.\u001b[0m\u001b[0menable_reinjection\u001b[0m\u001b[0;34m(\u001b[0m\u001b[0mmulticast\u001b[0m\u001b[0;34m=\u001b[0m\u001b[0mFalse\u001b[0m\u001b[0;34m)\u001b[0m\u001b[0;34m\u001b[0m\u001b[0m\n\u001b[0m\u001b[1;32m   1679\u001b[0m \u001b[0;34m\u001b[0m\u001b[0m\n\u001b[1;32m   1680\u001b[0m                 \u001b[0;31m# if stopping on machine, clear iptags and\u001b[0m\u001b[0;34m\u001b[0m\u001b[0;34m\u001b[0m\u001b[0m\n",
      "\u001b[0;32m/usr/local/lib/python2.7/dist-packages/spinnman/transceiver.pyc\u001b[0m in \u001b[0;36menable_reinjection\u001b[0;34m(self, multicast, point_to_point, nearest_neighbour, fixed_route)\u001b[0m\n\u001b[1;32m   2626\u001b[0m             \u001b[0mreinjector\u001b[0m \u001b[0;34m=\u001b[0m \u001b[0mFileDataReader\u001b[0m\u001b[0;34m(\u001b[0m\u001b[0mreinjector_binary\u001b[0m\u001b[0;34m)\u001b[0m\u001b[0;34m\u001b[0m\u001b[0m\n\u001b[1;32m   2627\u001b[0m             self.execute_flood(self._reinjector_cores, reinjector,\n\u001b[0;32m-> 2628\u001b[0;31m                                _REINJECTOR_APP_ID, reinjector_size)\n\u001b[0m\u001b[1;32m   2629\u001b[0m             \u001b[0mreinjector\u001b[0m\u001b[0;34m.\u001b[0m\u001b[0mclose\u001b[0m\u001b[0;34m(\u001b[0m\u001b[0;34m)\u001b[0m\u001b[0;34m\u001b[0m\u001b[0m\n\u001b[1;32m   2630\u001b[0m             \u001b[0mself\u001b[0m\u001b[0;34m.\u001b[0m\u001b[0m_reinjection_running\u001b[0m \u001b[0;34m=\u001b[0m \u001b[0mTrue\u001b[0m\u001b[0;34m\u001b[0m\u001b[0m\n",
      "\u001b[0;32m/usr/local/lib/python2.7/dist-packages/spinnman/transceiver.pyc\u001b[0m in \u001b[0;36mexecute_flood\u001b[0;34m(self, core_subsets, executable, app_id, n_bytes)\u001b[0m\n\u001b[1;32m   1400\u001b[0m \u001b[0;34m\u001b[0m\u001b[0m\n\u001b[1;32m   1401\u001b[0m         \u001b[0;31m# Flood fill the system with the binary\u001b[0m\u001b[0;34m\u001b[0m\u001b[0;34m\u001b[0m\u001b[0m\n\u001b[0;32m-> 1402\u001b[0;31m         \u001b[0mself\u001b[0m\u001b[0;34m.\u001b[0m\u001b[0mwrite_memory_flood\u001b[0m\u001b[0;34m(\u001b[0m\u001b[0;36m0x67800000\u001b[0m\u001b[0;34m,\u001b[0m \u001b[0mexecutable\u001b[0m\u001b[0;34m,\u001b[0m \u001b[0mn_bytes\u001b[0m\u001b[0;34m)\u001b[0m\u001b[0;34m\u001b[0m\u001b[0m\n\u001b[0m\u001b[1;32m   1403\u001b[0m \u001b[0;34m\u001b[0m\u001b[0m\n\u001b[1;32m   1404\u001b[0m         \u001b[0;31m# Execute the binary on the cores on the chips where required\u001b[0m\u001b[0;34m\u001b[0m\u001b[0;34m\u001b[0m\u001b[0m\n",
      "\u001b[0;32m/usr/local/lib/python2.7/dist-packages/spinnman/transceiver.pyc\u001b[0m in \u001b[0;36mwrite_memory_flood\u001b[0;34m(self, base_address, data, n_bytes, offset)\u001b[0m\n\u001b[1;32m   1785\u001b[0m         \u001b[0;32mif\u001b[0m \u001b[0misinstance\u001b[0m\u001b[0;34m(\u001b[0m\u001b[0mdata\u001b[0m\u001b[0;34m,\u001b[0m \u001b[0mAbstractDataReader\u001b[0m\u001b[0;34m)\u001b[0m\u001b[0;34m:\u001b[0m\u001b[0;34m\u001b[0m\u001b[0m\n\u001b[1;32m   1786\u001b[0m             process.write_memory_from_reader(\n\u001b[0;32m-> 1787\u001b[0;31m                 nearest_neighbour_id, base_address, data, n_bytes)\n\u001b[0m\u001b[1;32m   1788\u001b[0m         \u001b[0;32melif\u001b[0m \u001b[0misinstance\u001b[0m\u001b[0;34m(\u001b[0m\u001b[0mdata\u001b[0m\u001b[0;34m,\u001b[0m \u001b[0mint\u001b[0m\u001b[0;34m)\u001b[0m\u001b[0;34m:\u001b[0m\u001b[0;34m\u001b[0m\u001b[0m\n\u001b[1;32m   1789\u001b[0m             \u001b[0mdata_to_write\u001b[0m \u001b[0;34m=\u001b[0m \u001b[0mstruct\u001b[0m\u001b[0;34m.\u001b[0m\u001b[0mpack\u001b[0m\u001b[0;34m(\u001b[0m\u001b[0;34m\"<I\"\u001b[0m\u001b[0;34m,\u001b[0m \u001b[0mdata\u001b[0m\u001b[0;34m)\u001b[0m\u001b[0;34m\u001b[0m\u001b[0m\n",
      "\u001b[0;32m/usr/local/lib/python2.7/dist-packages/spinnman/processes/write_memory_flood_process.pyc\u001b[0m in \u001b[0;36mwrite_memory_from_reader\u001b[0;34m(self, nearest_neighbour_id, base_address, data, n_bytes)\u001b[0m\n\u001b[1;32m     60\u001b[0m     def write_memory_from_reader(self, nearest_neighbour_id, base_address,\n\u001b[1;32m     61\u001b[0m                                  data, n_bytes):\n\u001b[0;32m---> 62\u001b[0;31m         \u001b[0mself\u001b[0m\u001b[0;34m.\u001b[0m\u001b[0m_start_flood_fill\u001b[0m\u001b[0;34m(\u001b[0m\u001b[0mn_bytes\u001b[0m\u001b[0;34m,\u001b[0m \u001b[0mnearest_neighbour_id\u001b[0m\u001b[0;34m)\u001b[0m\u001b[0;34m\u001b[0m\u001b[0m\n\u001b[0m\u001b[1;32m     63\u001b[0m \u001b[0;34m\u001b[0m\u001b[0m\n\u001b[1;32m     64\u001b[0m         \u001b[0moffset\u001b[0m \u001b[0;34m=\u001b[0m \u001b[0mbase_address\u001b[0m\u001b[0;34m\u001b[0m\u001b[0m\n",
      "\u001b[0;32m/usr/local/lib/python2.7/dist-packages/spinnman/processes/write_memory_flood_process.pyc\u001b[0m in \u001b[0;36m_start_flood_fill\u001b[0;34m(self, n_bytes, nearest_neighbour_id)\u001b[0m\n\u001b[1;32m     23\u001b[0m                                  constants.UDP_MESSAGE_MAX_SIZE))\n\u001b[1;32m     24\u001b[0m         self._send_request(\n\u001b[0;32m---> 25\u001b[0;31m             SCPFloodFillStartRequest(nearest_neighbour_id, n_blocks))\n\u001b[0m\u001b[1;32m     26\u001b[0m         \u001b[0mself\u001b[0m\u001b[0;34m.\u001b[0m\u001b[0m_finish\u001b[0m\u001b[0;34m(\u001b[0m\u001b[0;34m)\u001b[0m\u001b[0;34m\u001b[0m\u001b[0m\n\u001b[1;32m     27\u001b[0m         \u001b[0mself\u001b[0m\u001b[0;34m.\u001b[0m\u001b[0mcheck_for_error\u001b[0m\u001b[0;34m(\u001b[0m\u001b[0;34m)\u001b[0m\u001b[0;34m\u001b[0m\u001b[0m\n",
      "\u001b[0;32m/usr/local/lib/python2.7/dist-packages/spinnman/processes/abstract_multi_connection_process.pyc\u001b[0m in \u001b[0;36m_send_request\u001b[0;34m(self, request, callback, error_callback)\u001b[0m\n\u001b[1;32m     30\u001b[0m             \u001b[0mself\u001b[0m\u001b[0;34m.\u001b[0m\u001b[0m_scp_request_pipe_lines\u001b[0m\u001b[0;34m[\u001b[0m\u001b[0mconnection\u001b[0m\u001b[0;34m]\u001b[0m \u001b[0;34m=\u001b[0m \u001b[0mscp_request_set\u001b[0m\u001b[0;34m\u001b[0m\u001b[0m\n\u001b[1;32m     31\u001b[0m         self._scp_request_pipe_lines[connection].send_request(\n\u001b[0;32m---> 32\u001b[0;31m             request, callback, error_callback)\n\u001b[0m\u001b[1;32m     33\u001b[0m \u001b[0;34m\u001b[0m\u001b[0m\n\u001b[1;32m     34\u001b[0m     \u001b[0;32mdef\u001b[0m \u001b[0m_finish\u001b[0m\u001b[0;34m(\u001b[0m\u001b[0mself\u001b[0m\u001b[0;34m)\u001b[0m\u001b[0;34m:\u001b[0m\u001b[0;34m\u001b[0m\u001b[0m\n",
      "\u001b[0;32m/usr/local/lib/python2.7/dist-packages/spinnman/connections/scp_request_pipeline.pyc\u001b[0m in \u001b[0;36msend_request\u001b[0;34m(self, request, callback, error_callback)\u001b[0m\n\u001b[1;32m    128\u001b[0m         \u001b[0;31m# Send the request, keeping track of how many are sent\u001b[0m\u001b[0;34m\u001b[0m\u001b[0;34m\u001b[0m\u001b[0m\n\u001b[1;32m    129\u001b[0m         \u001b[0;31m# self._token_bucket.consume(284)\u001b[0m\u001b[0;34m\u001b[0m\u001b[0;34m\u001b[0m\u001b[0m\n\u001b[0;32m--> 130\u001b[0;31m         \u001b[0mself\u001b[0m\u001b[0;34m.\u001b[0m\u001b[0m_connection\u001b[0m\u001b[0;34m.\u001b[0m\u001b[0msend\u001b[0m\u001b[0;34m(\u001b[0m\u001b[0mrequest_data\u001b[0m\u001b[0;34m)\u001b[0m\u001b[0;34m\u001b[0m\u001b[0m\n\u001b[0m\u001b[1;32m    131\u001b[0m         \u001b[0mself\u001b[0m\u001b[0;34m.\u001b[0m\u001b[0m_in_progress\u001b[0m \u001b[0;34m+=\u001b[0m \u001b[0;36m1\u001b[0m\u001b[0;34m\u001b[0m\u001b[0m\n\u001b[1;32m    132\u001b[0m \u001b[0;34m\u001b[0m\u001b[0m\n",
      "\u001b[0;32m/usr/local/lib/python2.7/dist-packages/spinnman/connections/udp_packet_connections/udp_connection.pyc\u001b[0m in \u001b[0;36msend\u001b[0;34m(self, data)\u001b[0m\n\u001b[1;32m    236\u001b[0m             \u001b[0mself\u001b[0m\u001b[0;34m.\u001b[0m\u001b[0m_socket\u001b[0m\u001b[0;34m.\u001b[0m\u001b[0msend\u001b[0m\u001b[0;34m(\u001b[0m\u001b[0mdata\u001b[0m\u001b[0;34m)\u001b[0m\u001b[0;34m\u001b[0m\u001b[0m\n\u001b[1;32m    237\u001b[0m         \u001b[0;32mexcept\u001b[0m \u001b[0mException\u001b[0m \u001b[0;32mas\u001b[0m \u001b[0me\u001b[0m\u001b[0;34m:\u001b[0m\u001b[0;34m\u001b[0m\u001b[0m\n\u001b[0;32m--> 238\u001b[0;31m             \u001b[0;32mraise\u001b[0m \u001b[0mSpinnmanIOException\u001b[0m\u001b[0;34m(\u001b[0m\u001b[0mstr\u001b[0m\u001b[0;34m(\u001b[0m\u001b[0me\u001b[0m\u001b[0;34m)\u001b[0m\u001b[0;34m)\u001b[0m\u001b[0;34m\u001b[0m\u001b[0m\n\u001b[0m\u001b[1;32m    239\u001b[0m \u001b[0;34m\u001b[0m\u001b[0m\n\u001b[1;32m    240\u001b[0m     \u001b[0;32mdef\u001b[0m \u001b[0msend_to\u001b[0m\u001b[0;34m(\u001b[0m\u001b[0mself\u001b[0m\u001b[0;34m,\u001b[0m \u001b[0mdata\u001b[0m\u001b[0;34m,\u001b[0m \u001b[0maddress\u001b[0m\u001b[0;34m)\u001b[0m\u001b[0;34m:\u001b[0m\u001b[0;34m\u001b[0m\u001b[0m\n",
      "\u001b[0;31mSpinnmanIOException\u001b[0m: IO Error: [Errno 9] Bad file descriptor"
     ]
    }
   ],
   "source": [
    "\n",
    "# === Print results to file ===\n",
    "\n",
    "import pylab\n",
    "\n",
    "exc_spikes = exc_cells.getSpikes(compatible_output=True)\n",
    "pylab.figure()\n",
    "pylab.plot([i[1] for i in exc_spikes],\n",
    "           [i[0] for i in exc_spikes], \".\", markersize=2)\n",
    "pylab.xlabel('Time/ms')\n",
    "pylab.ylabel('spikes')\n",
    "pylab.title('spikes')\n",
    "pylab.show()\n",
    "\n",
    "writeCPUTime = timer.diff()\n",
    "\n",
    "if node_id == 0:\n",
    "    print \"\\n--- Vogels-Abbott Network Simulation ---\"\n",
    "    print \"Nodes                  : %d\" % np\n",
    "    print \"Simulation type        : %s\" % benchmark\n",
    "    print \"Number of Neurons      : %d\" % n\n",
    "    print \"Number of Synapses     : %s\" % connections\n",
    "    print \"Excitatory conductance : %g nS\" % Gexc\n",
    "    print \"Inhibitory conductance : %g nS\" % Ginh\n",
    "    print \"Build time             : %g s\" % buildCPUTime\n",
    "    print \"Simulation time        : %g s\" % simCPUTime\n",
    "    print \"Writing time           : %g s\" % writeCPUTime\n",
    "\n",
    "\n",
    "# === Finished with simulator ===\n",
    "\n",
    "end()"
   ]
  },
  {
   "cell_type": "code",
   "execution_count": null,
   "metadata": {},
   "outputs": [],
   "source": []
  }
 ],
 "metadata": {
  "kernelspec": {
   "display_name": "Python 2",
   "language": "python",
   "name": "python2"
  },
  "language_info": {
   "codemirror_mode": {
    "name": "ipython",
    "version": 2
   },
   "file_extension": ".py",
   "mimetype": "text/x-python",
   "name": "python",
   "nbconvert_exporter": "python",
   "pygments_lexer": "ipython2",
   "version": "2.7.12"
  }
 },
 "nbformat": 4,
 "nbformat_minor": 1
}
