{
 "cells": [
  {
   "cell_type": "code",
   "execution_count": 1,
   "metadata": {
    "collapsed": true
   },
   "outputs": [],
   "source": [
    "# Jupyter version of ros_spinnaker_lsm.py for experimentation"
   ]
  },
  {
   "cell_type": "code",
   "execution_count": 2,
   "metadata": {},
   "outputs": [
    {
     "name": "stderr",
     "output_type": "stream",
     "text": [
      "2017-09-10 05:58:42 INFO: Read config files: /home/roboy/.spynnaker.cfg, /usr/local/lib/python2.7/dist-packages/spynnaker/spynnaker.cfg\n",
      "2017-09-10 05:58:42 INFO: topicmanager initialized\n"
     ]
    }
   ],
   "source": [
    "import spynnaker.pyNN as pynn\n",
    "\n",
    "from pyNN.random import NumpyRNG, RandomDistribution\n",
    "from pyNN.utility import Timer\n",
    "\n",
    "from ros_spinnaker_interface import ROS_Spinnaker_Interface\n",
    "# import transfer_functions as tf\n",
    "from ros_spinnaker_interface import SpikeSourcePoisson\n",
    "from ros_spinnaker_interface import SpikeSinkSmoothing, SpikeSinkMultipleReadoutsConvolution\n",
    "\n",
    "import numpy as np"
   ]
  },
  {
   "cell_type": "code",
   "execution_count": 3,
   "metadata": {},
   "outputs": [
    {
     "name": "stderr",
     "output_type": "stream",
     "text": [
      "2017-09-10 05:58:44 INFO: sPyNNaker (c) 2016 APT Group, University of Manchester\n",
      "2017-09-10 05:58:44 INFO: Release version 3.0.0() - September 2016. Installed in folder /usr/local/lib/python2.7/dist-packages\n",
      "2017-09-10 05:58:44 INFO: Will search these locations for binaries: /usr/local/lib/python2.7/dist-packages/spinn_front_end_common/common_model_binaries : /usr/local/lib/python2.7/dist-packages/spynnaker_external_devices_plugin/pyNN/model_binaries : /usr/local/lib/python2.7/dist-packages/spynnaker/pyNN/model_binaries\n",
      "2017-09-10 05:58:44 INFO: Setting appID to 30.\n",
      "2017-09-10 05:58:44 WARNING: A timestep was entered that has forced sPyNNaker to automatically slow the simulation down from real time by a factor of 10.0. To remove this automatic behaviour, please enter a timescaleFactor value in your .spynnaker.cfg\n",
      "2017-09-10 05:58:44 INFO: Setting time scale factor to 10.0.\n",
      "2017-09-10 05:58:44 INFO: Setting machine time step to 100.0 micro-seconds.\n"
     ]
    }
   ],
   "source": [
    "timer = Timer()\n",
    "\n",
    "\n",
    "ts = 0.1                # simulation timestep in ms\n",
    "simulation_time = 2000  # ms\n",
    "\n",
    "pynn.setup(timestep=ts, min_delay=ts, max_delay=2.0*ts)\n",
    "\n",
    "pynn.set_number_of_neurons_per_core('IF_curr_exp', 100)      # this will set 100 neurons per core\n"
   ]
  },
  {
   "cell_type": "markdown",
   "metadata": {},
   "source": [
    "# Define Neural Populations"
   ]
  },
  {
   "cell_type": "code",
   "execution_count": 15,
   "metadata": {},
   "outputs": [
    {
     "name": "stdout",
     "output_type": "stream",
     "text": [
      "Number excitatory cells: 48\n",
      "Number inhibitory cells: 11\n"
     ]
    }
   ],
   "source": [
    "############# Reservoir #################\n",
    "# set up the reservoir population\n",
    "\n",
    "n_input_neurons   = 4\n",
    "n_readout_neurons = 2\n",
    "n_reservoir_neurons = 59\n",
    "exc_rate = 0.8 # 80% of reservoir neurons are excitatory\n",
    "\n",
    "n_reservoir_exc = int(np.ceil(n_reservoir_neurons*exc_rate))\n",
    "n_reservoir_inh = n_reservoir_neurons - n_reservoir_exc\n",
    "print('Number excitatory cells: %r' % n_reservoir_exc)\n",
    "print('Number inhibitory cells: %r' % n_reservoir_inh)\n",
    "\n",
    "celltype=pynn.IF_curr_exp\n",
    "cell_params ={'a': 0.02, 'c': -65.0, 'd': 2.0, 'b': 0.2, 'i_offset': 0.0}\n",
    "\n",
    "exc_cells = pynn.Population(n_reservoir_exc, celltype, cellparams={},label=\"Excitatory_Cells\")\n",
    "inh_cells = pynn.Population(n_reservoir_inh, celltype, cellparams={},label=\"Inhibitory_Cells\")\n",
    "\n",
    "\n",
    "# initialize with a uniform random distributin\n",
    "# use seeding for reproducability\n",
    "rngseed = 98766987\n",
    "parallel_safe = True\n",
    "rng = NumpyRNG(seed=rngseed, parallel_safe=parallel_safe)\n",
    "\n",
    "unifDistr = RandomDistribution('uniform', (-75,-65), rng=rng)\n",
    "exc_cells.initialize('v',unifDistr)\n",
    "inh_cells.initialize('v',unifDistr)"
   ]
  },
  {
   "cell_type": "markdown",
   "metadata": {},
   "source": [
    "# Connect the input neurons (spike source) with the reservoir"
   ]
  },
  {
   "cell_type": "code",
   "execution_count": 16,
   "metadata": {},
   "outputs": [
    {
     "name": "stderr",
     "output_type": "stream",
     "text": [
      "2017-09-10 06:03:55 INFO: Waiting for message to indicate that the database is ready\n"
     ]
    }
   ],
   "source": [
    "inp_weight=3.\n",
    "inp_delay =1\n",
    "\n",
    "inp_weight_distr = RandomDistribution('normal', [inp_weight, 1e-3], rng=rng)\n",
    "\n",
    "# connect each input neuron to 30% of the reservoir neurons\n",
    "inp_conn = pynn.FixedProbabilityConnector(p_connect=0.3,weights =inp_weight_distr, delays=inp_delay)\n",
    "\n",
    "\n",
    "input_interface = ROS_Spinnaker_Interface(\n",
    "        n_neurons_source=n_input_neurons,           \n",
    "        Spike_Source_Class=SpikeSourcePoisson,      \n",
    "                                                    \n",
    "        ros_topic_send='to_spinnaker',              \n",
    "       \n",
    "        clk_rate=1000,                              \n",
    "        ros_output_rate=10) \n",
    "\n",
    "connections={}\n",
    "connections['inp2e'] = pynn.Projection(input_interface, exc_cells, inp_conn)\n",
    "connections['inp2i'] = pynn.Projection(input_interface, inh_cells, inp_conn)\n"
   ]
  },
  {
   "cell_type": "markdown",
   "metadata": {},
   "source": [
    "# Connections amongst excitatory and inhibitory populations in reservoir"
   ]
  },
  {
   "cell_type": "code",
   "execution_count": 17,
   "metadata": {},
   "outputs": [],
   "source": [
    "w_exc = 20.   # later add unit\n",
    "w_inh = -51.   # later add unit\n",
    "delay_exc = 1      # defines how long (ms) the synapse takes for transmission\n",
    "delay_inh = 1\n",
    "\n",
    "pconn = 0.01 # sparse connection probability\n",
    "\n",
    "weight_distr_exc = RandomDistribution('normal', [w_exc, 1e-3], rng=rng)\n",
    "weight_distr_inh = RandomDistribution('normal', [w_inh, 1e-3], rng=rng)\n",
    "\n",
    "exc_conn = pynn.FixedProbabilityConnector(pconn, weights =weight_distr_exc, delays=delay_exc)\n",
    "inh_conn = pynn.FixedProbabilityConnector(pconn, weights =weight_distr_inh, delays=delay_inh)\n",
    "\n",
    "connections['e2e'] = pynn.Projection(exc_cells, exc_cells, exc_conn)\n",
    "connections['e2i'] = pynn.Projection(exc_cells, inh_cells, exc_conn)\n",
    "connections['i2e'] = pynn.Projection(inh_cells, exc_cells, inh_conn)\n",
    "connections['i2i'] = pynn.Projection(inh_cells, inh_cells, inh_conn)"
   ]
  },
  {
   "cell_type": "markdown",
   "metadata": {},
   "source": [
    "# Readout Connections"
   ]
  },
  {
   "cell_type": "code",
   "execution_count": 18,
   "metadata": {},
   "outputs": [
    {
     "name": "stderr",
     "output_type": "stream",
     "text": [
      "2017-09-10 06:03:56 INFO: Waiting for message to indicate that the database is ready\n"
     ]
    }
   ],
   "source": [
    "rout_weight=3.\n",
    "rout_delay=1\n",
    "\n",
    "readout_neurons = pynn.Population(size=n_readout_neurons, cellclass=pynn.IF_curr_exp, cellparams={}, label='readout_neurons')\n",
    "\n",
    "output_interface = ROS_Spinnaker_Interface(\n",
    "        Spike_Sink_Class=SpikeSinkMultipleReadoutsConvolution,    \n",
    "                                                    \n",
    "        ros_topic_recv='from_spinnaker',            \n",
    "                                    \n",
    "        output_population=readout_neurons,\n",
    "        clk_rate=1000,                              \n",
    "        ros_output_rate=10)                         \n",
    "                                                 \n",
    "\n",
    "\n",
    "\n",
    "# here in the 'weights' you can put the list of learned weights \n",
    "rout_conn = pynn.AllToAllConnector(weights = rout_weight , delays=rout_delay)\n",
    "\n",
    "connections['e2rout'] = pynn.Projection(exc_cells, readout_neurons, rout_conn)\n",
    "connections['i2rout'] = pynn.Projection(exc_cells, readout_neurons, rout_conn)\n",
    "\n"
   ]
  },
  {
   "cell_type": "markdown",
   "metadata": {},
   "source": [
    "# Record spikes and voltages from readout_neurons"
   ]
  },
  {
   "cell_type": "code",
   "execution_count": 19,
   "metadata": {
    "collapsed": true
   },
   "outputs": [],
   "source": [
    "readout_neurons.record()\n",
    "readout_neurons.record_v()"
   ]
  },
  {
   "cell_type": "markdown",
   "metadata": {},
   "source": [
    "# Run the network and measure the time it takes"
   ]
  },
  {
   "cell_type": "code",
   "execution_count": 20,
   "metadata": {},
   "outputs": [
    {
     "name": "stderr",
     "output_type": "stream",
     "text": [
      "2017-09-10 06:03:59 INFO: Starting execution process\n",
      "2017-09-10 06:03:59 INFO: Time 0:00:00.000491 taken by FrontEndCommonApplicationGraphNetworkSpecificationReport\n",
      "Partitioning graph vertices\n",
      "|0                           50%                         100%|\n",
      " ============================================================\n",
      "Partitioning graph edges\n",
      "|0                           50%                         100%|\n",
      " ============================================================\n",
      "2017-09-10 06:03:59 INFO: Time 0:00:00.064186 taken by PartitionAndPlacePartitioner\n",
      "Generating partitioner report\n",
      "|0                           50%                         100%|\n",
      " ============================================================\n",
      "2017-09-10 06:03:59 INFO: Time 0:00:00.015649 taken by PartitionerReport\n",
      "Filtering edges\n",
      "|0                           50%                         100%|\n",
      " ============================================================\n",
      "2017-09-10 06:03:59 INFO: Time 0:00:00.028913 taken by GraphEdgeFilter\n",
      "Placing graph vertices\n",
      "|0                           50%                         100%|\n",
      " ========================================================================\n",
      "2017-09-10 06:03:59 INFO: Time 0:00:00.016413 taken by OneToOnePlacer\n",
      "Generating placement report\n",
      "|0                           50%                         100%|\n",
      " ============================================================\n",
      "Generating placement by core report\n",
      "|0                           50%                         100%|\n",
      " ============================================================\n",
      "Generating SDRAM usage report\n",
      "|0                           50%                         100%|\n",
      " ============================================================\n",
      "2017-09-10 06:03:59 INFO: Time 0:00:00.036493 taken by PlacerReportWithApplicationGraph\n",
      "Routing\n",
      "|0                           50%                         100%|\n",
      " ============================================================\n",
      "2017-09-10 06:03:59 INFO: Time 0:00:00.010915 taken by RigRoute\n",
      "Allocating tags\n",
      "|0                           50%                         100%|\n",
      " ============================================================\n",
      "2017-09-10 06:03:59 INFO: Time 0:00:00.011037 taken by BasicTagAllocator\n",
      "Reporting Tags\n",
      "|0                           50%                         100%|\n",
      " ============================================================\n",
      "2017-09-10 06:03:59 INFO: Time 0:00:00.007983 taken by TagReport\n",
      "Getting the number of keys required by each edge using theapplication graph\n",
      "|0                           50%                         100%|\n",
      " ============================================================\n",
      "2017-09-10 06:03:59 INFO: Time 0:00:00.013075 taken by FrontEndCommonEdgeToNKeysMapper\n",
      "Allocating routing keys\n",
      "|0                           50%                         100%|\n",
      " ============================================================\n",
      "2017-09-10 06:03:59 INFO: Time 0:00:00.009196 taken by MallocBasedRoutingInfoAllocator\n",
      "Generating Routing info report\n",
      "|0                           50%                         100%|\n",
      " ============================================================\n",
      "2017-09-10 06:03:59 INFO: Time 0:00:00.008749 taken by routingInfoReports\n",
      "Generating routing tables\n",
      "|0                           50%                         100%|\n",
      " ============================================================\n",
      "2017-09-10 06:03:59 INFO: Time 0:00:00.006909 taken by BasicRoutingTableGenerator\n",
      "Generating Router table report\n",
      "|0                           50%                         100%|\n",
      " ============================================================\n",
      "2017-09-10 06:03:59 INFO: Time 0:00:00.006301 taken by unCompressedRoutingTableReports\n",
      "Compressing routing Tables\n",
      "|0                           50%                         100%|\n",
      " ============================================================\n",
      "2017-09-10 06:03:59 INFO: Time 0:00:00.007552 taken by MundyRouterCompressor\n",
      "Generating compressed router table report\n",
      "|0                           50%                         100%|\n",
      " ============================================================\n",
      "2017-09-10 06:03:59 INFO: Time 0:00:00.006112 taken by compressedRoutingTableReports\n",
      "Generating comparison of router table report\n",
      "|0                           50%                         100%|\n",
      " ============================================================\n",
      "2017-09-10 06:03:59 INFO: Time 0:00:00.006044 taken by comparisonOfRoutingTablesReport\n",
      "Generating sPyNNaker data specifications\n",
      "|0                           50%                         100%|\n",
      " ============================================================\n",
      "2017-09-10 06:03:59 INFO: Time 0:00:00.177281 taken by SpynnakerDataSpecificationWriter\n",
      "Loading routing data onto the machine\n",
      "|0                           50%                         100%|\n",
      " "
     ]
    },
    {
     "ename": "SpinnmanIOException",
     "evalue": "IO Error: [Errno 9] Bad file descriptor",
     "output_type": "error",
     "traceback": [
      "\u001b[0;31m---------------------------------------------------------------\u001b[0m",
      "\u001b[0;31mSpinnmanIOException\u001b[0m           Traceback (most recent call last)",
      "\u001b[0;32m<ipython-input-20-9517d8cc0224>\u001b[0m in \u001b[0;36m<module>\u001b[0;34m()\u001b[0m\n\u001b[1;32m      1\u001b[0m \u001b[0mtimer\u001b[0m\u001b[0;34m.\u001b[0m\u001b[0mstart\u001b[0m\u001b[0;34m(\u001b[0m\u001b[0;34m)\u001b[0m\u001b[0;34m\u001b[0m\u001b[0m\n\u001b[1;32m      2\u001b[0m \u001b[0;34m\u001b[0m\u001b[0m\n\u001b[0;32m----> 3\u001b[0;31m \u001b[0mpynn\u001b[0m\u001b[0;34m.\u001b[0m\u001b[0mrun\u001b[0m\u001b[0;34m(\u001b[0m\u001b[0msimulation_time\u001b[0m\u001b[0;34m)\u001b[0m\u001b[0;34m\u001b[0m\u001b[0m\n\u001b[0m\u001b[1;32m      4\u001b[0m \u001b[0;34m\u001b[0m\u001b[0m\n\u001b[1;32m      5\u001b[0m \u001b[0msimCPUTime\u001b[0m \u001b[0;34m=\u001b[0m \u001b[0mtimer\u001b[0m\u001b[0;34m.\u001b[0m\u001b[0mdiff\u001b[0m\u001b[0;34m(\u001b[0m\u001b[0;34m)\u001b[0m\u001b[0;34m\u001b[0m\u001b[0m\n",
      "\u001b[0;32m/usr/local/lib/python2.7/dist-packages/spynnaker/pyNN/__init__.pyc\u001b[0m in \u001b[0;36mrun\u001b[0;34m(run_time)\u001b[0m\n\u001b[1;32m    177\u001b[0m     \"\"\"\n\u001b[1;32m    178\u001b[0m     \u001b[0;32mglobal\u001b[0m \u001b[0m_spinnaker\u001b[0m\u001b[0;34m\u001b[0m\u001b[0m\n\u001b[0;32m--> 179\u001b[0;31m     \u001b[0m_spinnaker\u001b[0m\u001b[0;34m.\u001b[0m\u001b[0mrun\u001b[0m\u001b[0;34m(\u001b[0m\u001b[0mrun_time\u001b[0m\u001b[0;34m)\u001b[0m\u001b[0;34m\u001b[0m\u001b[0m\n\u001b[0m\u001b[1;32m    180\u001b[0m     \u001b[0;32mreturn\u001b[0m \u001b[0mNone\u001b[0m\u001b[0;34m\u001b[0m\u001b[0m\n\u001b[1;32m    181\u001b[0m \u001b[0;34m\u001b[0m\u001b[0m\n",
      "\u001b[0;32m/usr/local/lib/python2.7/dist-packages/spynnaker/pyNN/spinnaker.pyc\u001b[0m in \u001b[0;36mrun\u001b[0;34m(self, run_time)\u001b[0m\n\u001b[1;32m    335\u001b[0m         \u001b[0;31m# extra post run algorithms\u001b[0m\u001b[0;34m\u001b[0m\u001b[0;34m\u001b[0m\u001b[0m\n\u001b[1;32m    336\u001b[0m         \u001b[0mself\u001b[0m\u001b[0;34m.\u001b[0m\u001b[0m_dsg_algorithm\u001b[0m \u001b[0;34m=\u001b[0m \u001b[0;34m\"SpynnakerDataSpecificationWriter\"\u001b[0m\u001b[0;34m\u001b[0m\u001b[0m\n\u001b[0;32m--> 337\u001b[0;31m         \u001b[0mSpinnakerMainInterface\u001b[0m\u001b[0;34m.\u001b[0m\u001b[0mrun\u001b[0m\u001b[0;34m(\u001b[0m\u001b[0mself\u001b[0m\u001b[0;34m,\u001b[0m \u001b[0mrun_time\u001b[0m\u001b[0;34m)\u001b[0m\u001b[0;34m\u001b[0m\u001b[0m\n\u001b[0m",
      "\u001b[0;32m/usr/local/lib/python2.7/dist-packages/spinn_front_end_common/interface/spinnaker_main_interface.pyc\u001b[0m in \u001b[0;36mrun\u001b[0;34m(self, run_time)\u001b[0m\n\u001b[1;32m    541\u001b[0m             \u001b[0;31m# If we are using a virtual board, don't load\u001b[0m\u001b[0;34m\u001b[0m\u001b[0;34m\u001b[0m\u001b[0m\n\u001b[1;32m    542\u001b[0m             \u001b[0;32mif\u001b[0m \u001b[0;32mnot\u001b[0m \u001b[0mself\u001b[0m\u001b[0;34m.\u001b[0m\u001b[0m_use_virtual_board\u001b[0m\u001b[0;34m:\u001b[0m\u001b[0;34m\u001b[0m\u001b[0m\n\u001b[0;32m--> 543\u001b[0;31m                 \u001b[0mself\u001b[0m\u001b[0;34m.\u001b[0m\u001b[0m_do_load\u001b[0m\u001b[0;34m(\u001b[0m\u001b[0;34m)\u001b[0m\u001b[0;34m\u001b[0m\u001b[0m\n\u001b[0m\u001b[1;32m    544\u001b[0m \u001b[0;34m\u001b[0m\u001b[0m\n\u001b[1;32m    545\u001b[0m         \u001b[0;31m# Run for each of the given steps\u001b[0m\u001b[0;34m\u001b[0m\u001b[0;34m\u001b[0m\u001b[0m\n",
      "\u001b[0;32m/usr/local/lib/python2.7/dist-packages/spinn_front_end_common/interface/spinnaker_main_interface.pyc\u001b[0m in \u001b[0;36m_do_load\u001b[0;34m(self)\u001b[0m\n\u001b[1;32m   1091\u001b[0m \u001b[0;34m\u001b[0m\u001b[0m\n\u001b[1;32m   1092\u001b[0m         executor = self._run_machine_algorithms(\n\u001b[0;32m-> 1093\u001b[0;31m             inputs, algorithms, outputs, optional_algorithms)\n\u001b[0m\u001b[1;32m   1094\u001b[0m         \u001b[0mself\u001b[0m\u001b[0;34m.\u001b[0m\u001b[0m_load_outputs\u001b[0m \u001b[0;34m=\u001b[0m \u001b[0mexecutor\u001b[0m\u001b[0;34m.\u001b[0m\u001b[0mget_items\u001b[0m\u001b[0;34m(\u001b[0m\u001b[0;34m)\u001b[0m\u001b[0;34m\u001b[0m\u001b[0m\n\u001b[1;32m   1095\u001b[0m         \u001b[0mself\u001b[0m\u001b[0;34m.\u001b[0m\u001b[0m_pacman_provenance\u001b[0m\u001b[0;34m.\u001b[0m\u001b[0mextract_provenance\u001b[0m\u001b[0;34m(\u001b[0m\u001b[0mexecutor\u001b[0m\u001b[0;34m)\u001b[0m\u001b[0;34m\u001b[0m\u001b[0m\n",
      "\u001b[0;32m/usr/local/lib/python2.7/dist-packages/spinn_front_end_common/interface/spinnaker_main_interface.pyc\u001b[0m in \u001b[0;36m_run_machine_algorithms\u001b[0;34m(self, inputs, algorithms, outputs, optional_algorithms)\u001b[0m\n\u001b[1;32m    652\u001b[0m             self._machine_allocation_controller = executor.get_item(\n\u001b[1;32m    653\u001b[0m                 \"MachineAllocationController\")\n\u001b[0;32m--> 654\u001b[0;31m             \u001b[0mself\u001b[0m\u001b[0;34m.\u001b[0m\u001b[0m_shutdown\u001b[0m\u001b[0;34m(\u001b[0m\u001b[0;34m)\u001b[0m\u001b[0;34m\u001b[0m\u001b[0m\n\u001b[0m\u001b[1;32m    655\u001b[0m             \u001b[0mex_type\u001b[0m\u001b[0;34m,\u001b[0m \u001b[0mex_value\u001b[0m\u001b[0;34m,\u001b[0m \u001b[0mex_traceback\u001b[0m \u001b[0;34m=\u001b[0m \u001b[0msys\u001b[0m\u001b[0;34m.\u001b[0m\u001b[0mexc_info\u001b[0m\u001b[0;34m(\u001b[0m\u001b[0;34m)\u001b[0m\u001b[0;34m\u001b[0m\u001b[0m\n\u001b[1;32m    656\u001b[0m             \u001b[0;32mraise\u001b[0m \u001b[0mex_type\u001b[0m\u001b[0;34m,\u001b[0m \u001b[0mex_value\u001b[0m\u001b[0;34m,\u001b[0m \u001b[0mex_traceback\u001b[0m\u001b[0;34m\u001b[0m\u001b[0m\n",
      "\u001b[0;32m/usr/local/lib/python2.7/dist-packages/spinn_front_end_common/interface/spinnaker_main_interface.pyc\u001b[0m in \u001b[0;36m_shutdown\u001b[0;34m(self, turn_off_machine, clear_routing_tables, clear_tags)\u001b[0m\n\u001b[1;32m   1676\u001b[0m             \u001b[0;32mif\u001b[0m \u001b[0mself\u001b[0m\u001b[0;34m.\u001b[0m\u001b[0m_txrx\u001b[0m \u001b[0;32mis\u001b[0m \u001b[0;32mnot\u001b[0m \u001b[0mNone\u001b[0m\u001b[0;34m:\u001b[0m\u001b[0;34m\u001b[0m\u001b[0m\n\u001b[1;32m   1677\u001b[0m \u001b[0;34m\u001b[0m\u001b[0m\n\u001b[0;32m-> 1678\u001b[0;31m                 \u001b[0mself\u001b[0m\u001b[0;34m.\u001b[0m\u001b[0m_txrx\u001b[0m\u001b[0;34m.\u001b[0m\u001b[0menable_reinjection\u001b[0m\u001b[0;34m(\u001b[0m\u001b[0mmulticast\u001b[0m\u001b[0;34m=\u001b[0m\u001b[0mFalse\u001b[0m\u001b[0;34m)\u001b[0m\u001b[0;34m\u001b[0m\u001b[0m\n\u001b[0m\u001b[1;32m   1679\u001b[0m \u001b[0;34m\u001b[0m\u001b[0m\n\u001b[1;32m   1680\u001b[0m                 \u001b[0;31m# if stopping on machine, clear iptags and\u001b[0m\u001b[0;34m\u001b[0m\u001b[0;34m\u001b[0m\u001b[0m\n",
      "\u001b[0;32m/usr/local/lib/python2.7/dist-packages/spinnman/transceiver.pyc\u001b[0m in \u001b[0;36menable_reinjection\u001b[0;34m(self, multicast, point_to_point, nearest_neighbour, fixed_route)\u001b[0m\n\u001b[1;32m   2626\u001b[0m             \u001b[0mreinjector\u001b[0m \u001b[0;34m=\u001b[0m \u001b[0mFileDataReader\u001b[0m\u001b[0;34m(\u001b[0m\u001b[0mreinjector_binary\u001b[0m\u001b[0;34m)\u001b[0m\u001b[0;34m\u001b[0m\u001b[0m\n\u001b[1;32m   2627\u001b[0m             self.execute_flood(self._reinjector_cores, reinjector,\n\u001b[0;32m-> 2628\u001b[0;31m                                _REINJECTOR_APP_ID, reinjector_size)\n\u001b[0m\u001b[1;32m   2629\u001b[0m             \u001b[0mreinjector\u001b[0m\u001b[0;34m.\u001b[0m\u001b[0mclose\u001b[0m\u001b[0;34m(\u001b[0m\u001b[0;34m)\u001b[0m\u001b[0;34m\u001b[0m\u001b[0m\n\u001b[1;32m   2630\u001b[0m             \u001b[0mself\u001b[0m\u001b[0;34m.\u001b[0m\u001b[0m_reinjection_running\u001b[0m \u001b[0;34m=\u001b[0m \u001b[0mTrue\u001b[0m\u001b[0;34m\u001b[0m\u001b[0m\n",
      "\u001b[0;32m/usr/local/lib/python2.7/dist-packages/spinnman/transceiver.pyc\u001b[0m in \u001b[0;36mexecute_flood\u001b[0;34m(self, core_subsets, executable, app_id, n_bytes)\u001b[0m\n\u001b[1;32m   1400\u001b[0m \u001b[0;34m\u001b[0m\u001b[0m\n\u001b[1;32m   1401\u001b[0m         \u001b[0;31m# Flood fill the system with the binary\u001b[0m\u001b[0;34m\u001b[0m\u001b[0;34m\u001b[0m\u001b[0m\n\u001b[0;32m-> 1402\u001b[0;31m         \u001b[0mself\u001b[0m\u001b[0;34m.\u001b[0m\u001b[0mwrite_memory_flood\u001b[0m\u001b[0;34m(\u001b[0m\u001b[0;36m0x67800000\u001b[0m\u001b[0;34m,\u001b[0m \u001b[0mexecutable\u001b[0m\u001b[0;34m,\u001b[0m \u001b[0mn_bytes\u001b[0m\u001b[0;34m)\u001b[0m\u001b[0;34m\u001b[0m\u001b[0m\n\u001b[0m\u001b[1;32m   1403\u001b[0m \u001b[0;34m\u001b[0m\u001b[0m\n\u001b[1;32m   1404\u001b[0m         \u001b[0;31m# Execute the binary on the cores on the chips where required\u001b[0m\u001b[0;34m\u001b[0m\u001b[0;34m\u001b[0m\u001b[0m\n",
      "\u001b[0;32m/usr/local/lib/python2.7/dist-packages/spinnman/transceiver.pyc\u001b[0m in \u001b[0;36mwrite_memory_flood\u001b[0;34m(self, base_address, data, n_bytes, offset)\u001b[0m\n\u001b[1;32m   1785\u001b[0m         \u001b[0;32mif\u001b[0m \u001b[0misinstance\u001b[0m\u001b[0;34m(\u001b[0m\u001b[0mdata\u001b[0m\u001b[0;34m,\u001b[0m \u001b[0mAbstractDataReader\u001b[0m\u001b[0;34m)\u001b[0m\u001b[0;34m:\u001b[0m\u001b[0;34m\u001b[0m\u001b[0m\n\u001b[1;32m   1786\u001b[0m             process.write_memory_from_reader(\n\u001b[0;32m-> 1787\u001b[0;31m                 nearest_neighbour_id, base_address, data, n_bytes)\n\u001b[0m\u001b[1;32m   1788\u001b[0m         \u001b[0;32melif\u001b[0m \u001b[0misinstance\u001b[0m\u001b[0;34m(\u001b[0m\u001b[0mdata\u001b[0m\u001b[0;34m,\u001b[0m \u001b[0mint\u001b[0m\u001b[0;34m)\u001b[0m\u001b[0;34m:\u001b[0m\u001b[0;34m\u001b[0m\u001b[0m\n\u001b[1;32m   1789\u001b[0m             \u001b[0mdata_to_write\u001b[0m \u001b[0;34m=\u001b[0m \u001b[0mstruct\u001b[0m\u001b[0;34m.\u001b[0m\u001b[0mpack\u001b[0m\u001b[0;34m(\u001b[0m\u001b[0;34m\"<I\"\u001b[0m\u001b[0;34m,\u001b[0m \u001b[0mdata\u001b[0m\u001b[0;34m)\u001b[0m\u001b[0;34m\u001b[0m\u001b[0m\n",
      "\u001b[0;32m/usr/local/lib/python2.7/dist-packages/spinnman/processes/write_memory_flood_process.pyc\u001b[0m in \u001b[0;36mwrite_memory_from_reader\u001b[0;34m(self, nearest_neighbour_id, base_address, data, n_bytes)\u001b[0m\n\u001b[1;32m     60\u001b[0m     def write_memory_from_reader(self, nearest_neighbour_id, base_address,\n\u001b[1;32m     61\u001b[0m                                  data, n_bytes):\n\u001b[0;32m---> 62\u001b[0;31m         \u001b[0mself\u001b[0m\u001b[0;34m.\u001b[0m\u001b[0m_start_flood_fill\u001b[0m\u001b[0;34m(\u001b[0m\u001b[0mn_bytes\u001b[0m\u001b[0;34m,\u001b[0m \u001b[0mnearest_neighbour_id\u001b[0m\u001b[0;34m)\u001b[0m\u001b[0;34m\u001b[0m\u001b[0m\n\u001b[0m\u001b[1;32m     63\u001b[0m \u001b[0;34m\u001b[0m\u001b[0m\n\u001b[1;32m     64\u001b[0m         \u001b[0moffset\u001b[0m \u001b[0;34m=\u001b[0m \u001b[0mbase_address\u001b[0m\u001b[0;34m\u001b[0m\u001b[0m\n",
      "\u001b[0;32m/usr/local/lib/python2.7/dist-packages/spinnman/processes/write_memory_flood_process.pyc\u001b[0m in \u001b[0;36m_start_flood_fill\u001b[0;34m(self, n_bytes, nearest_neighbour_id)\u001b[0m\n\u001b[1;32m     23\u001b[0m                                  constants.UDP_MESSAGE_MAX_SIZE))\n\u001b[1;32m     24\u001b[0m         self._send_request(\n\u001b[0;32m---> 25\u001b[0;31m             SCPFloodFillStartRequest(nearest_neighbour_id, n_blocks))\n\u001b[0m\u001b[1;32m     26\u001b[0m         \u001b[0mself\u001b[0m\u001b[0;34m.\u001b[0m\u001b[0m_finish\u001b[0m\u001b[0;34m(\u001b[0m\u001b[0;34m)\u001b[0m\u001b[0;34m\u001b[0m\u001b[0m\n\u001b[1;32m     27\u001b[0m         \u001b[0mself\u001b[0m\u001b[0;34m.\u001b[0m\u001b[0mcheck_for_error\u001b[0m\u001b[0;34m(\u001b[0m\u001b[0;34m)\u001b[0m\u001b[0;34m\u001b[0m\u001b[0m\n",
      "\u001b[0;32m/usr/local/lib/python2.7/dist-packages/spinnman/processes/abstract_multi_connection_process.pyc\u001b[0m in \u001b[0;36m_send_request\u001b[0;34m(self, request, callback, error_callback)\u001b[0m\n\u001b[1;32m     30\u001b[0m             \u001b[0mself\u001b[0m\u001b[0;34m.\u001b[0m\u001b[0m_scp_request_pipe_lines\u001b[0m\u001b[0;34m[\u001b[0m\u001b[0mconnection\u001b[0m\u001b[0;34m]\u001b[0m \u001b[0;34m=\u001b[0m \u001b[0mscp_request_set\u001b[0m\u001b[0;34m\u001b[0m\u001b[0m\n\u001b[1;32m     31\u001b[0m         self._scp_request_pipe_lines[connection].send_request(\n\u001b[0;32m---> 32\u001b[0;31m             request, callback, error_callback)\n\u001b[0m\u001b[1;32m     33\u001b[0m \u001b[0;34m\u001b[0m\u001b[0m\n\u001b[1;32m     34\u001b[0m     \u001b[0;32mdef\u001b[0m \u001b[0m_finish\u001b[0m\u001b[0;34m(\u001b[0m\u001b[0mself\u001b[0m\u001b[0;34m)\u001b[0m\u001b[0;34m:\u001b[0m\u001b[0;34m\u001b[0m\u001b[0m\n",
      "\u001b[0;32m/usr/local/lib/python2.7/dist-packages/spinnman/connections/scp_request_pipeline.pyc\u001b[0m in \u001b[0;36msend_request\u001b[0;34m(self, request, callback, error_callback)\u001b[0m\n\u001b[1;32m    128\u001b[0m         \u001b[0;31m# Send the request, keeping track of how many are sent\u001b[0m\u001b[0;34m\u001b[0m\u001b[0;34m\u001b[0m\u001b[0m\n\u001b[1;32m    129\u001b[0m         \u001b[0;31m# self._token_bucket.consume(284)\u001b[0m\u001b[0;34m\u001b[0m\u001b[0;34m\u001b[0m\u001b[0m\n\u001b[0;32m--> 130\u001b[0;31m         \u001b[0mself\u001b[0m\u001b[0;34m.\u001b[0m\u001b[0m_connection\u001b[0m\u001b[0;34m.\u001b[0m\u001b[0msend\u001b[0m\u001b[0;34m(\u001b[0m\u001b[0mrequest_data\u001b[0m\u001b[0;34m)\u001b[0m\u001b[0;34m\u001b[0m\u001b[0m\n\u001b[0m\u001b[1;32m    131\u001b[0m         \u001b[0mself\u001b[0m\u001b[0;34m.\u001b[0m\u001b[0m_in_progress\u001b[0m \u001b[0;34m+=\u001b[0m \u001b[0;36m1\u001b[0m\u001b[0;34m\u001b[0m\u001b[0m\n\u001b[1;32m    132\u001b[0m \u001b[0;34m\u001b[0m\u001b[0m\n",
      "\u001b[0;32m/usr/local/lib/python2.7/dist-packages/spinnman/connections/udp_packet_connections/udp_connection.pyc\u001b[0m in \u001b[0;36msend\u001b[0;34m(self, data)\u001b[0m\n\u001b[1;32m    236\u001b[0m             \u001b[0mself\u001b[0m\u001b[0;34m.\u001b[0m\u001b[0m_socket\u001b[0m\u001b[0;34m.\u001b[0m\u001b[0msend\u001b[0m\u001b[0;34m(\u001b[0m\u001b[0mdata\u001b[0m\u001b[0;34m)\u001b[0m\u001b[0;34m\u001b[0m\u001b[0m\n\u001b[1;32m    237\u001b[0m         \u001b[0;32mexcept\u001b[0m \u001b[0mException\u001b[0m \u001b[0;32mas\u001b[0m \u001b[0me\u001b[0m\u001b[0;34m:\u001b[0m\u001b[0;34m\u001b[0m\u001b[0m\n\u001b[0;32m--> 238\u001b[0;31m             \u001b[0;32mraise\u001b[0m \u001b[0mSpinnmanIOException\u001b[0m\u001b[0;34m(\u001b[0m\u001b[0mstr\u001b[0m\u001b[0;34m(\u001b[0m\u001b[0me\u001b[0m\u001b[0;34m)\u001b[0m\u001b[0;34m)\u001b[0m\u001b[0;34m\u001b[0m\u001b[0m\n\u001b[0m\u001b[1;32m    239\u001b[0m \u001b[0;34m\u001b[0m\u001b[0m\n\u001b[1;32m    240\u001b[0m     \u001b[0;32mdef\u001b[0m \u001b[0msend_to\u001b[0m\u001b[0;34m(\u001b[0m\u001b[0mself\u001b[0m\u001b[0;34m,\u001b[0m \u001b[0mdata\u001b[0m\u001b[0;34m,\u001b[0m \u001b[0maddress\u001b[0m\u001b[0;34m)\u001b[0m\u001b[0;34m:\u001b[0m\u001b[0;34m\u001b[0m\u001b[0m\n",
      "\u001b[0;31mSpinnmanIOException\u001b[0m: IO Error: [Errno 9] Bad file descriptor"
     ]
    }
   ],
   "source": [
    "timer.start()\n",
    "\n",
    "pynn.run(simulation_time)\n",
    "\n",
    "simCPUTime = timer.diff()\n",
    "spikes = readout_neurons.getSpikes()\n",
    "\n",
    "pynn.end()"
   ]
  },
  {
   "cell_type": "code",
   "execution_count": 21,
   "metadata": {},
   "outputs": [
    {
     "data": {
      "image/png": "[encoded data removed]",
      "text/plain": [
       "<matplotlib.figure.Figure at 0x7f2db87f4a10>"
      ]
     },
     "metadata": {},
     "output_type": "display_data"
    }
   ],
   "source": [
    "# Plot\n",
    "import pylab\n",
    "import matplotlib.pyplot as plt\n",
    "%matplotlib inline\n",
    "\n",
    "spike_times = [spike[1] for spike in spikes]\n",
    "spike_ids = [spike[0] for spike in spikes]\n",
    "\n",
    "plt.plot(spike_times, spike_ids, \".\")\n",
    "plt.xlabel('Time (ms)')\n",
    "plt.ylabel('Neuron ID')\n",
    "plt.title('Spike Plot')\n",
    "plt.xlim(xmin=0)\n",
    "plt.show()\n",
    "\n",
    "writeCPUTime = timer.diff()"
   ]
  },
  {
   "cell_type": "code",
   "execution_count": null,
   "metadata": {},
   "outputs": [],
   "source": [
    "print \"Simulation time : %g s\" % simCPUTime\n",
    "print \"Writing time : %g s\" % writeCPUTime"
   ]
  },
  {
   "cell_type": "code",
   "execution_count": null,
   "metadata": {
    "collapsed": true
   },
   "outputs": [],
   "source": []
  }
 ],
 "metadata": {
  "kernelspec": {
   "display_name": "Python 2",
   "language": "python",
   "name": "python2"
  },
  "language_info": {
   "codemirror_mode": {
    "name": "ipython",
    "version": 2
   },
   "file_extension": ".py",
   "mimetype": "text/x-python",
   "name": "python",
   "nbconvert_exporter": "python",
   "pygments_lexer": "ipython2",
   "version": "2.7.12"
  }
 },
 "nbformat": 4,
 "nbformat_minor": 2
}
