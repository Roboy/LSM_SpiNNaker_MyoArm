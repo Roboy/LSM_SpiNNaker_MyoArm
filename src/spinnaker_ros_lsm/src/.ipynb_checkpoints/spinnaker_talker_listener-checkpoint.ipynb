{
 "cells": [
  {
   "cell_type": "code",
   "execution_count": null,
   "metadata": {
    "collapsed": true
   },
   "outputs": [],
   "source": [
    "import rospy\n",
    "from std_msgs.msg import Int64\n",
    "from IPython.display import clear_output"
   ]
  },
  {
   "cell_type": "code",
   "execution_count": null,
   "metadata": {},
   "outputs": [],
   "source": [
    "rospy.init_node('spinnaker_myoarm_interface')\n",
    "rate = rospy.Rate(0.1) # 10 Hz input frequency\n",
    "rospy.loginfo('starting-------------')\n",
    "global start_flag\n",
    "start_flag=True "
   ]
  },
  {
   "cell_type": "code",
   "execution_count": null,
   "metadata": {
    "collapsed": true
   },
   "outputs": [],
   "source": [
    "def callback(data_input):\n",
    "    global start_flag\n",
    "    readout_spikes = data_input.data\n",
    "    rospy.loginfo('Received '+str(readout_spikes)+' spikes')\n",
    "    input_spikes  = Int64()\n",
    "    \n",
    "    if start_flag:\n",
    "        input_spikes.data=20\n",
    "        start_flag=False\n",
    "    else:\n",
    "        input_spikes.data= readout_spikes*2\n",
    "    \n",
    "    \n",
    "    #clear_output()\n",
    "    rospy.loginfo('Sending input spikes: '+str(input_spikes.data))\n",
    "    pub.publish(input_spikes)\n",
    "    rospy.sleep(4)\n",
    "      \n",
    "    "
   ]
  },
  {
   "cell_type": "code",
   "execution_count": null,
   "metadata": {},
   "outputs": [],
   "source": [
    "rospy.Subscriber(\"/from_spinnaker\", Int64, callback)\n",
    "pub=rospy.Publisher(\"/to_spinnaker\", Int64, queue_size=5)"
   ]
  },
  {
   "cell_type": "code",
   "execution_count": null,
   "metadata": {
    "collapsed": true
   },
   "outputs": [],
   "source": [
    "rospy.spin()"
   ]
  }
 ],
 "metadata": {
  "kernelspec": {
   "display_name": "Python 2",
   "language": "python",
   "name": "python2"
  },
  "language_info": {
   "codemirror_mode": {
    "name": "ipython",
    "version": 2
   },
   "file_extension": ".py",
   "mimetype": "text/x-python",
   "name": "python",
   "nbconvert_exporter": "python",
   "pygments_lexer": "ipython2",
   "version": "2.7.12"
  }
 },
 "nbformat": 4,
 "nbformat_minor": 2
}
