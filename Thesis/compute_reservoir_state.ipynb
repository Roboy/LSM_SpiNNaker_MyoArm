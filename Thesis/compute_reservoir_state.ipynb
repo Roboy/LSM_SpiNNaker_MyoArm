{
 "cells": [
  {
   "cell_type": "code",
   "execution_count": 1,
   "metadata": {
    "collapsed": false
   },
   "outputs": [
    {
     "data": {
      "text/plain": [
       "0"
      ]
     },
     "execution_count": 1,
     "metadata": {},
     "output_type": "execute_result"
    }
   ],
   "source": [
    "import pyNN.nest as p\n",
    "from pyNN.random import NumpyRNG, RandomDistribution\n",
    "from pyNN.utility import Timer\n",
    "import pylab\n",
    "import numpy as np\n",
    "import matplotlib.pyplot as plt\n",
    "%matplotlib inline\n",
    "\n",
    "timer = Timer()\n",
    "ts = 0.1\n",
    "simulation_time = 20\n",
    "\n",
    "#p.setup(timestep=ts, min_delay=ts, max_delay=2.0*ts) # 0.1ms \n",
    "p.setup(timestep=ts) # 0.1ms\n",
    "\n"
   ]
  },
  {
   "cell_type": "code",
   "execution_count": 2,
   "metadata": {
    "collapsed": true
   },
   "outputs": [],
   "source": [
    "def compute_network_state(n_res, w_exc_b, w_inh_b, rout_w_exc, rout_w_inh, inp_rate):\n",
    "    n_input_neurons     = 10\n",
    "    n_readout_neurons   = 2\n",
    "    n_reservoir_neurons = n_res\n",
    "    exc_rate            = 0.8 # % of excitatory neurons in reservoir\n",
    "\n",
    "    n_exc = int(round(n_reservoir_neurons*exc_rate))\n",
    "    n_inh = n_reservoir_neurons-n_exc\n",
    "    izh_celltype = p.native_cell_type('izhikevich')\n",
    "    if_celltype = p.IF_curr_exp\n",
    "    celltype = izh_celltype\n",
    "    \n",
    "    spike_source = p.native_cell_type('poisson_generator')\n",
    "    inp_pop=p.Population(n_input_neurons,spike_source,{'rate':inp_rate})\n",
    "    \n",
    "    exc_cells = p.Population(n_exc, celltype, label=\"Excitatory_Cells\")\n",
    "    inh_cells = p.Population(n_inh, celltype, label=\"Inhibitory_Cells\")\n",
    "\n",
    "    # initialize with a uniform random distributin\n",
    "    # use seeding for reproducability\n",
    "    rngseed = 98766987\n",
    "    parallel_safe = True\n",
    "    rng = NumpyRNG(seed=rngseed, parallel_safe=parallel_safe)\n",
    "\n",
    "    unifDistr = RandomDistribution('uniform', (-70,-65), rng=rng)\n",
    "    inh_cells.initialize('V_m',unifDistr)\n",
    "    exc_cells.initialize('V_m',unifDistr)\n",
    "    \n",
    "    readout_neurons = p.Population(2, celltype, label=\"readout_neuron\")\n",
    "    \n",
    "    inp_weight=3.\n",
    "    inp_delay =1\n",
    "\n",
    "    inp_weight_distr = RandomDistribution('normal', [inp_weight, 1e-3], rng=rng)\n",
    "\n",
    "    # connect each input neuron to 30% of the reservoir neurons\n",
    "    inp_conn = p.FixedProbabilityConnector(p_connect=0.3,weights =inp_weight_distr, delays=inp_delay)\n",
    "\n",
    "    connections = {}\n",
    "    connections['inp2e'] = p.Projection(inp_pop, exc_cells, inp_conn)\n",
    "    connections['inp2i'] = p.Projection(inp_pop, inh_cells, inp_conn)\n",
    "\n",
    "    pconn = 0.01      # sparse connection probability\n",
    "\n",
    "    # scale the weights w.r.t. the network to keep it stable\n",
    "    w_exc = w_exc_b/np.sqrt(n_exc)      # nA\n",
    "    w_inh = w_inh_b/np.sqrt(n_inh)   # nA\n",
    "    delay_exc = 1      # defines how long (ms) the synapse takes for transmission\n",
    "    delay_inh = 1\n",
    "\n",
    "    weight_distr_exc = RandomDistribution('normal', [w_exc, 1e-3/n_exc], rng=rng)\n",
    "    weight_distr_inh = RandomDistribution('normal', [w_inh, 1e-3/n_inh], rng=rng)\n",
    "    exc_conn = p.FixedProbabilityConnector(pconn, weights=weight_distr_exc, delays=delay_exc)\n",
    "    inh_conn = p.FixedProbabilityConnector(pconn, weights=weight_distr_inh, delays=delay_inh)\n",
    "\n",
    "    # TODO rng=rng; receptor_type = ...\n",
    "    connections['e2e'] = p.Projection(exc_cells, exc_cells, exc_conn, target='excitatory')\n",
    "    connections['e2i'] = p.Projection(exc_cells, inh_cells, exc_conn, target='excitatory')\n",
    "    connections['i2e'] = p.Projection(inh_cells, exc_cells, inh_conn, target='inhibitory')\n",
    "    connections['i2i'] = p.Projection(inh_cells, inh_cells, inh_conn, target='inhibitory')\n",
    "    \n",
    "    #rout_w_exc = 20   # nA\n",
    "    #rout_w_inh = -80   # nA\n",
    "    # 20, -51\n",
    "\n",
    "    rout_conn_exc = p.AllToAllConnector(weights=rout_w_exc, delays=delay_exc)\n",
    "    rout_conn_inh = p.AllToAllConnector(weights=rout_w_inh, delays=delay_exc)\n",
    "\n",
    "\n",
    "    connections['e2rout'] = p.Projection(exc_cells, readout_neurons, rout_conn_exc, target='excitatory')\n",
    "    connections['i2rout'] = p.Projection(inh_cells, readout_neurons, rout_conn_inh, target='inhibitory')\n",
    "    \n",
    "    readout_neurons.record()\n",
    "    exc_cells.record()\n",
    "    \n",
    "    p.run(simulation_time)\n",
    "\n",
    "    r_spikes = readout_neurons.getSpikes()\n",
    "    exc_spikes = exc_cells.getSpikes()\n",
    "\n",
    "    p.end()\n",
    "    \n",
    "    return r_spikes, exc_spikes"
   ]
  },
  {
   "cell_type": "code",
   "execution_count": 3,
   "metadata": {
    "collapsed": false
   },
   "outputs": [],
   "source": [
    "n_res=200\n",
    "w_exc_b=2\n",
    "w_inh_b=-8\n",
    "rout_w_exc=20\n",
    "rout_w_inh=-80\n",
    "inp_rate=10.0\n",
    "\n",
    "r_spikes, exc_spikes = compute_network_state(n_res, w_exc_b, w_inh_b, rout_w_exc, rout_w_inh, inp_rate)\n"
   ]
  },
  {
   "cell_type": "code",
   "execution_count": 4,
   "metadata": {
    "collapsed": true
   },
   "outputs": [],
   "source": [
    "def plot_spikes(spiketrain):\n",
    "    st = [spike[1] for spike in spiketrain] # spike times\n",
    "    sid = [spike[0] for spike in spiketrain]\n",
    "\n",
    "    plt.plot(st, sid, \"|\")\n",
    "    plt.axis([np.min(st), np.max(st), np.min(sid)-1, np.max(sid)+1])\n",
    "    plt.xlabel('Time (ms)')\n",
    "    plt.ylabel('Neuron ID')\n",
    "    plt.title('Spike Plot')\n",
    "    plt.xlim(xmin=0)\n",
    "    plt.show()"
   ]
  },
  {
   "cell_type": "code",
   "execution_count": 5,
   "metadata": {
    "collapsed": false
   },
   "outputs": [
    {
     "data": {
      "image/png": "[encoded data removed]",
      "text/plain": [
       "<matplotlib.figure.Figure at 0x7fbd550dce50>"
      ]
     },
     "metadata": {},
     "output_type": "display_data"
    }
   ],
   "source": [
    "plot_spikes(exc_spikes)"
   ]
  },
  {
   "cell_type": "code",
   "execution_count": 6,
   "metadata": {
    "collapsed": false
   },
   "outputs": [
    {
     "data": {
      "image/png": "[encoded data removed]",
      "text/plain": [
       "<matplotlib.figure.Figure at 0x7fbd6569f210>"
      ]
     },
     "metadata": {},
     "output_type": "display_data"
    }
   ],
   "source": [
    "plot_spikes(r_spikes)"
   ]
  },
  {
   "cell_type": "code",
   "execution_count": 7,
   "metadata": {
    "collapsed": false
   },
   "outputs": [
    {
     "data": {
      "text/plain": [
       "[2.2000000000000002,\n",
       " 2.2000000000000002,\n",
       " 2.2999999999999998,\n",
       " 2.2999999999999998,\n",
       " 2.6000000000000001,\n",
       " 2.6000000000000001,\n",
       " 2.7000000000000002,\n",
       " 2.7000000000000002,\n",
       " 2.8999999999999999,\n",
       " 2.8999999999999999]"
      ]
     },
     "execution_count": 7,
     "metadata": {},
     "output_type": "execute_result"
    }
   ],
   "source": [
    "st = [spike[1] for spike in r_spikes]\n",
    "st[:10]\n"
   ]
  },
  {
   "cell_type": "code",
   "execution_count": 8,
   "metadata": {
    "collapsed": false
   },
   "outputs": [
    {
     "data": {
      "text/plain": [
       "array([[ 0. ,  2.2],\n",
       "       [ 1. ,  2.2],\n",
       "       [ 0. ,  2.3],\n",
       "       [ 1. ,  2.3],\n",
       "       [ 0. ,  2.6],\n",
       "       [ 1. ,  2.6],\n",
       "       [ 0. ,  2.7],\n",
       "       [ 1. ,  2.7],\n",
       "       [ 0. ,  2.9],\n",
       "       [ 1. ,  2.9]])"
      ]
     },
     "execution_count": 8,
     "metadata": {},
     "output_type": "execute_result"
    }
   ],
   "source": [
    "r_spikes[:10]"
   ]
  },
  {
   "cell_type": "code",
   "execution_count": 9,
   "metadata": {
    "collapsed": false
   },
   "outputs": [
    {
     "data": {
      "text/plain": [
       "(286, 2)"
      ]
     },
     "execution_count": 9,
     "metadata": {},
     "output_type": "execute_result"
    }
   ],
   "source": [
    "np.shape(r_spikes)"
   ]
  },
  {
   "cell_type": "code",
   "execution_count": 10,
   "metadata": {
    "collapsed": false
   },
   "outputs": [
    {
     "data": {
      "text/plain": [
       "(8322, 2)"
      ]
     },
     "execution_count": 10,
     "metadata": {},
     "output_type": "execute_result"
    }
   ],
   "source": [
    "np.shape(exc_spikes)"
   ]
  },
  {
   "cell_type": "code",
   "execution_count": 11,
   "metadata": {
    "collapsed": true
   },
   "outputs": [],
   "source": [
    "def get_spike_rates(spikes):\n",
    "    \"\"\"returns the rates of all neurons in the recorded population\"\"\"\n",
    "    shape=np.shape(spikes)\n",
    "    spike_rates=np.zeros((int(np.max(spikes[:,0]))+1,))\n",
    "    for i in range(shape[0]): # for each spikes\n",
    "        for j in range(int(np.max(spikes[:,0]))+1): #for each neuron\n",
    "            if spikes[i,0]==j:\n",
    "                spike_rates[j]+=1\n",
    "    return spike_rates"
   ]
  },
  {
   "cell_type": "code",
   "execution_count": 12,
   "metadata": {
    "collapsed": false
   },
   "outputs": [
    {
     "data": {
      "text/plain": [
       "array([ 143.,  143.])"
      ]
     },
     "execution_count": 12,
     "metadata": {},
     "output_type": "execute_result"
    }
   ],
   "source": [
    "spike_rates=get_spike_rates(r_spikes)\n",
    "spike_rates"
   ]
  },
  {
   "cell_type": "code",
   "execution_count": 13,
   "metadata": {
    "collapsed": false
   },
   "outputs": [
    {
     "data": {
      "text/plain": [
       "array([   2.,   88.,   57.,  113.,   58.,   78.,   81.,    4.,   52.,\n",
       "         69.,   93.,   81.,    1.,    0.,    1.,   48.,   58.,   66.,\n",
       "         82.,   76.,    2.,    0.,    0.,   56.,   70.,    1.,    1.,\n",
       "          0.,  100.,    5.,   81.,    0.,   73.,   88.,   94.,   50.,\n",
       "          0.,   91.,   90.,   43.,   97.,    0.,   61.,   67.,   97.,\n",
       "         81.,    0.,   51.,    0.,   83.,   94.,   92.,   78.,    0.,\n",
       "         86.,   57.,    0.,   77.,   94.,   99.,   66.,    1.,    1.,\n",
       "          0.,   88.,    0.,   71.,  109.,    1.,   76.,   76.,   68.,\n",
       "        118.,   64.,   97.,   89.,   75.,    1.,   87.,   62.,    1.,\n",
       "         63.,   51.,    0.,   75.,   68.,    0.,    3.,   66.,   46.,\n",
       "         89.,    2.,   91.,   86.,   79.,   82.,    0.,   50.,    3.,\n",
       "         89.,    7.,   77.,    1.,   76.,    0.,  111.,   97.,    1.,\n",
       "         88.,   74.,   87.,   72.,   89.,   39.,  108.,   77.,   83.,\n",
       "          0.,   61.,   51.,    3.,    0.,  110.,    1.,   86.,    1.,\n",
       "          1.,    1.,   85.,   73.,    1.,   83.,   54.,    0.,   89.,\n",
       "         65.,   68.,   51.,   79.,   84.,    1.,   60.,    0.,   96.,\n",
       "         84.,   58.,   83.,    0.,    4.,  112.,  108.,   73.,    1.,\n",
       "         53.,   90.,   37.,    1.,   66.])"
      ]
     },
     "execution_count": 13,
     "metadata": {},
     "output_type": "execute_result"
    }
   ],
   "source": [
    "res_rates=get_spike_rates(exc_spikes)\n",
    "res_rates"
   ]
  },
  {
   "cell_type": "code",
   "execution_count": 14,
   "metadata": {
    "collapsed": false
   },
   "outputs": [],
   "source": [
    "# separability: different input signals (1. rates, 2. time series of rates)\n",
    "# must lead to different reservoir state vectors\n",
    "# needs a distance metric"
   ]
  },
  {
   "cell_type": "code",
   "execution_count": null,
   "metadata": {
    "collapsed": true
   },
   "outputs": [],
   "source": [
    "n_res=200\n",
    "w_exc_b=2\n",
    "w_inh_b=-8\n",
    "rout_w_exc=20\n",
    "rout_w_inh=-80\n",
    "inp_rate=20.0\n",
    "\n",
    "r_spikes2, exc_spikes2 = compute_network_state(n_res, w_exc_b, w_inh_b, rout_w_exc, rout_w_inh, inp_rate)\n"
   ]
  },
  {
   "cell_type": "code",
   "execution_count": null,
   "metadata": {
    "collapsed": true
   },
   "outputs": [],
   "source": [
    "# todo: kernel stops when rerunning compute_network_state\n"
   ]
  }
 ],
 "metadata": {
  "kernelspec": {
   "display_name": "Python 2",
   "language": "python",
   "name": "python2"
  },
  "language_info": {
   "codemirror_mode": {
    "name": "ipython",
    "version": 2
   },
   "file_extension": ".py",
   "mimetype": "text/x-python",
   "name": "python",
   "nbconvert_exporter": "python",
   "pygments_lexer": "ipython2",
   "version": "2.7.12"
  }
 },
 "nbformat": 4,
 "nbformat_minor": 1
}
